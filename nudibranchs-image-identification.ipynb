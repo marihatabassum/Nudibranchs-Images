{
 "cells": [
  {
   "cell_type": "code",
   "execution_count": 2,
   "metadata": {
    "executionInfo": {
     "elapsed": 3417,
     "status": "ok",
     "timestamp": 1636224730447,
     "user": {
      "displayName": "Mariha Tabassum",
      "photoUrl": "https://lh3.googleusercontent.com/a-/AOh14Gjwsopeh-iYNtF4s4wBJmiMIRSh1UxQO_hmmDWRoQ=s64",
      "userId": "00329422506247154064"
     },
     "user_tz": -360
    },
    "id": "kHF9mfXdRzoj"
   },
   "outputs": [],
   "source": [
    "!pip install jovian --upgrade --quiet\n",
    "import jovian"
   ]
  },
  {
   "cell_type": "code",
   "execution_count": 3,
   "metadata": {
    "colab": {
     "base_uri": "https://localhost:8080/"
    },
    "executionInfo": {
     "elapsed": 10754,
     "status": "ok",
     "timestamp": 1636224741196,
     "user": {
      "displayName": "Mariha Tabassum",
      "photoUrl": "https://lh3.googleusercontent.com/a-/AOh14Gjwsopeh-iYNtF4s4wBJmiMIRSh1UxQO_hmmDWRoQ=s64",
      "userId": "00329422506247154064"
     },
     "user_tz": -360
    },
    "id": "u9dnT9GBRzok",
    "outputId": "d156b01f-3774-4cd9-ecbc-d815546a5cd8"
   },
   "outputs": [
    {
     "name": "stdout",
     "output_type": "stream",
     "text": [
      "Requirement already satisfied: matplotlib in /usr/local/lib/python3.7/dist-packages (3.2.2)\n",
      "Requirement already satisfied: numpy>=1.11 in /usr/local/lib/python3.7/dist-packages (from matplotlib) (1.21.4)\n",
      "Requirement already satisfied: python-dateutil>=2.1 in /usr/local/lib/python3.7/dist-packages (from matplotlib) (2.8.2)\n",
      "Requirement already satisfied: pyparsing!=2.0.4,!=2.1.2,!=2.1.6,>=2.0.1 in /usr/local/lib/python3.7/dist-packages (from matplotlib) (2.4.7)\n",
      "Requirement already satisfied: cycler>=0.10 in /usr/local/lib/python3.7/dist-packages (from matplotlib) (0.10.0)\n",
      "Requirement already satisfied: kiwisolver>=1.0.1 in /usr/local/lib/python3.7/dist-packages (from matplotlib) (1.3.2)\n",
      "Requirement already satisfied: six in /usr/local/lib/python3.7/dist-packages (from cycler>=0.10->matplotlib) (1.15.0)\n"
     ]
    }
   ],
   "source": [
    "!pip install numpy --upgrade --quiet\n",
    "import numpy as np\n",
    "!pip install pandas --upgrade --quiet\n",
    "import pandas as pd\n",
    "!pip install matplotlib \n",
    "import matplotlib.pyplot as plt"
   ]
  },
  {
   "cell_type": "code",
   "execution_count": 4,
   "metadata": {
    "executionInfo": {
     "elapsed": 38,
     "status": "ok",
     "timestamp": 1636224741200,
     "user": {
      "displayName": "Mariha Tabassum",
      "photoUrl": "https://lh3.googleusercontent.com/a-/AOh14Gjwsopeh-iYNtF4s4wBJmiMIRSh1UxQO_hmmDWRoQ=s64",
      "userId": "00329422506247154064"
     },
     "user_tz": -360
    },
    "id": "nteVRMVGRzon"
   },
   "outputs": [],
   "source": [
    "project_name = \"nudibranchs-image-species-identificaion\""
   ]
  },
  {
   "cell_type": "code",
   "execution_count": 5,
   "metadata": {
    "executionInfo": {
     "elapsed": 37,
     "status": "ok",
     "timestamp": 1636224741201,
     "user": {
      "displayName": "Mariha Tabassum",
      "photoUrl": "https://lh3.googleusercontent.com/a-/AOh14Gjwsopeh-iYNtF4s4wBJmiMIRSh1UxQO_hmmDWRoQ=s64",
      "userId": "00329422506247154064"
     },
     "user_tz": -360
    },
    "id": "7I5LBY_dRzop"
   },
   "outputs": [],
   "source": [
    "import os"
   ]
  },
  {
   "cell_type": "markdown",
   "metadata": {
    "id": "Ry8cydWVRzop"
   },
   "source": [
    "### Making a Custom Dataset!! "
   ]
  },
  {
   "cell_type": "code",
   "execution_count": 6,
   "metadata": {
    "executionInfo": {
     "elapsed": 25238,
     "status": "ok",
     "timestamp": 1636224766402,
     "user": {
      "displayName": "Mariha Tabassum",
      "photoUrl": "https://lh3.googleusercontent.com/a-/AOh14Gjwsopeh-iYNtF4s4wBJmiMIRSh1UxQO_hmmDWRoQ=s64",
      "userId": "00329422506247154064"
     },
     "user_tz": -360
    },
    "id": "h0TMfGhuRzoq"
   },
   "outputs": [],
   "source": [
    "import torch\n",
    "from torch.utils.data import Dataset #to make a custom dataset\n",
    "import torch.nn as nn #all neuarl network modules, nn.Linear, nn.conv2d, BatchNorm, Loss functions!\n",
    "import torch.optim as optim   #for al optimization algorithms, SGD, Adam, etc.\n",
    "import torch.nn.functional as F\n",
    "import torchvision.transforms as transforms #transformations we can perform on our dataset!\n",
    "import torchvision\n",
    "from torch.utils.data import DataLoader, TensorDataset  #Gives easier dataset management and creates mini batches! #check the spelling!\n",
    "from torch.utils.data import random_split\n"
   ]
  },
  {
   "cell_type": "code",
   "execution_count": 7,
   "metadata": {
    "colab": {
     "base_uri": "https://localhost:8080/"
    },
    "executionInfo": {
     "elapsed": 88,
     "status": "ok",
     "timestamp": 1636224766403,
     "user": {
      "displayName": "Mariha Tabassum",
      "photoUrl": "https://lh3.googleusercontent.com/a-/AOh14Gjwsopeh-iYNtF4s4wBJmiMIRSh1UxQO_hmmDWRoQ=s64",
      "userId": "00329422506247154064"
     },
     "user_tz": -360
    },
    "id": "DTaRO6cNRzor",
    "outputId": "907fee84-d9c1-4153-bad5-7f99a42d8578"
   },
   "outputs": [
    {
     "name": "stdout",
     "output_type": "stream",
     "text": [
      "Help on package torch.utils.data in torch.utils:\n",
      "\n",
      "NAME\n",
      "    torch.utils.data\n",
      "\n",
      "PACKAGE CONTENTS\n",
      "    _decorator\n",
      "    _typing\n",
      "    _utils (package)\n",
      "    dataloader\n",
      "    datapipes (package)\n",
      "    dataset\n",
      "    distributed\n",
      "    sampler\n",
      "\n",
      "CLASSES\n",
      "    builtins.object\n",
      "        torch.utils.data._decorator.functional_datapipe\n",
      "        torch.utils.data._decorator.guaranteed_datapipes_determinism\n",
      "        torch.utils.data._decorator.non_deterministic\n",
      "        torch.utils.data._decorator.runtime_validation_disabled\n",
      "        torch.utils.data.dataloader._DatasetKind\n",
      "    typing.Generic(builtins.object)\n",
      "        torch.utils.data.dataloader.DataLoader\n",
      "        torch.utils.data.dataset.Dataset\n",
      "            torch.utils.data.dataset.ConcatDataset\n",
      "            torch.utils.data.dataset.IterableDataset\n",
      "                torch.utils.data.dataset.ChainDataset\n",
      "            torch.utils.data.dataset.Subset\n",
      "            torch.utils.data.dataset.TensorDataset\n",
      "        torch.utils.data.sampler.Sampler\n",
      "            torch.utils.data.distributed.DistributedSampler\n",
      "            torch.utils.data.sampler.BatchSampler\n",
      "            torch.utils.data.sampler.RandomSampler\n",
      "            torch.utils.data.sampler.SequentialSampler\n",
      "            torch.utils.data.sampler.SubsetRandomSampler\n",
      "            torch.utils.data.sampler.WeightedRandomSampler\n",
      "    \n",
      "    class BatchSampler(Sampler)\n",
      "     |  BatchSampler(*args, **kwds)\n",
      "     |  \n",
      "     |  Wraps another sampler to yield a mini-batch of indices.\n",
      "     |  \n",
      "     |  Args:\n",
      "     |      sampler (Sampler or Iterable): Base sampler. Can be any iterable object\n",
      "     |      batch_size (int): Size of mini-batch.\n",
      "     |      drop_last (bool): If ``True``, the sampler will drop the last batch if\n",
      "     |          its size would be less than ``batch_size``\n",
      "     |  \n",
      "     |  Example:\n",
      "     |      >>> list(BatchSampler(SequentialSampler(range(10)), batch_size=3, drop_last=False))\n",
      "     |      [[0, 1, 2], [3, 4, 5], [6, 7, 8], [9]]\n",
      "     |      >>> list(BatchSampler(SequentialSampler(range(10)), batch_size=3, drop_last=True))\n",
      "     |      [[0, 1, 2], [3, 4, 5], [6, 7, 8]]\n",
      "     |  \n",
      "     |  Method resolution order:\n",
      "     |      BatchSampler\n",
      "     |      Sampler\n",
      "     |      typing.Generic\n",
      "     |      builtins.object\n",
      "     |  \n",
      "     |  Methods defined here:\n",
      "     |  \n",
      "     |  __init__(self, sampler: torch.utils.data.sampler.Sampler[int], batch_size: int, drop_last: bool) -> None\n",
      "     |      Initialize self.  See help(type(self)) for accurate signature.\n",
      "     |  \n",
      "     |  __iter__(self) -> Iterator[List[int]]\n",
      "     |  \n",
      "     |  __len__(self) -> int\n",
      "     |  \n",
      "     |  ----------------------------------------------------------------------\n",
      "     |  Data and other attributes defined here:\n",
      "     |  \n",
      "     |  __orig_bases__ = (torch.utils.data.sampler.Sampler[typing.List[int]],)\n",
      "     |  \n",
      "     |  __parameters__ = ()\n",
      "     |  \n",
      "     |  ----------------------------------------------------------------------\n",
      "     |  Data descriptors inherited from Sampler:\n",
      "     |  \n",
      "     |  __dict__\n",
      "     |      dictionary for instance variables (if defined)\n",
      "     |  \n",
      "     |  __weakref__\n",
      "     |      list of weak references to the object (if defined)\n",
      "     |  \n",
      "     |  ----------------------------------------------------------------------\n",
      "     |  Class methods inherited from typing.Generic:\n",
      "     |  \n",
      "     |  __class_getitem__(params) from builtins.type\n",
      "     |  \n",
      "     |  __init_subclass__(*args, **kwargs) from builtins.type\n",
      "     |      This method is called when a class is subclassed.\n",
      "     |      \n",
      "     |      The default implementation does nothing. It may be\n",
      "     |      overridden to extend subclasses.\n",
      "     |  \n",
      "     |  ----------------------------------------------------------------------\n",
      "     |  Static methods inherited from typing.Generic:\n",
      "     |  \n",
      "     |  __new__(cls, *args, **kwds)\n",
      "     |      Create and return a new object.  See help(type) for accurate signature.\n",
      "    \n",
      "    class ChainDataset(IterableDataset)\n",
      "     |  ChainDataset(*args, **kwds)\n",
      "     |  \n",
      "     |  Dataset for chainning multiple :class:`IterableDataset` s.\n",
      "     |  \n",
      "     |  This class is useful to assemble different existing dataset streams. The\n",
      "     |  chainning operation is done on-the-fly, so concatenating large-scale\n",
      "     |  datasets with this class will be efficient.\n",
      "     |  \n",
      "     |  Args:\n",
      "     |      datasets (iterable of IterableDataset): datasets to be chained together\n",
      "     |  \n",
      "     |  Method resolution order:\n",
      "     |      ChainDataset\n",
      "     |      IterableDataset\n",
      "     |      Dataset\n",
      "     |      typing.Generic\n",
      "     |      builtins.object\n",
      "     |  \n",
      "     |  Methods defined here:\n",
      "     |  \n",
      "     |  __init__(self, datasets: Iterable[torch.utils.data.dataset.Dataset]) -> None\n",
      "     |      Initialize self.  See help(type(self)) for accurate signature.\n",
      "     |  \n",
      "     |  __iter__(self)\n",
      "     |  \n",
      "     |  __len__(self)\n",
      "     |  \n",
      "     |  ----------------------------------------------------------------------\n",
      "     |  Data and other attributes defined here:\n",
      "     |  \n",
      "     |  __abstractmethods__ = frozenset()\n",
      "     |  \n",
      "     |  __type_class__ = False\n",
      "     |  \n",
      "     |  ----------------------------------------------------------------------\n",
      "     |  Methods inherited from IterableDataset:\n",
      "     |  \n",
      "     |  __add__(self, other: torch.utils.data.dataset.Dataset[+T_co])\n",
      "     |  \n",
      "     |  __getattr__(self, attribute_name)\n",
      "     |  \n",
      "     |  __reduce_ex__(self, *args, **kwargs)\n",
      "     |      Helper for pickle.\n",
      "     |  \n",
      "     |  ----------------------------------------------------------------------\n",
      "     |  Class methods inherited from IterableDataset:\n",
      "     |  \n",
      "     |  __init_subclass__ = _dp_init_subclass(*args, **kwargs) from torch.utils.data._typing._DataPipeMeta\n",
      "     |  \n",
      "     |  register_datapipe_as_function(function_name, cls_to_register) from torch.utils.data._typing._DataPipeMeta\n",
      "     |  \n",
      "     |  register_function(function_name, function) from torch.utils.data._typing._DataPipeMeta\n",
      "     |  \n",
      "     |  set_reduce_ex_hook(hook_fn) from torch.utils.data._typing._DataPipeMeta\n",
      "     |  \n",
      "     |  ----------------------------------------------------------------------\n",
      "     |  Data and other attributes inherited from IterableDataset:\n",
      "     |  \n",
      "     |  __annotations__ = {'functions': typing.Dict[str, typing.Callable], 're...\n",
      "     |  \n",
      "     |  __orig_bases__ = (torch.utils.data.dataset.Dataset[+T_co],)\n",
      "     |  \n",
      "     |  __parameters__ = (+T_co,)\n",
      "     |  \n",
      "     |  functions = {'batch': functools.partial(<function IterableDataset.regi...\n",
      "     |  \n",
      "     |  reduce_ex_hook = None\n",
      "     |  \n",
      "     |  type = typing.Generic[+T_co]\n",
      "     |  \n",
      "     |  ----------------------------------------------------------------------\n",
      "     |  Methods inherited from Dataset:\n",
      "     |  \n",
      "     |  __getitem__(self, index) -> +T_co\n",
      "     |  \n",
      "     |  ----------------------------------------------------------------------\n",
      "     |  Data descriptors inherited from Dataset:\n",
      "     |  \n",
      "     |  __dict__\n",
      "     |      dictionary for instance variables (if defined)\n",
      "     |  \n",
      "     |  __weakref__\n",
      "     |      list of weak references to the object (if defined)\n",
      "     |  \n",
      "     |  ----------------------------------------------------------------------\n",
      "     |  Class methods inherited from typing.Generic:\n",
      "     |  \n",
      "     |  __class_getitem__(params) from torch.utils.data._typing._DataPipeMeta\n",
      "     |  \n",
      "     |  ----------------------------------------------------------------------\n",
      "     |  Static methods inherited from typing.Generic:\n",
      "     |  \n",
      "     |  __new__(cls, *args, **kwds)\n",
      "     |      Create and return a new object.  See help(type) for accurate signature.\n",
      "    \n",
      "    class ConcatDataset(Dataset)\n",
      "     |  ConcatDataset(*args, **kwds)\n",
      "     |  \n",
      "     |  Dataset as a concatenation of multiple datasets.\n",
      "     |  \n",
      "     |  This class is useful to assemble different existing datasets.\n",
      "     |  \n",
      "     |  Args:\n",
      "     |      datasets (sequence): List of datasets to be concatenated\n",
      "     |  \n",
      "     |  Method resolution order:\n",
      "     |      ConcatDataset\n",
      "     |      Dataset\n",
      "     |      typing.Generic\n",
      "     |      builtins.object\n",
      "     |  \n",
      "     |  Methods defined here:\n",
      "     |  \n",
      "     |  __getitem__(self, idx)\n",
      "     |  \n",
      "     |  __init__(self, datasets: Iterable[torch.utils.data.dataset.Dataset]) -> None\n",
      "     |      Initialize self.  See help(type(self)) for accurate signature.\n",
      "     |  \n",
      "     |  __len__(self)\n",
      "     |  \n",
      "     |  ----------------------------------------------------------------------\n",
      "     |  Static methods defined here:\n",
      "     |  \n",
      "     |  cumsum(sequence)\n",
      "     |  \n",
      "     |  ----------------------------------------------------------------------\n",
      "     |  Data descriptors defined here:\n",
      "     |  \n",
      "     |  cummulative_sizes\n",
      "     |  \n",
      "     |  ----------------------------------------------------------------------\n",
      "     |  Data and other attributes defined here:\n",
      "     |  \n",
      "     |  __annotations__ = {'cumulative_sizes': typing.List[int], 'datasets': t...\n",
      "     |  \n",
      "     |  __orig_bases__ = (torch.utils.data.dataset.Dataset[+T_co],)\n",
      "     |  \n",
      "     |  __parameters__ = (+T_co,)\n",
      "     |  \n",
      "     |  ----------------------------------------------------------------------\n",
      "     |  Methods inherited from Dataset:\n",
      "     |  \n",
      "     |  __add__(self, other: 'Dataset[T_co]') -> 'ConcatDataset[T_co]'\n",
      "     |  \n",
      "     |  ----------------------------------------------------------------------\n",
      "     |  Data descriptors inherited from Dataset:\n",
      "     |  \n",
      "     |  __dict__\n",
      "     |      dictionary for instance variables (if defined)\n",
      "     |  \n",
      "     |  __weakref__\n",
      "     |      list of weak references to the object (if defined)\n",
      "     |  \n",
      "     |  ----------------------------------------------------------------------\n",
      "     |  Class methods inherited from typing.Generic:\n",
      "     |  \n",
      "     |  __class_getitem__(params) from builtins.type\n",
      "     |  \n",
      "     |  __init_subclass__(*args, **kwargs) from builtins.type\n",
      "     |      This method is called when a class is subclassed.\n",
      "     |      \n",
      "     |      The default implementation does nothing. It may be\n",
      "     |      overridden to extend subclasses.\n",
      "     |  \n",
      "     |  ----------------------------------------------------------------------\n",
      "     |  Static methods inherited from typing.Generic:\n",
      "     |  \n",
      "     |  __new__(cls, *args, **kwds)\n",
      "     |      Create and return a new object.  See help(type) for accurate signature.\n",
      "    \n",
      "    class DataLoader(typing.Generic)\n",
      "     |  DataLoader(*args, **kwds)\n",
      "     |  \n",
      "     |  Data loader. Combines a dataset and a sampler, and provides an iterable over\n",
      "     |  the given dataset.\n",
      "     |  \n",
      "     |  The :class:`~torch.utils.data.DataLoader` supports both map-style and\n",
      "     |  iterable-style datasets with single- or multi-process loading, customizing\n",
      "     |  loading order and optional automatic batching (collation) and memory pinning.\n",
      "     |  \n",
      "     |  See :py:mod:`torch.utils.data` documentation page for more details.\n",
      "     |  \n",
      "     |  Args:\n",
      "     |      dataset (Dataset): dataset from which to load the data.\n",
      "     |      batch_size (int, optional): how many samples per batch to load\n",
      "     |          (default: ``1``).\n",
      "     |      shuffle (bool, optional): set to ``True`` to have the data reshuffled\n",
      "     |          at every epoch (default: ``False``).\n",
      "     |      sampler (Sampler or Iterable, optional): defines the strategy to draw\n",
      "     |          samples from the dataset. Can be any ``Iterable`` with ``__len__``\n",
      "     |          implemented. If specified, :attr:`shuffle` must not be specified.\n",
      "     |      batch_sampler (Sampler or Iterable, optional): like :attr:`sampler`, but\n",
      "     |          returns a batch of indices at a time. Mutually exclusive with\n",
      "     |          :attr:`batch_size`, :attr:`shuffle`, :attr:`sampler`,\n",
      "     |          and :attr:`drop_last`.\n",
      "     |      num_workers (int, optional): how many subprocesses to use for data\n",
      "     |          loading. ``0`` means that the data will be loaded in the main process.\n",
      "     |          (default: ``0``)\n",
      "     |      collate_fn (callable, optional): merges a list of samples to form a\n",
      "     |          mini-batch of Tensor(s).  Used when using batched loading from a\n",
      "     |          map-style dataset.\n",
      "     |      pin_memory (bool, optional): If ``True``, the data loader will copy Tensors\n",
      "     |          into CUDA pinned memory before returning them.  If your data elements\n",
      "     |          are a custom type, or your :attr:`collate_fn` returns a batch that is a custom type,\n",
      "     |          see the example below.\n",
      "     |      drop_last (bool, optional): set to ``True`` to drop the last incomplete batch,\n",
      "     |          if the dataset size is not divisible by the batch size. If ``False`` and\n",
      "     |          the size of dataset is not divisible by the batch size, then the last batch\n",
      "     |          will be smaller. (default: ``False``)\n",
      "     |      timeout (numeric, optional): if positive, the timeout value for collecting a batch\n",
      "     |          from workers. Should always be non-negative. (default: ``0``)\n",
      "     |      worker_init_fn (callable, optional): If not ``None``, this will be called on each\n",
      "     |          worker subprocess with the worker id (an int in ``[0, num_workers - 1]``) as\n",
      "     |          input, after seeding and before data loading. (default: ``None``)\n",
      "     |      generator (torch.Generator, optional): If not ``None``, this RNG will be used\n",
      "     |          by RandomSampler to generate random indexes and multiprocessing to generate\n",
      "     |          `base_seed` for workers. (default: ``None``)\n",
      "     |      prefetch_factor (int, optional, keyword-only arg): Number of samples loaded\n",
      "     |          in advance by each worker. ``2`` means there will be a total of\n",
      "     |          2 * num_workers samples prefetched across all workers. (default: ``2``)\n",
      "     |      persistent_workers (bool, optional): If ``True``, the data loader will not shutdown\n",
      "     |          the worker processes after a dataset has been consumed once. This allows to\n",
      "     |          maintain the workers `Dataset` instances alive. (default: ``False``)\n",
      "     |  \n",
      "     |  \n",
      "     |  .. warning:: If the ``spawn`` start method is used, :attr:`worker_init_fn`\n",
      "     |               cannot be an unpicklable object, e.g., a lambda function. See\n",
      "     |               :ref:`multiprocessing-best-practices` on more details related\n",
      "     |               to multiprocessing in PyTorch.\n",
      "     |  \n",
      "     |  .. warning:: ``len(dataloader)`` heuristic is based on the length of the sampler used.\n",
      "     |               When :attr:`dataset` is an :class:`~torch.utils.data.IterableDataset`,\n",
      "     |               it instead returns an estimate based on ``len(dataset) / batch_size``, with proper\n",
      "     |               rounding depending on :attr:`drop_last`, regardless of multi-process loading\n",
      "     |               configurations. This represents the best guess PyTorch can make because PyTorch\n",
      "     |               trusts user :attr:`dataset` code in correctly handling multi-process\n",
      "     |               loading to avoid duplicate data.\n",
      "     |  \n",
      "     |               However, if sharding results in multiple workers having incomplete last batches,\n",
      "     |               this estimate can still be inaccurate, because (1) an otherwise complete batch can\n",
      "     |               be broken into multiple ones and (2) more than one batch worth of samples can be\n",
      "     |               dropped when :attr:`drop_last` is set. Unfortunately, PyTorch can not detect such\n",
      "     |               cases in general.\n",
      "     |  \n",
      "     |               See `Dataset Types`_ for more details on these two types of datasets and how\n",
      "     |               :class:`~torch.utils.data.IterableDataset` interacts with\n",
      "     |               `Multi-process data loading`_.\n",
      "     |  \n",
      "     |  .. warning:: See :ref:`reproducibility`, and :ref:`dataloader-workers-random-seed`, and\n",
      "     |               :ref:`data-loading-randomness` notes for random seed related questions.\n",
      "     |  \n",
      "     |  Method resolution order:\n",
      "     |      DataLoader\n",
      "     |      typing.Generic\n",
      "     |      builtins.object\n",
      "     |  \n",
      "     |  Methods defined here:\n",
      "     |  \n",
      "     |  __init__(self, dataset: torch.utils.data.dataset.Dataset[+T_co], batch_size: Union[int, NoneType] = 1, shuffle: bool = False, sampler: Union[torch.utils.data.sampler.Sampler[int], NoneType] = None, batch_sampler: Union[torch.utils.data.sampler.Sampler[Sequence[int]], NoneType] = None, num_workers: int = 0, collate_fn: Union[Callable[[List[~T]], Any], NoneType] = None, pin_memory: bool = False, drop_last: bool = False, timeout: float = 0, worker_init_fn: Union[Callable[[int], NoneType], NoneType] = None, multiprocessing_context=None, generator=None, *, prefetch_factor: int = 2, persistent_workers: bool = False)\n",
      "     |      Initialize self.  See help(type(self)) for accurate signature.\n",
      "     |  \n",
      "     |  __iter__(self) -> '_BaseDataLoaderIter'\n",
      "     |      # We quote '_BaseDataLoaderIter' since it isn't defined yet and the definition can't be moved up\n",
      "     |      # since '_BaseDataLoaderIter' references 'DataLoader'.\n",
      "     |  \n",
      "     |  __len__(self) -> int\n",
      "     |  \n",
      "     |  __setattr__(self, attr, val)\n",
      "     |      Implement setattr(self, name, value).\n",
      "     |  \n",
      "     |  check_worker_number_rationality(self)\n",
      "     |  \n",
      "     |  ----------------------------------------------------------------------\n",
      "     |  Data descriptors defined here:\n",
      "     |  \n",
      "     |  __dict__\n",
      "     |      dictionary for instance variables (if defined)\n",
      "     |  \n",
      "     |  __weakref__\n",
      "     |      list of weak references to the object (if defined)\n",
      "     |  \n",
      "     |  multiprocessing_context\n",
      "     |  \n",
      "     |  ----------------------------------------------------------------------\n",
      "     |  Data and other attributes defined here:\n",
      "     |  \n",
      "     |  __annotations__ = {'_iterator': typing.Union[ForwardRef('_BaseDataLoad...\n",
      "     |  \n",
      "     |  __orig_bases__ = (typing.Generic[+T_co],)\n",
      "     |  \n",
      "     |  __parameters__ = (+T_co,)\n",
      "     |  \n",
      "     |  ----------------------------------------------------------------------\n",
      "     |  Class methods inherited from typing.Generic:\n",
      "     |  \n",
      "     |  __class_getitem__(params) from builtins.type\n",
      "     |  \n",
      "     |  __init_subclass__(*args, **kwargs) from builtins.type\n",
      "     |      This method is called when a class is subclassed.\n",
      "     |      \n",
      "     |      The default implementation does nothing. It may be\n",
      "     |      overridden to extend subclasses.\n",
      "     |  \n",
      "     |  ----------------------------------------------------------------------\n",
      "     |  Static methods inherited from typing.Generic:\n",
      "     |  \n",
      "     |  __new__(cls, *args, **kwds)\n",
      "     |      Create and return a new object.  See help(type) for accurate signature.\n",
      "    \n",
      "    class Dataset(typing.Generic)\n",
      "     |  Dataset(*args, **kwds)\n",
      "     |  \n",
      "     |  An abstract class representing a :class:`Dataset`.\n",
      "     |  \n",
      "     |  All datasets that represent a map from keys to data samples should subclass\n",
      "     |  it. All subclasses should overwrite :meth:`__getitem__`, supporting fetching a\n",
      "     |  data sample for a given key. Subclasses could also optionally overwrite\n",
      "     |  :meth:`__len__`, which is expected to return the size of the dataset by many\n",
      "     |  :class:`~torch.utils.data.Sampler` implementations and the default options\n",
      "     |  of :class:`~torch.utils.data.DataLoader`.\n",
      "     |  \n",
      "     |  .. note::\n",
      "     |    :class:`~torch.utils.data.DataLoader` by default constructs a index\n",
      "     |    sampler that yields integral indices.  To make it work with a map-style\n",
      "     |    dataset with non-integral indices/keys, a custom sampler must be provided.\n",
      "     |  \n",
      "     |  Method resolution order:\n",
      "     |      Dataset\n",
      "     |      typing.Generic\n",
      "     |      builtins.object\n",
      "     |  \n",
      "     |  Methods defined here:\n",
      "     |  \n",
      "     |  __add__(self, other: 'Dataset[T_co]') -> 'ConcatDataset[T_co]'\n",
      "     |  \n",
      "     |  __getitem__(self, index) -> +T_co\n",
      "     |  \n",
      "     |  ----------------------------------------------------------------------\n",
      "     |  Data descriptors defined here:\n",
      "     |  \n",
      "     |  __dict__\n",
      "     |      dictionary for instance variables (if defined)\n",
      "     |  \n",
      "     |  __weakref__\n",
      "     |      list of weak references to the object (if defined)\n",
      "     |  \n",
      "     |  ----------------------------------------------------------------------\n",
      "     |  Data and other attributes defined here:\n",
      "     |  \n",
      "     |  __orig_bases__ = (typing.Generic[+T_co],)\n",
      "     |  \n",
      "     |  __parameters__ = (+T_co,)\n",
      "     |  \n",
      "     |  ----------------------------------------------------------------------\n",
      "     |  Class methods inherited from typing.Generic:\n",
      "     |  \n",
      "     |  __class_getitem__(params) from builtins.type\n",
      "     |  \n",
      "     |  __init_subclass__(*args, **kwargs) from builtins.type\n",
      "     |      This method is called when a class is subclassed.\n",
      "     |      \n",
      "     |      The default implementation does nothing. It may be\n",
      "     |      overridden to extend subclasses.\n",
      "     |  \n",
      "     |  ----------------------------------------------------------------------\n",
      "     |  Static methods inherited from typing.Generic:\n",
      "     |  \n",
      "     |  __new__(cls, *args, **kwds)\n",
      "     |      Create and return a new object.  See help(type) for accurate signature.\n",
      "    \n",
      "    class DistributedSampler(torch.utils.data.sampler.Sampler)\n",
      "     |  DistributedSampler(*args, **kwds)\n",
      "     |  \n",
      "     |  Sampler that restricts data loading to a subset of the dataset.\n",
      "     |  \n",
      "     |  It is especially useful in conjunction with\n",
      "     |  :class:`torch.nn.parallel.DistributedDataParallel`. In such a case, each\n",
      "     |  process can pass a :class:`~torch.utils.data.DistributedSampler` instance as a\n",
      "     |  :class:`~torch.utils.data.DataLoader` sampler, and load a subset of the\n",
      "     |  original dataset that is exclusive to it.\n",
      "     |  \n",
      "     |  .. note::\n",
      "     |      Dataset is assumed to be of constant size.\n",
      "     |  \n",
      "     |  Args:\n",
      "     |      dataset: Dataset used for sampling.\n",
      "     |      num_replicas (int, optional): Number of processes participating in\n",
      "     |          distributed training. By default, :attr:`world_size` is retrieved from the\n",
      "     |          current distributed group.\n",
      "     |      rank (int, optional): Rank of the current process within :attr:`num_replicas`.\n",
      "     |          By default, :attr:`rank` is retrieved from the current distributed\n",
      "     |          group.\n",
      "     |      shuffle (bool, optional): If ``True`` (default), sampler will shuffle the\n",
      "     |          indices.\n",
      "     |      seed (int, optional): random seed used to shuffle the sampler if\n",
      "     |          :attr:`shuffle=True`. This number should be identical across all\n",
      "     |          processes in the distributed group. Default: ``0``.\n",
      "     |      drop_last (bool, optional): if ``True``, then the sampler will drop the\n",
      "     |          tail of the data to make it evenly divisible across the number of\n",
      "     |          replicas. If ``False``, the sampler will add extra indices to make\n",
      "     |          the data evenly divisible across the replicas. Default: ``False``.\n",
      "     |  \n",
      "     |  .. warning::\n",
      "     |      In distributed mode, calling the :meth:`set_epoch` method at\n",
      "     |      the beginning of each epoch **before** creating the :class:`DataLoader` iterator\n",
      "     |      is necessary to make shuffling work properly across multiple epochs. Otherwise,\n",
      "     |      the same ordering will be always used.\n",
      "     |  \n",
      "     |  Example::\n",
      "     |  \n",
      "     |      >>> sampler = DistributedSampler(dataset) if is_distributed else None\n",
      "     |      >>> loader = DataLoader(dataset, shuffle=(sampler is None),\n",
      "     |      ...                     sampler=sampler)\n",
      "     |      >>> for epoch in range(start_epoch, n_epochs):\n",
      "     |      ...     if is_distributed:\n",
      "     |      ...         sampler.set_epoch(epoch)\n",
      "     |      ...     train(loader)\n",
      "     |  \n",
      "     |  Method resolution order:\n",
      "     |      DistributedSampler\n",
      "     |      torch.utils.data.sampler.Sampler\n",
      "     |      typing.Generic\n",
      "     |      builtins.object\n",
      "     |  \n",
      "     |  Methods defined here:\n",
      "     |  \n",
      "     |  __init__(self, dataset: torch.utils.data.dataset.Dataset, num_replicas: Union[int, NoneType] = None, rank: Union[int, NoneType] = None, shuffle: bool = True, seed: int = 0, drop_last: bool = False) -> None\n",
      "     |      Initialize self.  See help(type(self)) for accurate signature.\n",
      "     |  \n",
      "     |  __iter__(self) -> Iterator[+T_co]\n",
      "     |  \n",
      "     |  __len__(self) -> int\n",
      "     |  \n",
      "     |  set_epoch(self, epoch: int) -> None\n",
      "     |      Sets the epoch for this sampler. When :attr:`shuffle=True`, this ensures all replicas\n",
      "     |      use a different random ordering for each epoch. Otherwise, the next iteration of this\n",
      "     |      sampler will yield the same ordering.\n",
      "     |      \n",
      "     |      Args:\n",
      "     |          epoch (int): Epoch number.\n",
      "     |  \n",
      "     |  ----------------------------------------------------------------------\n",
      "     |  Data and other attributes defined here:\n",
      "     |  \n",
      "     |  __orig_bases__ = (torch.utils.data.sampler.Sampler[+T_co],)\n",
      "     |  \n",
      "     |  __parameters__ = (+T_co,)\n",
      "     |  \n",
      "     |  ----------------------------------------------------------------------\n",
      "     |  Data descriptors inherited from torch.utils.data.sampler.Sampler:\n",
      "     |  \n",
      "     |  __dict__\n",
      "     |      dictionary for instance variables (if defined)\n",
      "     |  \n",
      "     |  __weakref__\n",
      "     |      list of weak references to the object (if defined)\n",
      "     |  \n",
      "     |  ----------------------------------------------------------------------\n",
      "     |  Class methods inherited from typing.Generic:\n",
      "     |  \n",
      "     |  __class_getitem__(params) from builtins.type\n",
      "     |  \n",
      "     |  __init_subclass__(*args, **kwargs) from builtins.type\n",
      "     |      This method is called when a class is subclassed.\n",
      "     |      \n",
      "     |      The default implementation does nothing. It may be\n",
      "     |      overridden to extend subclasses.\n",
      "     |  \n",
      "     |  ----------------------------------------------------------------------\n",
      "     |  Static methods inherited from typing.Generic:\n",
      "     |  \n",
      "     |  __new__(cls, *args, **kwds)\n",
      "     |      Create and return a new object.  See help(type) for accurate signature.\n",
      "    \n",
      "    IterDataPipe = class IterableDataset(Dataset)\n",
      "     |  IterDataPipe(*args, **kwds)\n",
      "     |  \n",
      "     |  An iterable Dataset.\n",
      "     |  \n",
      "     |  All datasets that represent an iterable of data samples should subclass it.\n",
      "     |  Such form of datasets is particularly useful when data come from a stream.\n",
      "     |  \n",
      "     |  All subclasses should overwrite :meth:`__iter__`, which would return an\n",
      "     |  iterator of samples in this dataset.\n",
      "     |  \n",
      "     |  When a subclass is used with :class:`~torch.utils.data.DataLoader`, each\n",
      "     |  item in the dataset will be yielded from the :class:`~torch.utils.data.DataLoader`\n",
      "     |  iterator. When :attr:`num_workers > 0`, each worker process will have a\n",
      "     |  different copy of the dataset object, so it is often desired to configure\n",
      "     |  each copy independently to avoid having duplicate data returned from the\n",
      "     |  workers. :func:`~torch.utils.data.get_worker_info`, when called in a worker\n",
      "     |  process, returns information about the worker. It can be used in either the\n",
      "     |  dataset's :meth:`__iter__` method or the :class:`~torch.utils.data.DataLoader` 's\n",
      "     |  :attr:`worker_init_fn` option to modify each copy's behavior.\n",
      "     |  \n",
      "     |  Example 1: splitting workload across all workers in :meth:`__iter__`::\n",
      "     |  \n",
      "     |      >>> class MyIterableDataset(torch.utils.data.IterableDataset):\n",
      "     |      ...     def __init__(self, start, end):\n",
      "     |      ...         super(MyIterableDataset).__init__()\n",
      "     |      ...         assert end > start, \"this example code only works with end >= start\"\n",
      "     |      ...         self.start = start\n",
      "     |      ...         self.end = end\n",
      "     |      ...\n",
      "     |      ...     def __iter__(self):\n",
      "     |      ...         worker_info = torch.utils.data.get_worker_info()\n",
      "     |      ...         if worker_info is None:  # single-process data loading, return the full iterator\n",
      "     |      ...             iter_start = self.start\n",
      "     |      ...             iter_end = self.end\n",
      "     |      ...         else:  # in a worker process\n",
      "     |      ...             # split workload\n",
      "     |      ...             per_worker = int(math.ceil((self.end - self.start) / float(worker_info.num_workers)))\n",
      "     |      ...             worker_id = worker_info.id\n",
      "     |      ...             iter_start = self.start + worker_id * per_worker\n",
      "     |      ...             iter_end = min(iter_start + per_worker, self.end)\n",
      "     |      ...         return iter(range(iter_start, iter_end))\n",
      "     |      ...\n",
      "     |      >>> # should give same set of data as range(3, 7), i.e., [3, 4, 5, 6].\n",
      "     |      >>> ds = MyIterableDataset(start=3, end=7)\n",
      "     |  \n",
      "     |      >>> # Single-process loading\n",
      "     |      >>> print(list(torch.utils.data.DataLoader(ds, num_workers=0)))\n",
      "     |      [3, 4, 5, 6]\n",
      "     |  \n",
      "     |      >>> # Mult-process loading with two worker processes\n",
      "     |      >>> # Worker 0 fetched [3, 4].  Worker 1 fetched [5, 6].\n",
      "     |      >>> print(list(torch.utils.data.DataLoader(ds, num_workers=2)))\n",
      "     |      [3, 5, 4, 6]\n",
      "     |  \n",
      "     |      >>> # With even more workers\n",
      "     |      >>> print(list(torch.utils.data.DataLoader(ds, num_workers=20)))\n",
      "     |      [3, 4, 5, 6]\n",
      "     |  \n",
      "     |  Example 2: splitting workload across all workers using :attr:`worker_init_fn`::\n",
      "     |  \n",
      "     |      >>> class MyIterableDataset(torch.utils.data.IterableDataset):\n",
      "     |      ...     def __init__(self, start, end):\n",
      "     |      ...         super(MyIterableDataset).__init__()\n",
      "     |      ...         assert end > start, \"this example code only works with end >= start\"\n",
      "     |      ...         self.start = start\n",
      "     |      ...         self.end = end\n",
      "     |      ...\n",
      "     |      ...     def __iter__(self):\n",
      "     |      ...         return iter(range(self.start, self.end))\n",
      "     |      ...\n",
      "     |      >>> # should give same set of data as range(3, 7), i.e., [3, 4, 5, 6].\n",
      "     |      >>> ds = MyIterableDataset(start=3, end=7)\n",
      "     |  \n",
      "     |      >>> # Single-process loading\n",
      "     |      >>> print(list(torch.utils.data.DataLoader(ds, num_workers=0)))\n",
      "     |      [3, 4, 5, 6]\n",
      "     |      >>>\n",
      "     |      >>> # Directly doing multi-process loading yields duplicate data\n",
      "     |      >>> print(list(torch.utils.data.DataLoader(ds, num_workers=2)))\n",
      "     |      [3, 3, 4, 4, 5, 5, 6, 6]\n",
      "     |  \n",
      "     |      >>> # Define a `worker_init_fn` that configures each dataset copy differently\n",
      "     |      >>> def worker_init_fn(worker_id):\n",
      "     |      ...     worker_info = torch.utils.data.get_worker_info()\n",
      "     |      ...     dataset = worker_info.dataset  # the dataset copy in this worker process\n",
      "     |      ...     overall_start = dataset.start\n",
      "     |      ...     overall_end = dataset.end\n",
      "     |      ...     # configure the dataset to only process the split workload\n",
      "     |      ...     per_worker = int(math.ceil((overall_end - overall_start) / float(worker_info.num_workers)))\n",
      "     |      ...     worker_id = worker_info.id\n",
      "     |      ...     dataset.start = overall_start + worker_id * per_worker\n",
      "     |      ...     dataset.end = min(dataset.start + per_worker, overall_end)\n",
      "     |      ...\n",
      "     |  \n",
      "     |      >>> # Mult-process loading with the custom `worker_init_fn`\n",
      "     |      >>> # Worker 0 fetched [3, 4].  Worker 1 fetched [5, 6].\n",
      "     |      >>> print(list(torch.utils.data.DataLoader(ds, num_workers=2, worker_init_fn=worker_init_fn)))\n",
      "     |      [3, 5, 4, 6]\n",
      "     |  \n",
      "     |      >>> # With even more workers\n",
      "     |      >>> print(list(torch.utils.data.DataLoader(ds, num_workers=20, worker_init_fn=worker_init_fn)))\n",
      "     |      [3, 4, 5, 6]\n",
      "     |  \n",
      "     |  Method resolution order:\n",
      "     |      IterableDataset\n",
      "     |      Dataset\n",
      "     |      typing.Generic\n",
      "     |      builtins.object\n",
      "     |  \n",
      "     |  Methods defined here:\n",
      "     |  \n",
      "     |  __add__(self, other: torch.utils.data.dataset.Dataset[+T_co])\n",
      "     |  \n",
      "     |  __getattr__(self, attribute_name)\n",
      "     |  \n",
      "     |  __iter__(self) -> Iterator[+T_co]\n",
      "     |  \n",
      "     |  __reduce_ex__(self, *args, **kwargs)\n",
      "     |      Helper for pickle.\n",
      "     |  \n",
      "     |  ----------------------------------------------------------------------\n",
      "     |  Class methods defined here:\n",
      "     |  \n",
      "     |  __init_subclass__ = _dp_init_subclass(*args, **kwargs) from torch.utils.data._typing._DataPipeMeta\n",
      "     |  \n",
      "     |  register_datapipe_as_function(function_name, cls_to_register) from torch.utils.data._typing._DataPipeMeta\n",
      "     |  \n",
      "     |  register_function(function_name, function) from torch.utils.data._typing._DataPipeMeta\n",
      "     |  \n",
      "     |  set_reduce_ex_hook(hook_fn) from torch.utils.data._typing._DataPipeMeta\n",
      "     |  \n",
      "     |  ----------------------------------------------------------------------\n",
      "     |  Data and other attributes defined here:\n",
      "     |  \n",
      "     |  __abstractmethods__ = frozenset()\n",
      "     |  \n",
      "     |  __annotations__ = {'functions': typing.Dict[str, typing.Callable], 're...\n",
      "     |  \n",
      "     |  __orig_bases__ = (torch.utils.data.dataset.Dataset[+T_co],)\n",
      "     |  \n",
      "     |  __parameters__ = (+T_co,)\n",
      "     |  \n",
      "     |  __type_class__ = False\n",
      "     |  \n",
      "     |  functions = {'batch': functools.partial(<function IterableDataset.regi...\n",
      "     |  \n",
      "     |  reduce_ex_hook = None\n",
      "     |  \n",
      "     |  type = typing.Generic[+T_co]\n",
      "     |  \n",
      "     |  ----------------------------------------------------------------------\n",
      "     |  Methods inherited from Dataset:\n",
      "     |  \n",
      "     |  __getitem__(self, index) -> +T_co\n",
      "     |  \n",
      "     |  ----------------------------------------------------------------------\n",
      "     |  Data descriptors inherited from Dataset:\n",
      "     |  \n",
      "     |  __dict__\n",
      "     |      dictionary for instance variables (if defined)\n",
      "     |  \n",
      "     |  __weakref__\n",
      "     |      list of weak references to the object (if defined)\n",
      "     |  \n",
      "     |  ----------------------------------------------------------------------\n",
      "     |  Class methods inherited from typing.Generic:\n",
      "     |  \n",
      "     |  __class_getitem__(params) from torch.utils.data._typing._DataPipeMeta\n",
      "     |  \n",
      "     |  ----------------------------------------------------------------------\n",
      "     |  Static methods inherited from typing.Generic:\n",
      "     |  \n",
      "     |  __new__(cls, *args, **kwds)\n",
      "     |      Create and return a new object.  See help(type) for accurate signature.\n",
      "    \n",
      "    class IterableDataset(Dataset)\n",
      "     |  IterableDataset(*args, **kwds)\n",
      "     |  \n",
      "     |  An iterable Dataset.\n",
      "     |  \n",
      "     |  All datasets that represent an iterable of data samples should subclass it.\n",
      "     |  Such form of datasets is particularly useful when data come from a stream.\n",
      "     |  \n",
      "     |  All subclasses should overwrite :meth:`__iter__`, which would return an\n",
      "     |  iterator of samples in this dataset.\n",
      "     |  \n",
      "     |  When a subclass is used with :class:`~torch.utils.data.DataLoader`, each\n",
      "     |  item in the dataset will be yielded from the :class:`~torch.utils.data.DataLoader`\n",
      "     |  iterator. When :attr:`num_workers > 0`, each worker process will have a\n",
      "     |  different copy of the dataset object, so it is often desired to configure\n",
      "     |  each copy independently to avoid having duplicate data returned from the\n",
      "     |  workers. :func:`~torch.utils.data.get_worker_info`, when called in a worker\n",
      "     |  process, returns information about the worker. It can be used in either the\n",
      "     |  dataset's :meth:`__iter__` method or the :class:`~torch.utils.data.DataLoader` 's\n",
      "     |  :attr:`worker_init_fn` option to modify each copy's behavior.\n",
      "     |  \n",
      "     |  Example 1: splitting workload across all workers in :meth:`__iter__`::\n",
      "     |  \n",
      "     |      >>> class MyIterableDataset(torch.utils.data.IterableDataset):\n",
      "     |      ...     def __init__(self, start, end):\n",
      "     |      ...         super(MyIterableDataset).__init__()\n",
      "     |      ...         assert end > start, \"this example code only works with end >= start\"\n",
      "     |      ...         self.start = start\n",
      "     |      ...         self.end = end\n",
      "     |      ...\n",
      "     |      ...     def __iter__(self):\n",
      "     |      ...         worker_info = torch.utils.data.get_worker_info()\n",
      "     |      ...         if worker_info is None:  # single-process data loading, return the full iterator\n",
      "     |      ...             iter_start = self.start\n",
      "     |      ...             iter_end = self.end\n",
      "     |      ...         else:  # in a worker process\n",
      "     |      ...             # split workload\n",
      "     |      ...             per_worker = int(math.ceil((self.end - self.start) / float(worker_info.num_workers)))\n",
      "     |      ...             worker_id = worker_info.id\n",
      "     |      ...             iter_start = self.start + worker_id * per_worker\n",
      "     |      ...             iter_end = min(iter_start + per_worker, self.end)\n",
      "     |      ...         return iter(range(iter_start, iter_end))\n",
      "     |      ...\n",
      "     |      >>> # should give same set of data as range(3, 7), i.e., [3, 4, 5, 6].\n",
      "     |      >>> ds = MyIterableDataset(start=3, end=7)\n",
      "     |  \n",
      "     |      >>> # Single-process loading\n",
      "     |      >>> print(list(torch.utils.data.DataLoader(ds, num_workers=0)))\n",
      "     |      [3, 4, 5, 6]\n",
      "     |  \n",
      "     |      >>> # Mult-process loading with two worker processes\n",
      "     |      >>> # Worker 0 fetched [3, 4].  Worker 1 fetched [5, 6].\n",
      "     |      >>> print(list(torch.utils.data.DataLoader(ds, num_workers=2)))\n",
      "     |      [3, 5, 4, 6]\n",
      "     |  \n",
      "     |      >>> # With even more workers\n",
      "     |      >>> print(list(torch.utils.data.DataLoader(ds, num_workers=20)))\n",
      "     |      [3, 4, 5, 6]\n",
      "     |  \n",
      "     |  Example 2: splitting workload across all workers using :attr:`worker_init_fn`::\n",
      "     |  \n",
      "     |      >>> class MyIterableDataset(torch.utils.data.IterableDataset):\n",
      "     |      ...     def __init__(self, start, end):\n",
      "     |      ...         super(MyIterableDataset).__init__()\n",
      "     |      ...         assert end > start, \"this example code only works with end >= start\"\n",
      "     |      ...         self.start = start\n",
      "     |      ...         self.end = end\n",
      "     |      ...\n",
      "     |      ...     def __iter__(self):\n",
      "     |      ...         return iter(range(self.start, self.end))\n",
      "     |      ...\n",
      "     |      >>> # should give same set of data as range(3, 7), i.e., [3, 4, 5, 6].\n",
      "     |      >>> ds = MyIterableDataset(start=3, end=7)\n",
      "     |  \n",
      "     |      >>> # Single-process loading\n",
      "     |      >>> print(list(torch.utils.data.DataLoader(ds, num_workers=0)))\n",
      "     |      [3, 4, 5, 6]\n",
      "     |      >>>\n",
      "     |      >>> # Directly doing multi-process loading yields duplicate data\n",
      "     |      >>> print(list(torch.utils.data.DataLoader(ds, num_workers=2)))\n",
      "     |      [3, 3, 4, 4, 5, 5, 6, 6]\n",
      "     |  \n",
      "     |      >>> # Define a `worker_init_fn` that configures each dataset copy differently\n",
      "     |      >>> def worker_init_fn(worker_id):\n",
      "     |      ...     worker_info = torch.utils.data.get_worker_info()\n",
      "     |      ...     dataset = worker_info.dataset  # the dataset copy in this worker process\n",
      "     |      ...     overall_start = dataset.start\n",
      "     |      ...     overall_end = dataset.end\n",
      "     |      ...     # configure the dataset to only process the split workload\n",
      "     |      ...     per_worker = int(math.ceil((overall_end - overall_start) / float(worker_info.num_workers)))\n",
      "     |      ...     worker_id = worker_info.id\n",
      "     |      ...     dataset.start = overall_start + worker_id * per_worker\n",
      "     |      ...     dataset.end = min(dataset.start + per_worker, overall_end)\n",
      "     |      ...\n",
      "     |  \n",
      "     |      >>> # Mult-process loading with the custom `worker_init_fn`\n",
      "     |      >>> # Worker 0 fetched [3, 4].  Worker 1 fetched [5, 6].\n",
      "     |      >>> print(list(torch.utils.data.DataLoader(ds, num_workers=2, worker_init_fn=worker_init_fn)))\n",
      "     |      [3, 5, 4, 6]\n",
      "     |  \n",
      "     |      >>> # With even more workers\n",
      "     |      >>> print(list(torch.utils.data.DataLoader(ds, num_workers=20, worker_init_fn=worker_init_fn)))\n",
      "     |      [3, 4, 5, 6]\n",
      "     |  \n",
      "     |  Method resolution order:\n",
      "     |      IterableDataset\n",
      "     |      Dataset\n",
      "     |      typing.Generic\n",
      "     |      builtins.object\n",
      "     |  \n",
      "     |  Methods defined here:\n",
      "     |  \n",
      "     |  __add__(self, other: torch.utils.data.dataset.Dataset[+T_co])\n",
      "     |  \n",
      "     |  __getattr__(self, attribute_name)\n",
      "     |  \n",
      "     |  __iter__(self) -> Iterator[+T_co]\n",
      "     |  \n",
      "     |  __reduce_ex__(self, *args, **kwargs)\n",
      "     |      Helper for pickle.\n",
      "     |  \n",
      "     |  ----------------------------------------------------------------------\n",
      "     |  Class methods defined here:\n",
      "     |  \n",
      "     |  __init_subclass__ = _dp_init_subclass(*args, **kwargs) from torch.utils.data._typing._DataPipeMeta\n",
      "     |  \n",
      "     |  register_datapipe_as_function(function_name, cls_to_register) from torch.utils.data._typing._DataPipeMeta\n",
      "     |  \n",
      "     |  register_function(function_name, function) from torch.utils.data._typing._DataPipeMeta\n",
      "     |  \n",
      "     |  set_reduce_ex_hook(hook_fn) from torch.utils.data._typing._DataPipeMeta\n",
      "     |  \n",
      "     |  ----------------------------------------------------------------------\n",
      "     |  Data and other attributes defined here:\n",
      "     |  \n",
      "     |  __abstractmethods__ = frozenset()\n",
      "     |  \n",
      "     |  __annotations__ = {'functions': typing.Dict[str, typing.Callable], 're...\n",
      "     |  \n",
      "     |  __orig_bases__ = (torch.utils.data.dataset.Dataset[+T_co],)\n",
      "     |  \n",
      "     |  __parameters__ = (+T_co,)\n",
      "     |  \n",
      "     |  __type_class__ = False\n",
      "     |  \n",
      "     |  functions = {'batch': functools.partial(<function IterableDataset.regi...\n",
      "     |  \n",
      "     |  reduce_ex_hook = None\n",
      "     |  \n",
      "     |  type = typing.Generic[+T_co]\n",
      "     |  \n",
      "     |  ----------------------------------------------------------------------\n",
      "     |  Methods inherited from Dataset:\n",
      "     |  \n",
      "     |  __getitem__(self, index) -> +T_co\n",
      "     |  \n",
      "     |  ----------------------------------------------------------------------\n",
      "     |  Data descriptors inherited from Dataset:\n",
      "     |  \n",
      "     |  __dict__\n",
      "     |      dictionary for instance variables (if defined)\n",
      "     |  \n",
      "     |  __weakref__\n",
      "     |      list of weak references to the object (if defined)\n",
      "     |  \n",
      "     |  ----------------------------------------------------------------------\n",
      "     |  Class methods inherited from typing.Generic:\n",
      "     |  \n",
      "     |  __class_getitem__(params) from torch.utils.data._typing._DataPipeMeta\n",
      "     |  \n",
      "     |  ----------------------------------------------------------------------\n",
      "     |  Static methods inherited from typing.Generic:\n",
      "     |  \n",
      "     |  __new__(cls, *args, **kwds)\n",
      "     |      Create and return a new object.  See help(type) for accurate signature.\n",
      "    \n",
      "    class RandomSampler(Sampler)\n",
      "     |  RandomSampler(*args, **kwds)\n",
      "     |  \n",
      "     |  Samples elements randomly. If without replacement, then sample from a shuffled dataset.\n",
      "     |  If with replacement, then user can specify :attr:`num_samples` to draw.\n",
      "     |  \n",
      "     |  Args:\n",
      "     |      data_source (Dataset): dataset to sample from\n",
      "     |      replacement (bool): samples are drawn on-demand with replacement if ``True``, default=``False``\n",
      "     |      num_samples (int): number of samples to draw, default=`len(dataset)`. This argument\n",
      "     |          is supposed to be specified only when `replacement` is ``True``.\n",
      "     |      generator (Generator): Generator used in sampling.\n",
      "     |  \n",
      "     |  Method resolution order:\n",
      "     |      RandomSampler\n",
      "     |      Sampler\n",
      "     |      typing.Generic\n",
      "     |      builtins.object\n",
      "     |  \n",
      "     |  Methods defined here:\n",
      "     |  \n",
      "     |  __init__(self, data_source: Sized, replacement: bool = False, num_samples: Union[int, NoneType] = None, generator=None) -> None\n",
      "     |      Initialize self.  See help(type(self)) for accurate signature.\n",
      "     |  \n",
      "     |  __iter__(self) -> Iterator[int]\n",
      "     |  \n",
      "     |  __len__(self) -> int\n",
      "     |  \n",
      "     |  ----------------------------------------------------------------------\n",
      "     |  Data descriptors defined here:\n",
      "     |  \n",
      "     |  num_samples\n",
      "     |  \n",
      "     |  ----------------------------------------------------------------------\n",
      "     |  Data and other attributes defined here:\n",
      "     |  \n",
      "     |  __annotations__ = {'data_source': typing.Sized, 'replacement': <class ...\n",
      "     |  \n",
      "     |  __orig_bases__ = (torch.utils.data.sampler.Sampler[int],)\n",
      "     |  \n",
      "     |  __parameters__ = ()\n",
      "     |  \n",
      "     |  ----------------------------------------------------------------------\n",
      "     |  Data descriptors inherited from Sampler:\n",
      "     |  \n",
      "     |  __dict__\n",
      "     |      dictionary for instance variables (if defined)\n",
      "     |  \n",
      "     |  __weakref__\n",
      "     |      list of weak references to the object (if defined)\n",
      "     |  \n",
      "     |  ----------------------------------------------------------------------\n",
      "     |  Class methods inherited from typing.Generic:\n",
      "     |  \n",
      "     |  __class_getitem__(params) from builtins.type\n",
      "     |  \n",
      "     |  __init_subclass__(*args, **kwargs) from builtins.type\n",
      "     |      This method is called when a class is subclassed.\n",
      "     |      \n",
      "     |      The default implementation does nothing. It may be\n",
      "     |      overridden to extend subclasses.\n",
      "     |  \n",
      "     |  ----------------------------------------------------------------------\n",
      "     |  Static methods inherited from typing.Generic:\n",
      "     |  \n",
      "     |  __new__(cls, *args, **kwds)\n",
      "     |      Create and return a new object.  See help(type) for accurate signature.\n",
      "    \n",
      "    class Sampler(typing.Generic)\n",
      "     |  Sampler(*args, **kwds)\n",
      "     |  \n",
      "     |  Base class for all Samplers.\n",
      "     |  \n",
      "     |  Every Sampler subclass has to provide an :meth:`__iter__` method, providing a\n",
      "     |  way to iterate over indices of dataset elements, and a :meth:`__len__` method\n",
      "     |  that returns the length of the returned iterators.\n",
      "     |  \n",
      "     |  .. note:: The :meth:`__len__` method isn't strictly required by\n",
      "     |            :class:`~torch.utils.data.DataLoader`, but is expected in any\n",
      "     |            calculation involving the length of a :class:`~torch.utils.data.DataLoader`.\n",
      "     |  \n",
      "     |  Method resolution order:\n",
      "     |      Sampler\n",
      "     |      typing.Generic\n",
      "     |      builtins.object\n",
      "     |  \n",
      "     |  Methods defined here:\n",
      "     |  \n",
      "     |  __init__(self, data_source: Union[Sized, NoneType]) -> None\n",
      "     |      Initialize self.  See help(type(self)) for accurate signature.\n",
      "     |  \n",
      "     |  __iter__(self) -> Iterator[+T_co]\n",
      "     |  \n",
      "     |  ----------------------------------------------------------------------\n",
      "     |  Data descriptors defined here:\n",
      "     |  \n",
      "     |  __dict__\n",
      "     |      dictionary for instance variables (if defined)\n",
      "     |  \n",
      "     |  __weakref__\n",
      "     |      list of weak references to the object (if defined)\n",
      "     |  \n",
      "     |  ----------------------------------------------------------------------\n",
      "     |  Data and other attributes defined here:\n",
      "     |  \n",
      "     |  __orig_bases__ = (typing.Generic[+T_co],)\n",
      "     |  \n",
      "     |  __parameters__ = (+T_co,)\n",
      "     |  \n",
      "     |  ----------------------------------------------------------------------\n",
      "     |  Class methods inherited from typing.Generic:\n",
      "     |  \n",
      "     |  __class_getitem__(params) from builtins.type\n",
      "     |  \n",
      "     |  __init_subclass__(*args, **kwargs) from builtins.type\n",
      "     |      This method is called when a class is subclassed.\n",
      "     |      \n",
      "     |      The default implementation does nothing. It may be\n",
      "     |      overridden to extend subclasses.\n",
      "     |  \n",
      "     |  ----------------------------------------------------------------------\n",
      "     |  Static methods inherited from typing.Generic:\n",
      "     |  \n",
      "     |  __new__(cls, *args, **kwds)\n",
      "     |      Create and return a new object.  See help(type) for accurate signature.\n",
      "    \n",
      "    class SequentialSampler(Sampler)\n",
      "     |  SequentialSampler(*args, **kwds)\n",
      "     |  \n",
      "     |  Samples elements sequentially, always in the same order.\n",
      "     |  \n",
      "     |  Args:\n",
      "     |      data_source (Dataset): dataset to sample from\n",
      "     |  \n",
      "     |  Method resolution order:\n",
      "     |      SequentialSampler\n",
      "     |      Sampler\n",
      "     |      typing.Generic\n",
      "     |      builtins.object\n",
      "     |  \n",
      "     |  Methods defined here:\n",
      "     |  \n",
      "     |  __init__(self, data_source: Sized) -> None\n",
      "     |      Initialize self.  See help(type(self)) for accurate signature.\n",
      "     |  \n",
      "     |  __iter__(self) -> Iterator[int]\n",
      "     |  \n",
      "     |  __len__(self) -> int\n",
      "     |  \n",
      "     |  ----------------------------------------------------------------------\n",
      "     |  Data and other attributes defined here:\n",
      "     |  \n",
      "     |  __annotations__ = {'data_source': typing.Sized}\n",
      "     |  \n",
      "     |  __orig_bases__ = (torch.utils.data.sampler.Sampler[int],)\n",
      "     |  \n",
      "     |  __parameters__ = ()\n",
      "     |  \n",
      "     |  ----------------------------------------------------------------------\n",
      "     |  Data descriptors inherited from Sampler:\n",
      "     |  \n",
      "     |  __dict__\n",
      "     |      dictionary for instance variables (if defined)\n",
      "     |  \n",
      "     |  __weakref__\n",
      "     |      list of weak references to the object (if defined)\n",
      "     |  \n",
      "     |  ----------------------------------------------------------------------\n",
      "     |  Class methods inherited from typing.Generic:\n",
      "     |  \n",
      "     |  __class_getitem__(params) from builtins.type\n",
      "     |  \n",
      "     |  __init_subclass__(*args, **kwargs) from builtins.type\n",
      "     |      This method is called when a class is subclassed.\n",
      "     |      \n",
      "     |      The default implementation does nothing. It may be\n",
      "     |      overridden to extend subclasses.\n",
      "     |  \n",
      "     |  ----------------------------------------------------------------------\n",
      "     |  Static methods inherited from typing.Generic:\n",
      "     |  \n",
      "     |  __new__(cls, *args, **kwds)\n",
      "     |      Create and return a new object.  See help(type) for accurate signature.\n",
      "    \n",
      "    class Subset(Dataset)\n",
      "     |  Subset(*args, **kwds)\n",
      "     |  \n",
      "     |  Subset of a dataset at specified indices.\n",
      "     |  \n",
      "     |  Args:\n",
      "     |      dataset (Dataset): The whole Dataset\n",
      "     |      indices (sequence): Indices in the whole set selected for subset\n",
      "     |  \n",
      "     |  Method resolution order:\n",
      "     |      Subset\n",
      "     |      Dataset\n",
      "     |      typing.Generic\n",
      "     |      builtins.object\n",
      "     |  \n",
      "     |  Methods defined here:\n",
      "     |  \n",
      "     |  __getitem__(self, idx)\n",
      "     |  \n",
      "     |  __init__(self, dataset: torch.utils.data.dataset.Dataset[+T_co], indices: Sequence[int]) -> None\n",
      "     |      Initialize self.  See help(type(self)) for accurate signature.\n",
      "     |  \n",
      "     |  __len__(self)\n",
      "     |  \n",
      "     |  ----------------------------------------------------------------------\n",
      "     |  Data and other attributes defined here:\n",
      "     |  \n",
      "     |  __annotations__ = {'dataset': torch.utils.data.dataset.Dataset[+T_co],...\n",
      "     |  \n",
      "     |  __orig_bases__ = (torch.utils.data.dataset.Dataset[+T_co],)\n",
      "     |  \n",
      "     |  __parameters__ = (+T_co,)\n",
      "     |  \n",
      "     |  ----------------------------------------------------------------------\n",
      "     |  Methods inherited from Dataset:\n",
      "     |  \n",
      "     |  __add__(self, other: 'Dataset[T_co]') -> 'ConcatDataset[T_co]'\n",
      "     |  \n",
      "     |  ----------------------------------------------------------------------\n",
      "     |  Data descriptors inherited from Dataset:\n",
      "     |  \n",
      "     |  __dict__\n",
      "     |      dictionary for instance variables (if defined)\n",
      "     |  \n",
      "     |  __weakref__\n",
      "     |      list of weak references to the object (if defined)\n",
      "     |  \n",
      "     |  ----------------------------------------------------------------------\n",
      "     |  Class methods inherited from typing.Generic:\n",
      "     |  \n",
      "     |  __class_getitem__(params) from builtins.type\n",
      "     |  \n",
      "     |  __init_subclass__(*args, **kwargs) from builtins.type\n",
      "     |      This method is called when a class is subclassed.\n",
      "     |      \n",
      "     |      The default implementation does nothing. It may be\n",
      "     |      overridden to extend subclasses.\n",
      "     |  \n",
      "     |  ----------------------------------------------------------------------\n",
      "     |  Static methods inherited from typing.Generic:\n",
      "     |  \n",
      "     |  __new__(cls, *args, **kwds)\n",
      "     |      Create and return a new object.  See help(type) for accurate signature.\n",
      "    \n",
      "    class SubsetRandomSampler(Sampler)\n",
      "     |  SubsetRandomSampler(*args, **kwds)\n",
      "     |  \n",
      "     |  Samples elements randomly from a given list of indices, without replacement.\n",
      "     |  \n",
      "     |  Args:\n",
      "     |      indices (sequence): a sequence of indices\n",
      "     |      generator (Generator): Generator used in sampling.\n",
      "     |  \n",
      "     |  Method resolution order:\n",
      "     |      SubsetRandomSampler\n",
      "     |      Sampler\n",
      "     |      typing.Generic\n",
      "     |      builtins.object\n",
      "     |  \n",
      "     |  Methods defined here:\n",
      "     |  \n",
      "     |  __init__(self, indices: Sequence[int], generator=None) -> None\n",
      "     |      Initialize self.  See help(type(self)) for accurate signature.\n",
      "     |  \n",
      "     |  __iter__(self) -> Iterator[int]\n",
      "     |  \n",
      "     |  __len__(self) -> int\n",
      "     |  \n",
      "     |  ----------------------------------------------------------------------\n",
      "     |  Data and other attributes defined here:\n",
      "     |  \n",
      "     |  __annotations__ = {'indices': typing.Sequence[int]}\n",
      "     |  \n",
      "     |  __orig_bases__ = (torch.utils.data.sampler.Sampler[int],)\n",
      "     |  \n",
      "     |  __parameters__ = ()\n",
      "     |  \n",
      "     |  ----------------------------------------------------------------------\n",
      "     |  Data descriptors inherited from Sampler:\n",
      "     |  \n",
      "     |  __dict__\n",
      "     |      dictionary for instance variables (if defined)\n",
      "     |  \n",
      "     |  __weakref__\n",
      "     |      list of weak references to the object (if defined)\n",
      "     |  \n",
      "     |  ----------------------------------------------------------------------\n",
      "     |  Class methods inherited from typing.Generic:\n",
      "     |  \n",
      "     |  __class_getitem__(params) from builtins.type\n",
      "     |  \n",
      "     |  __init_subclass__(*args, **kwargs) from builtins.type\n",
      "     |      This method is called when a class is subclassed.\n",
      "     |      \n",
      "     |      The default implementation does nothing. It may be\n",
      "     |      overridden to extend subclasses.\n",
      "     |  \n",
      "     |  ----------------------------------------------------------------------\n",
      "     |  Static methods inherited from typing.Generic:\n",
      "     |  \n",
      "     |  __new__(cls, *args, **kwds)\n",
      "     |      Create and return a new object.  See help(type) for accurate signature.\n",
      "    \n",
      "    class TensorDataset(Dataset)\n",
      "     |  TensorDataset(*args, **kwds)\n",
      "     |  \n",
      "     |  Dataset wrapping tensors.\n",
      "     |  \n",
      "     |  Each sample will be retrieved by indexing tensors along the first dimension.\n",
      "     |  \n",
      "     |  Args:\n",
      "     |      *tensors (Tensor): tensors that have the same size of the first dimension.\n",
      "     |  \n",
      "     |  Method resolution order:\n",
      "     |      TensorDataset\n",
      "     |      Dataset\n",
      "     |      typing.Generic\n",
      "     |      builtins.object\n",
      "     |  \n",
      "     |  Methods defined here:\n",
      "     |  \n",
      "     |  __getitem__(self, index)\n",
      "     |  \n",
      "     |  __init__(self, *tensors: torch.Tensor) -> None\n",
      "     |      Initialize self.  See help(type(self)) for accurate signature.\n",
      "     |  \n",
      "     |  __len__(self)\n",
      "     |  \n",
      "     |  ----------------------------------------------------------------------\n",
      "     |  Data and other attributes defined here:\n",
      "     |  \n",
      "     |  __annotations__ = {'tensors': typing.Tuple[torch.Tensor, ...]}\n",
      "     |  \n",
      "     |  __orig_bases__ = (torch.utils.data.dataset.Dataset[typing.Tuple[torch....\n",
      "     |  \n",
      "     |  __parameters__ = ()\n",
      "     |  \n",
      "     |  ----------------------------------------------------------------------\n",
      "     |  Methods inherited from Dataset:\n",
      "     |  \n",
      "     |  __add__(self, other: 'Dataset[T_co]') -> 'ConcatDataset[T_co]'\n",
      "     |  \n",
      "     |  ----------------------------------------------------------------------\n",
      "     |  Data descriptors inherited from Dataset:\n",
      "     |  \n",
      "     |  __dict__\n",
      "     |      dictionary for instance variables (if defined)\n",
      "     |  \n",
      "     |  __weakref__\n",
      "     |      list of weak references to the object (if defined)\n",
      "     |  \n",
      "     |  ----------------------------------------------------------------------\n",
      "     |  Class methods inherited from typing.Generic:\n",
      "     |  \n",
      "     |  __class_getitem__(params) from builtins.type\n",
      "     |  \n",
      "     |  __init_subclass__(*args, **kwargs) from builtins.type\n",
      "     |      This method is called when a class is subclassed.\n",
      "     |      \n",
      "     |      The default implementation does nothing. It may be\n",
      "     |      overridden to extend subclasses.\n",
      "     |  \n",
      "     |  ----------------------------------------------------------------------\n",
      "     |  Static methods inherited from typing.Generic:\n",
      "     |  \n",
      "     |  __new__(cls, *args, **kwds)\n",
      "     |      Create and return a new object.  See help(type) for accurate signature.\n",
      "    \n",
      "    class WeightedRandomSampler(Sampler)\n",
      "     |  WeightedRandomSampler(*args, **kwds)\n",
      "     |  \n",
      "     |  Samples elements from ``[0,..,len(weights)-1]`` with given probabilities (weights).\n",
      "     |  \n",
      "     |  Args:\n",
      "     |      weights (sequence)   : a sequence of weights, not necessary summing up to one\n",
      "     |      num_samples (int): number of samples to draw\n",
      "     |      replacement (bool): if ``True``, samples are drawn with replacement.\n",
      "     |          If not, they are drawn without replacement, which means that when a\n",
      "     |          sample index is drawn for a row, it cannot be drawn again for that row.\n",
      "     |      generator (Generator): Generator used in sampling.\n",
      "     |  \n",
      "     |  Example:\n",
      "     |      >>> list(WeightedRandomSampler([0.1, 0.9, 0.4, 0.7, 3.0, 0.6], 5, replacement=True))\n",
      "     |      [4, 4, 1, 4, 5]\n",
      "     |      >>> list(WeightedRandomSampler([0.9, 0.4, 0.05, 0.2, 0.3, 0.1], 5, replacement=False))\n",
      "     |      [0, 1, 4, 3, 2]\n",
      "     |  \n",
      "     |  Method resolution order:\n",
      "     |      WeightedRandomSampler\n",
      "     |      Sampler\n",
      "     |      typing.Generic\n",
      "     |      builtins.object\n",
      "     |  \n",
      "     |  Methods defined here:\n",
      "     |  \n",
      "     |  __init__(self, weights: Sequence[float], num_samples: int, replacement: bool = True, generator=None) -> None\n",
      "     |      Initialize self.  See help(type(self)) for accurate signature.\n",
      "     |  \n",
      "     |  __iter__(self) -> Iterator[int]\n",
      "     |  \n",
      "     |  __len__(self) -> int\n",
      "     |  \n",
      "     |  ----------------------------------------------------------------------\n",
      "     |  Data and other attributes defined here:\n",
      "     |  \n",
      "     |  __annotations__ = {'num_samples': <class 'int'>, 'replacement': <class...\n",
      "     |  \n",
      "     |  __orig_bases__ = (torch.utils.data.sampler.Sampler[int],)\n",
      "     |  \n",
      "     |  __parameters__ = ()\n",
      "     |  \n",
      "     |  ----------------------------------------------------------------------\n",
      "     |  Data descriptors inherited from Sampler:\n",
      "     |  \n",
      "     |  __dict__\n",
      "     |      dictionary for instance variables (if defined)\n",
      "     |  \n",
      "     |  __weakref__\n",
      "     |      list of weak references to the object (if defined)\n",
      "     |  \n",
      "     |  ----------------------------------------------------------------------\n",
      "     |  Class methods inherited from typing.Generic:\n",
      "     |  \n",
      "     |  __class_getitem__(params) from builtins.type\n",
      "     |  \n",
      "     |  __init_subclass__(*args, **kwargs) from builtins.type\n",
      "     |      This method is called when a class is subclassed.\n",
      "     |      \n",
      "     |      The default implementation does nothing. It may be\n",
      "     |      overridden to extend subclasses.\n",
      "     |  \n",
      "     |  ----------------------------------------------------------------------\n",
      "     |  Static methods inherited from typing.Generic:\n",
      "     |  \n",
      "     |  __new__(cls, *args, **kwds)\n",
      "     |      Create and return a new object.  See help(type) for accurate signature.\n",
      "    \n",
      "    class _DatasetKind(builtins.object)\n",
      "     |  Static methods defined here:\n",
      "     |  \n",
      "     |  create_fetcher(kind, dataset, auto_collation, collate_fn, drop_last)\n",
      "     |  \n",
      "     |  ----------------------------------------------------------------------\n",
      "     |  Data descriptors defined here:\n",
      "     |  \n",
      "     |  __dict__\n",
      "     |      dictionary for instance variables (if defined)\n",
      "     |  \n",
      "     |  __weakref__\n",
      "     |      list of weak references to the object (if defined)\n",
      "     |  \n",
      "     |  ----------------------------------------------------------------------\n",
      "     |  Data and other attributes defined here:\n",
      "     |  \n",
      "     |  Iterable = 1\n",
      "     |  \n",
      "     |  Map = 0\n",
      "    \n",
      "    class functional_datapipe(builtins.object)\n",
      "     |  functional_datapipe(name: str) -> None\n",
      "     |  \n",
      "     |  ######################################################\n",
      "     |  # Functional API\n",
      "     |  ######################################################\n",
      "     |  \n",
      "     |  Methods defined here:\n",
      "     |  \n",
      "     |  __call__(self, cls)\n",
      "     |      Call self as a function.\n",
      "     |  \n",
      "     |  __init__(self, name: str) -> None\n",
      "     |      Initialize self.  See help(type(self)) for accurate signature.\n",
      "     |  \n",
      "     |  ----------------------------------------------------------------------\n",
      "     |  Data descriptors defined here:\n",
      "     |  \n",
      "     |  __dict__\n",
      "     |      dictionary for instance variables (if defined)\n",
      "     |  \n",
      "     |  __weakref__\n",
      "     |      list of weak references to the object (if defined)\n",
      "     |  \n",
      "     |  ----------------------------------------------------------------------\n",
      "     |  Data and other attributes defined here:\n",
      "     |  \n",
      "     |  __annotations__ = {'name': <class 'str'>}\n",
      "    \n",
      "    class guaranteed_datapipes_determinism(builtins.object)\n",
      "     |  guaranteed_datapipes_determinism() -> None\n",
      "     |  \n",
      "     |  Methods defined here:\n",
      "     |  \n",
      "     |  __enter__(self) -> None\n",
      "     |  \n",
      "     |  __exit__(self, exc_type: Any, exc_value: Any, traceback: Any) -> None\n",
      "     |  \n",
      "     |  __init__(self) -> None\n",
      "     |      Initialize self.  See help(type(self)) for accurate signature.\n",
      "     |  \n",
      "     |  ----------------------------------------------------------------------\n",
      "     |  Data descriptors defined here:\n",
      "     |  \n",
      "     |  __dict__\n",
      "     |      dictionary for instance variables (if defined)\n",
      "     |  \n",
      "     |  __weakref__\n",
      "     |      list of weak references to the object (if defined)\n",
      "     |  \n",
      "     |  ----------------------------------------------------------------------\n",
      "     |  Data and other attributes defined here:\n",
      "     |  \n",
      "     |  __annotations__ = {'prev': <class 'bool'>}\n",
      "    \n",
      "    class non_deterministic(builtins.object)\n",
      "     |  non_deterministic(arg: Union[Type[torch.utils.data.dataset.IterableDataset], Callable[[], bool]]) -> None\n",
      "     |  \n",
      "     |  Methods defined here:\n",
      "     |  \n",
      "     |  __call__(self, *args, **kwargs)\n",
      "     |      Call self as a function.\n",
      "     |  \n",
      "     |  __init__(self, arg: Union[Type[torch.utils.data.dataset.IterableDataset], Callable[[], bool]]) -> None\n",
      "     |      Initialize self.  See help(type(self)) for accurate signature.\n",
      "     |  \n",
      "     |  deterministic_wrapper_fn(self, *args, **kwargs) -> torch.utils.data.dataset.IterableDataset\n",
      "     |  \n",
      "     |  ----------------------------------------------------------------------\n",
      "     |  Data descriptors defined here:\n",
      "     |  \n",
      "     |  __dict__\n",
      "     |      dictionary for instance variables (if defined)\n",
      "     |  \n",
      "     |  __weakref__\n",
      "     |      list of weak references to the object (if defined)\n",
      "     |  \n",
      "     |  ----------------------------------------------------------------------\n",
      "     |  Data and other attributes defined here:\n",
      "     |  \n",
      "     |  __annotations__ = {'cls': typing.Union[typing.Type[torch.utils.data.da...\n",
      "     |  \n",
      "     |  cls = None\n",
      "    \n",
      "    class runtime_validation_disabled(builtins.object)\n",
      "     |  runtime_validation_disabled() -> None\n",
      "     |  \n",
      "     |  Methods defined here:\n",
      "     |  \n",
      "     |  __enter__(self) -> None\n",
      "     |  \n",
      "     |  __exit__(self, exc_type: Any, exc_value: Any, traceback: Any) -> None\n",
      "     |  \n",
      "     |  __init__(self) -> None\n",
      "     |      Initialize self.  See help(type(self)) for accurate signature.\n",
      "     |  \n",
      "     |  ----------------------------------------------------------------------\n",
      "     |  Data descriptors defined here:\n",
      "     |  \n",
      "     |  __dict__\n",
      "     |      dictionary for instance variables (if defined)\n",
      "     |  \n",
      "     |  __weakref__\n",
      "     |      list of weak references to the object (if defined)\n",
      "     |  \n",
      "     |  ----------------------------------------------------------------------\n",
      "     |  Data and other attributes defined here:\n",
      "     |  \n",
      "     |  __annotations__ = {'prev': <class 'bool'>}\n",
      "\n",
      "FUNCTIONS\n",
      "    argument_validation(f)\n",
      "        ######################################################\n",
      "        # typing\n",
      "        ######################################################\n",
      "        # Validate each argument of DataPipe with hint as a subtype of the hint.\n",
      "    \n",
      "    get_worker_info()\n",
      "        Returns the information about the current\n",
      "        :class:`~torch.utils.data.DataLoader` iterator worker process.\n",
      "        \n",
      "        When called in a worker, this returns an object guaranteed to have the\n",
      "        following attributes:\n",
      "        \n",
      "        * :attr:`id`: the current worker id.\n",
      "        * :attr:`num_workers`: the total number of workers.\n",
      "        * :attr:`seed`: the random seed set for the current worker. This value is\n",
      "          determined by main process RNG and the worker id. See\n",
      "          :class:`~torch.utils.data.DataLoader`'s documentation for more details.\n",
      "        * :attr:`dataset`: the copy of the dataset object in **this** process. Note\n",
      "          that this will be a different object in a different process than the one\n",
      "          in the main process.\n",
      "        \n",
      "        When called in the main process, this returns ``None``.\n",
      "        \n",
      "        .. note::\n",
      "           When used in a :attr:`worker_init_fn` passed over to\n",
      "           :class:`~torch.utils.data.DataLoader`, this method can be useful to\n",
      "           set up each worker process differently, for instance, using ``worker_id``\n",
      "           to configure the ``dataset`` object to only read a specific fraction of a\n",
      "           sharded dataset, or use ``seed`` to seed other libraries used in dataset\n",
      "           code.\n",
      "    \n",
      "    random_split(dataset: torch.utils.data.dataset.Dataset[~T], lengths: Sequence[int], generator: Union[torch._C.Generator, NoneType] = <torch._C.Generator object at 0x7f326c1ea850>) -> List[torch.utils.data.dataset.Subset[~T]]\n",
      "        Randomly split a dataset into non-overlapping new datasets of given lengths.\n",
      "        Optionally fix the generator for reproducible results, e.g.:\n",
      "        \n",
      "        >>> random_split(range(10), [3, 7], generator=torch.Generator().manual_seed(42))\n",
      "        \n",
      "        Args:\n",
      "            dataset (Dataset): Dataset to be split\n",
      "            lengths (sequence): lengths of splits to be produced\n",
      "            generator (Generator): Generator used for the random permutation.\n",
      "    \n",
      "    runtime_validation(f)\n",
      "        # Runtime checking\n",
      "        # Validate output data is subtype of return hint\n",
      "\n",
      "DATA\n",
      "    __all__ = ['Sampler', 'SequentialSampler', 'RandomSampler', 'SubsetRan...\n",
      "\n",
      "FILE\n",
      "    /usr/local/lib/python3.7/dist-packages/torch/utils/data/__init__.py\n",
      "\n",
      "\n"
     ]
    }
   ],
   "source": [
    "help(torch.utils.data)"
   ]
  },
  {
   "cell_type": "code",
   "execution_count": 8,
   "metadata": {
    "executionInfo": {
     "elapsed": 78,
     "status": "ok",
     "timestamp": 1636224766404,
     "user": {
      "displayName": "Mariha Tabassum",
      "photoUrl": "https://lh3.googleusercontent.com/a-/AOh14Gjwsopeh-iYNtF4s4wBJmiMIRSh1UxQO_hmmDWRoQ=s64",
      "userId": "00329422506247154064"
     },
     "user_tz": -360
    },
    "id": "B0ssnAEwRzor"
   },
   "outputs": [],
   "source": [
    "from skimage import io"
   ]
  },
  {
   "cell_type": "code",
   "execution_count": 9,
   "metadata": {
    "colab": {
     "base_uri": "https://localhost:8080/"
    },
    "executionInfo": {
     "elapsed": 78,
     "status": "ok",
     "timestamp": 1636224766405,
     "user": {
      "displayName": "Mariha Tabassum",
      "photoUrl": "https://lh3.googleusercontent.com/a-/AOh14Gjwsopeh-iYNtF4s4wBJmiMIRSh1UxQO_hmmDWRoQ=s64",
      "userId": "00329422506247154064"
     },
     "user_tz": -360
    },
    "id": "aAs3FVsjRzos",
    "outputId": "b9127466-c4a4-4c94-da50-a673a34d13d4"
   },
   "outputs": [
    {
     "name": "stdout",
     "output_type": "stream",
     "text": [
      "Help on package skimage.io in skimage:\n",
      "\n",
      "NAME\n",
      "    skimage.io - Utilities to read and write images in various formats.\n",
      "\n",
      "DESCRIPTION\n",
      "    The following plug-ins are available:\n",
      "    \n",
      "    ========== ==============================================================\n",
      "    Plugin     Description\n",
      "    ---------- --------------------------------------------------------------\n",
      "    fits       FITS image reading via PyFITS\n",
      "    gdal       Image reading via the GDAL Library (www.gdal.org)\n",
      "    gtk        Fast image display using the GTK library\n",
      "    simpleitk  Image reading and writing via SimpleITK\n",
      "    tifffile   Load and save TIFF and TIFF-based images using tifffile.py\n",
      "    matplotlib Display or save images using Matplotlib\n",
      "    imageio    Image reading via the ImageIO Library\n",
      "    pil        Image reading via the Python Imaging Library\n",
      "    imread     Image reading and writing via imread\n",
      "    qt         Fast image display using the Qt library\n",
      "    ========== ==============================================================\n",
      "\n",
      "PACKAGE CONTENTS\n",
      "    _image_stack\n",
      "    _io\n",
      "    _plugins (package)\n",
      "    collection\n",
      "    manage_plugins\n",
      "    setup\n",
      "    sift\n",
      "    tests (package)\n",
      "    util\n",
      "\n",
      "DATA\n",
      "    WRAP_LEN = 73\n",
      "    available_plugins = {'fits': ['imread', 'imread_collection'], 'gdal': ...\n",
      "    image_stack = []\n",
      "\n",
      "FILE\n",
      "    /usr/local/lib/python3.7/dist-packages/skimage/io/__init__.py\n",
      "\n",
      "\n"
     ]
    }
   ],
   "source": [
    "help(io)"
   ]
  },
  {
   "cell_type": "markdown",
   "metadata": {
    "id": "b8h1SZ4DRzot"
   },
   "source": [
    "My Note: \n",
    "\n",
    "1. __init__ method: https://www.edureka.co/blog/init-in-python/#:~:text=__init__%20is%20one,the%20attributes%20of%20the%20class.\n",
    "& https://www.geeksforgeeks.org/__init__-in-python/\n",
    "\n",
    "__init__ is one of the reserved methods in Python. In object oriented programming, it is known as a constructor. The __init__ method can be called when an object is created from the class, and access is required to initialize the attributes of the class.\n",
    "\n",
    "2. __len__ method: https://docs.python.org/release/2.7.3/reference/datamodel.html#special-method-lookup-for-new-style-classes\n",
    "& \n",
    "\n",
    "3. __getitem__ method: https://www.xspdf.com/resolution/58548957.html"
   ]
  },
  {
   "cell_type": "code",
   "execution_count": 10,
   "metadata": {
    "executionInfo": {
     "elapsed": 649,
     "status": "ok",
     "timestamp": 1636224767049,
     "user": {
      "displayName": "Mariha Tabassum",
      "photoUrl": "https://lh3.googleusercontent.com/a-/AOh14Gjwsopeh-iYNtF4s4wBJmiMIRSh1UxQO_hmmDWRoQ=s64",
      "userId": "00329422506247154064"
     },
     "user_tz": -360
    },
    "id": "7qcXnC_HRzot"
   },
   "outputs": [],
   "source": [
    "class NudibranchFlatwormDataset(Dataset):\n",
    "    def __init__(self, csv_file, root_dir, transform=None):\n",
    "        self.annotations= pd.read_csv(csv_file)\n",
    "        self.root_dir =root_dir\n",
    "        self.transform= transforms.Compose([\n",
    "            transforms.ToPILImage(),\n",
    "            transforms.Resize((120,120)),\n",
    "            transforms.ToTensor()])\n",
    "    def __len__(self):\n",
    "        return len(self.annotations)\n",
    "    def __getitem__(self, index):\n",
    "        img_path=os.path.join(self.root_dir, self.annotations.iloc[index, 0])\n",
    "        image=  io.imread(img_path)\n",
    "        y_label= torch.tensor(int(self.annotations.iloc[index, 1]))\n",
    "         \n",
    "        if self.transform:\n",
    "            image= self.transform(image)\n",
    "            \n",
    "        return (image, y_label)"
   ]
  },
  {
   "cell_type": "markdown",
   "metadata": {
    "id": "UXE3LeQgRzou"
   },
   "source": [
    "My Note: \n",
    " \n",
    "1. module error in class function: https://stackoverflow.com/questions/14583761/typeerror-module-init-takes-at-most-2-arguments-3-given\n"
   ]
  },
  {
   "cell_type": "markdown",
   "metadata": {
    "id": "EKodhYp2tgX_"
   },
   "source": [
    "My Note: To Resize dataset: \n",
    "https://discuss.pytorch.org/t/resizing-dataset/75620/6"
   ]
  },
  {
   "cell_type": "markdown",
   "metadata": {
    "id": "I6EkbIO0xRYe"
   },
   "source": [
    "My Note: Error check for resizing: https://stackoverflow.com/questions/32302180/typeerror-image-data-can-not-convert-to-float"
   ]
  },
  {
   "cell_type": "code",
   "execution_count": 11,
   "metadata": {
    "colab": {
     "base_uri": "https://localhost:8080/"
    },
    "executionInfo": {
     "elapsed": 19,
     "status": "ok",
     "timestamp": 1636224767051,
     "user": {
      "displayName": "Mariha Tabassum",
      "photoUrl": "https://lh3.googleusercontent.com/a-/AOh14Gjwsopeh-iYNtF4s4wBJmiMIRSh1UxQO_hmmDWRoQ=s64",
      "userId": "00329422506247154064"
     },
     "user_tz": -360
    },
    "id": "8AZPpP2qRzou",
    "outputId": "311b8461-9a4e-4abe-d99e-80a2496f86e2"
   },
   "outputs": [
    {
     "name": "stdout",
     "output_type": "stream",
     "text": [
      "Help on module csv:\n",
      "\n",
      "NAME\n",
      "    csv - CSV parsing and writing.\n",
      "\n",
      "MODULE REFERENCE\n",
      "    https://docs.python.org/3.7/library/csv\n",
      "    \n",
      "    The following documentation is automatically generated from the Python\n",
      "    source files.  It may be incomplete, incorrect or include features that\n",
      "    are considered implementation detail and may vary between Python\n",
      "    implementations.  When in doubt, consult the module reference at the\n",
      "    location listed above.\n",
      "\n",
      "DESCRIPTION\n",
      "    This module provides classes that assist in the reading and writing\n",
      "    of Comma Separated Value (CSV) files, and implements the interface\n",
      "    described by PEP 305.  Although many CSV files are simple to parse,\n",
      "    the format is not formally defined by a stable specification and\n",
      "    is subtle enough that parsing lines of a CSV file with something\n",
      "    like line.split(\",\") is bound to fail.  The module supports three\n",
      "    basic APIs: reading, writing, and registration of dialects.\n",
      "    \n",
      "    \n",
      "    DIALECT REGISTRATION:\n",
      "    \n",
      "    Readers and writers support a dialect argument, which is a convenient\n",
      "    handle on a group of settings.  When the dialect argument is a string,\n",
      "    it identifies one of the dialects previously registered with the module.\n",
      "    If it is a class or instance, the attributes of the argument are used as\n",
      "    the settings for the reader or writer:\n",
      "    \n",
      "        class excel:\n",
      "            delimiter = ','\n",
      "            quotechar = '\"'\n",
      "            escapechar = None\n",
      "            doublequote = True\n",
      "            skipinitialspace = False\n",
      "            lineterminator = '\\r\\n'\n",
      "            quoting = QUOTE_MINIMAL\n",
      "    \n",
      "    SETTINGS:\n",
      "    \n",
      "        * quotechar - specifies a one-character string to use as the \n",
      "            quoting character.  It defaults to '\"'.\n",
      "        * delimiter - specifies a one-character string to use as the \n",
      "            field separator.  It defaults to ','.\n",
      "        * skipinitialspace - specifies how to interpret whitespace which\n",
      "            immediately follows a delimiter.  It defaults to False, which\n",
      "            means that whitespace immediately following a delimiter is part\n",
      "            of the following field.\n",
      "        * lineterminator -  specifies the character sequence which should \n",
      "            terminate rows.\n",
      "        * quoting - controls when quotes should be generated by the writer.\n",
      "            It can take on any of the following module constants:\n",
      "    \n",
      "            csv.QUOTE_MINIMAL means only when required, for example, when a\n",
      "                field contains either the quotechar or the delimiter\n",
      "            csv.QUOTE_ALL means that quotes are always placed around fields.\n",
      "            csv.QUOTE_NONNUMERIC means that quotes are always placed around\n",
      "                fields which do not parse as integers or floating point\n",
      "                numbers.\n",
      "            csv.QUOTE_NONE means that quotes are never placed around fields.\n",
      "        * escapechar - specifies a one-character string used to escape \n",
      "            the delimiter when quoting is set to QUOTE_NONE.\n",
      "        * doublequote - controls the handling of quotes inside fields.  When\n",
      "            True, two consecutive quotes are interpreted as one during read,\n",
      "            and when writing, each quote character embedded in the data is\n",
      "            written as two quotes\n",
      "\n",
      "CLASSES\n",
      "    builtins.Exception(builtins.BaseException)\n",
      "        _csv.Error\n",
      "    builtins.object\n",
      "        Dialect\n",
      "            excel\n",
      "                excel_tab\n",
      "            unix_dialect\n",
      "        DictReader\n",
      "        DictWriter\n",
      "        Sniffer\n",
      "    \n",
      "    class Dialect(builtins.object)\n",
      "     |  Describe a CSV dialect.\n",
      "     |  \n",
      "     |  This must be subclassed (see csv.excel).  Valid attributes are:\n",
      "     |  delimiter, quotechar, escapechar, doublequote, skipinitialspace,\n",
      "     |  lineterminator, quoting.\n",
      "     |  \n",
      "     |  Methods defined here:\n",
      "     |  \n",
      "     |  __init__(self)\n",
      "     |      Initialize self.  See help(type(self)) for accurate signature.\n",
      "     |  \n",
      "     |  ----------------------------------------------------------------------\n",
      "     |  Data descriptors defined here:\n",
      "     |  \n",
      "     |  __dict__\n",
      "     |      dictionary for instance variables (if defined)\n",
      "     |  \n",
      "     |  __weakref__\n",
      "     |      list of weak references to the object (if defined)\n",
      "     |  \n",
      "     |  ----------------------------------------------------------------------\n",
      "     |  Data and other attributes defined here:\n",
      "     |  \n",
      "     |  delimiter = None\n",
      "     |  \n",
      "     |  doublequote = None\n",
      "     |  \n",
      "     |  escapechar = None\n",
      "     |  \n",
      "     |  lineterminator = None\n",
      "     |  \n",
      "     |  quotechar = None\n",
      "     |  \n",
      "     |  quoting = None\n",
      "     |  \n",
      "     |  skipinitialspace = None\n",
      "    \n",
      "    class DictReader(builtins.object)\n",
      "     |  DictReader(f, fieldnames=None, restkey=None, restval=None, dialect='excel', *args, **kwds)\n",
      "     |  \n",
      "     |  Methods defined here:\n",
      "     |  \n",
      "     |  __init__(self, f, fieldnames=None, restkey=None, restval=None, dialect='excel', *args, **kwds)\n",
      "     |      Initialize self.  See help(type(self)) for accurate signature.\n",
      "     |  \n",
      "     |  __iter__(self)\n",
      "     |  \n",
      "     |  __next__(self)\n",
      "     |  \n",
      "     |  ----------------------------------------------------------------------\n",
      "     |  Data descriptors defined here:\n",
      "     |  \n",
      "     |  __dict__\n",
      "     |      dictionary for instance variables (if defined)\n",
      "     |  \n",
      "     |  __weakref__\n",
      "     |      list of weak references to the object (if defined)\n",
      "     |  \n",
      "     |  fieldnames\n",
      "    \n",
      "    class DictWriter(builtins.object)\n",
      "     |  DictWriter(f, fieldnames, restval='', extrasaction='raise', dialect='excel', *args, **kwds)\n",
      "     |  \n",
      "     |  Methods defined here:\n",
      "     |  \n",
      "     |  __init__(self, f, fieldnames, restval='', extrasaction='raise', dialect='excel', *args, **kwds)\n",
      "     |      Initialize self.  See help(type(self)) for accurate signature.\n",
      "     |  \n",
      "     |  writeheader(self)\n",
      "     |  \n",
      "     |  writerow(self, rowdict)\n",
      "     |  \n",
      "     |  writerows(self, rowdicts)\n",
      "     |  \n",
      "     |  ----------------------------------------------------------------------\n",
      "     |  Data descriptors defined here:\n",
      "     |  \n",
      "     |  __dict__\n",
      "     |      dictionary for instance variables (if defined)\n",
      "     |  \n",
      "     |  __weakref__\n",
      "     |      list of weak references to the object (if defined)\n",
      "    \n",
      "    class Error(builtins.Exception)\n",
      "     |  Common base class for all non-exit exceptions.\n",
      "     |  \n",
      "     |  Method resolution order:\n",
      "     |      Error\n",
      "     |      builtins.Exception\n",
      "     |      builtins.BaseException\n",
      "     |      builtins.object\n",
      "     |  \n",
      "     |  Data descriptors defined here:\n",
      "     |  \n",
      "     |  __weakref__\n",
      "     |      list of weak references to the object (if defined)\n",
      "     |  \n",
      "     |  ----------------------------------------------------------------------\n",
      "     |  Methods inherited from builtins.Exception:\n",
      "     |  \n",
      "     |  __init__(self, /, *args, **kwargs)\n",
      "     |      Initialize self.  See help(type(self)) for accurate signature.\n",
      "     |  \n",
      "     |  ----------------------------------------------------------------------\n",
      "     |  Static methods inherited from builtins.Exception:\n",
      "     |  \n",
      "     |  __new__(*args, **kwargs) from builtins.type\n",
      "     |      Create and return a new object.  See help(type) for accurate signature.\n",
      "     |  \n",
      "     |  ----------------------------------------------------------------------\n",
      "     |  Methods inherited from builtins.BaseException:\n",
      "     |  \n",
      "     |  __delattr__(self, name, /)\n",
      "     |      Implement delattr(self, name).\n",
      "     |  \n",
      "     |  __getattribute__(self, name, /)\n",
      "     |      Return getattr(self, name).\n",
      "     |  \n",
      "     |  __reduce__(...)\n",
      "     |      Helper for pickle.\n",
      "     |  \n",
      "     |  __repr__(self, /)\n",
      "     |      Return repr(self).\n",
      "     |  \n",
      "     |  __setattr__(self, name, value, /)\n",
      "     |      Implement setattr(self, name, value).\n",
      "     |  \n",
      "     |  __setstate__(...)\n",
      "     |  \n",
      "     |  __str__(self, /)\n",
      "     |      Return str(self).\n",
      "     |  \n",
      "     |  with_traceback(...)\n",
      "     |      Exception.with_traceback(tb) --\n",
      "     |      set self.__traceback__ to tb and return self.\n",
      "     |  \n",
      "     |  ----------------------------------------------------------------------\n",
      "     |  Data descriptors inherited from builtins.BaseException:\n",
      "     |  \n",
      "     |  __cause__\n",
      "     |      exception cause\n",
      "     |  \n",
      "     |  __context__\n",
      "     |      exception context\n",
      "     |  \n",
      "     |  __dict__\n",
      "     |  \n",
      "     |  __suppress_context__\n",
      "     |  \n",
      "     |  __traceback__\n",
      "     |  \n",
      "     |  args\n",
      "    \n",
      "    class Sniffer(builtins.object)\n",
      "     |  \"Sniffs\" the format of a CSV file (i.e. delimiter, quotechar)\n",
      "     |  Returns a Dialect object.\n",
      "     |  \n",
      "     |  Methods defined here:\n",
      "     |  \n",
      "     |  __init__(self)\n",
      "     |      Initialize self.  See help(type(self)) for accurate signature.\n",
      "     |  \n",
      "     |  has_header(self, sample)\n",
      "     |  \n",
      "     |  sniff(self, sample, delimiters=None)\n",
      "     |      Returns a dialect (or None) corresponding to the sample\n",
      "     |  \n",
      "     |  ----------------------------------------------------------------------\n",
      "     |  Data descriptors defined here:\n",
      "     |  \n",
      "     |  __dict__\n",
      "     |      dictionary for instance variables (if defined)\n",
      "     |  \n",
      "     |  __weakref__\n",
      "     |      list of weak references to the object (if defined)\n",
      "    \n",
      "    class excel(Dialect)\n",
      "     |  Describe the usual properties of Excel-generated CSV files.\n",
      "     |  \n",
      "     |  Method resolution order:\n",
      "     |      excel\n",
      "     |      Dialect\n",
      "     |      builtins.object\n",
      "     |  \n",
      "     |  Data and other attributes defined here:\n",
      "     |  \n",
      "     |  delimiter = ','\n",
      "     |  \n",
      "     |  doublequote = True\n",
      "     |  \n",
      "     |  lineterminator = '\\r\\n'\n",
      "     |  \n",
      "     |  quotechar = '\"'\n",
      "     |  \n",
      "     |  quoting = 0\n",
      "     |  \n",
      "     |  skipinitialspace = False\n",
      "     |  \n",
      "     |  ----------------------------------------------------------------------\n",
      "     |  Methods inherited from Dialect:\n",
      "     |  \n",
      "     |  __init__(self)\n",
      "     |      Initialize self.  See help(type(self)) for accurate signature.\n",
      "     |  \n",
      "     |  ----------------------------------------------------------------------\n",
      "     |  Data descriptors inherited from Dialect:\n",
      "     |  \n",
      "     |  __dict__\n",
      "     |      dictionary for instance variables (if defined)\n",
      "     |  \n",
      "     |  __weakref__\n",
      "     |      list of weak references to the object (if defined)\n",
      "     |  \n",
      "     |  ----------------------------------------------------------------------\n",
      "     |  Data and other attributes inherited from Dialect:\n",
      "     |  \n",
      "     |  escapechar = None\n",
      "    \n",
      "    class excel_tab(excel)\n",
      "     |  Describe the usual properties of Excel-generated TAB-delimited files.\n",
      "     |  \n",
      "     |  Method resolution order:\n",
      "     |      excel_tab\n",
      "     |      excel\n",
      "     |      Dialect\n",
      "     |      builtins.object\n",
      "     |  \n",
      "     |  Data and other attributes defined here:\n",
      "     |  \n",
      "     |  delimiter = '\\t'\n",
      "     |  \n",
      "     |  ----------------------------------------------------------------------\n",
      "     |  Data and other attributes inherited from excel:\n",
      "     |  \n",
      "     |  doublequote = True\n",
      "     |  \n",
      "     |  lineterminator = '\\r\\n'\n",
      "     |  \n",
      "     |  quotechar = '\"'\n",
      "     |  \n",
      "     |  quoting = 0\n",
      "     |  \n",
      "     |  skipinitialspace = False\n",
      "     |  \n",
      "     |  ----------------------------------------------------------------------\n",
      "     |  Methods inherited from Dialect:\n",
      "     |  \n",
      "     |  __init__(self)\n",
      "     |      Initialize self.  See help(type(self)) for accurate signature.\n",
      "     |  \n",
      "     |  ----------------------------------------------------------------------\n",
      "     |  Data descriptors inherited from Dialect:\n",
      "     |  \n",
      "     |  __dict__\n",
      "     |      dictionary for instance variables (if defined)\n",
      "     |  \n",
      "     |  __weakref__\n",
      "     |      list of weak references to the object (if defined)\n",
      "     |  \n",
      "     |  ----------------------------------------------------------------------\n",
      "     |  Data and other attributes inherited from Dialect:\n",
      "     |  \n",
      "     |  escapechar = None\n",
      "    \n",
      "    class unix_dialect(Dialect)\n",
      "     |  Describe the usual properties of Unix-generated CSV files.\n",
      "     |  \n",
      "     |  Method resolution order:\n",
      "     |      unix_dialect\n",
      "     |      Dialect\n",
      "     |      builtins.object\n",
      "     |  \n",
      "     |  Data and other attributes defined here:\n",
      "     |  \n",
      "     |  delimiter = ','\n",
      "     |  \n",
      "     |  doublequote = True\n",
      "     |  \n",
      "     |  lineterminator = '\\n'\n",
      "     |  \n",
      "     |  quotechar = '\"'\n",
      "     |  \n",
      "     |  quoting = 1\n",
      "     |  \n",
      "     |  skipinitialspace = False\n",
      "     |  \n",
      "     |  ----------------------------------------------------------------------\n",
      "     |  Methods inherited from Dialect:\n",
      "     |  \n",
      "     |  __init__(self)\n",
      "     |      Initialize self.  See help(type(self)) for accurate signature.\n",
      "     |  \n",
      "     |  ----------------------------------------------------------------------\n",
      "     |  Data descriptors inherited from Dialect:\n",
      "     |  \n",
      "     |  __dict__\n",
      "     |      dictionary for instance variables (if defined)\n",
      "     |  \n",
      "     |  __weakref__\n",
      "     |      list of weak references to the object (if defined)\n",
      "     |  \n",
      "     |  ----------------------------------------------------------------------\n",
      "     |  Data and other attributes inherited from Dialect:\n",
      "     |  \n",
      "     |  escapechar = None\n",
      "\n",
      "FUNCTIONS\n",
      "    field_size_limit(...)\n",
      "        Sets an upper limit on parsed fields.\n",
      "            csv.field_size_limit([limit])\n",
      "        \n",
      "        Returns old limit. If limit is not given, no new limit is set and\n",
      "        the old limit is returned\n",
      "    \n",
      "    get_dialect(...)\n",
      "        Return the dialect instance associated with name.\n",
      "        dialect = csv.get_dialect(name)\n",
      "    \n",
      "    list_dialects(...)\n",
      "        Return a list of all know dialect names.\n",
      "        names = csv.list_dialects()\n",
      "    \n",
      "    reader(...)\n",
      "        csv_reader = reader(iterable [, dialect='excel']\n",
      "                                [optional keyword args])\n",
      "            for row in csv_reader:\n",
      "                process(row)\n",
      "        \n",
      "        The \"iterable\" argument can be any object that returns a line\n",
      "        of input for each iteration, such as a file object or a list.  The\n",
      "        optional \"dialect\" parameter is discussed below.  The function\n",
      "        also accepts optional keyword arguments which override settings\n",
      "        provided by the dialect.\n",
      "        \n",
      "        The returned object is an iterator.  Each iteration returns a row\n",
      "        of the CSV file (which can span multiple input lines).\n",
      "    \n",
      "    register_dialect(...)\n",
      "        Create a mapping from a string name to a dialect class.\n",
      "        dialect = csv.register_dialect(name[, dialect[, **fmtparams]])\n",
      "    \n",
      "    unregister_dialect(...)\n",
      "        Delete the name/dialect mapping associated with a string name.\n",
      "        csv.unregister_dialect(name)\n",
      "    \n",
      "    writer(...)\n",
      "        csv_writer = csv.writer(fileobj [, dialect='excel']\n",
      "                                    [optional keyword args])\n",
      "            for row in sequence:\n",
      "                csv_writer.writerow(row)\n",
      "        \n",
      "            [or]\n",
      "        \n",
      "            csv_writer = csv.writer(fileobj [, dialect='excel']\n",
      "                                    [optional keyword args])\n",
      "            csv_writer.writerows(rows)\n",
      "        \n",
      "        The \"fileobj\" argument can be any object that supports the file API.\n",
      "\n",
      "DATA\n",
      "    QUOTE_ALL = 1\n",
      "    QUOTE_MINIMAL = 0\n",
      "    QUOTE_NONE = 3\n",
      "    QUOTE_NONNUMERIC = 2\n",
      "    __all__ = ['QUOTE_MINIMAL', 'QUOTE_ALL', 'QUOTE_NONNUMERIC', 'QUOTE_NO...\n",
      "\n",
      "VERSION\n",
      "    1.0\n",
      "\n",
      "FILE\n",
      "    /usr/lib/python3.7/csv.py\n",
      "\n",
      "\n"
     ]
    }
   ],
   "source": [
    "import csv\n",
    "help(csv)"
   ]
  },
  {
   "cell_type": "code",
   "execution_count": 89,
   "metadata": {
    "colab": {
     "base_uri": "https://localhost:8080/"
    },
    "executionInfo": {
     "elapsed": 377,
     "status": "ok",
     "timestamp": 1636226305375,
     "user": {
      "displayName": "Mariha Tabassum",
      "photoUrl": "https://lh3.googleusercontent.com/a-/AOh14Gjwsopeh-iYNtF4s4wBJmiMIRSh1UxQO_hmmDWRoQ=s64",
      "userId": "00329422506247154064"
     },
     "user_tz": -360
    },
    "id": "9zIQiFpFIVeU",
    "outputId": "54231b43-ac83-424e-9034-007e55ee12fd"
   },
   "outputs": [
    {
     "name": "stdout",
     "output_type": "stream",
     "text": [
      "Drive already mounted at /content/drive; to attempt to forcibly remount, call drive.mount(\"/content/drive\", force_remount=True).\n"
     ]
    }
   ],
   "source": [
    "from google.colab import drive\n",
    "drive.mount('/content/drive')"
   ]
  },
  {
   "cell_type": "code",
   "execution_count": 155,
   "metadata": {
    "colab": {
     "base_uri": "https://localhost:8080/"
    },
    "executionInfo": {
     "elapsed": 362,
     "status": "ok",
     "timestamp": 1636227303570,
     "user": {
      "displayName": "Mariha Tabassum",
      "photoUrl": "https://lh3.googleusercontent.com/a-/AOh14Gjwsopeh-iYNtF4s4wBJmiMIRSh1UxQO_hmmDWRoQ=s64",
      "userId": "00329422506247154064"
     },
     "user_tz": -360
    },
    "id": "4BhQUBs3Ie4x",
    "outputId": "6b59734c-0637-4774-fdb5-1d7a2df1b91d"
   },
   "outputs": [
    {
     "name": "stdout",
     "output_type": "stream",
     "text": [
      "           nudibranch__flatworm_name  targets\n",
      "0       Chromodoris_elisabethina.jpg        0\n",
      "1   Doriprismatica_atromarginata.jpg        0\n",
      "2            Chromodoris_kuiteri.jpg        0\n",
      "3             Phyllidiella_lizae.jpg        0\n",
      "4              Glossodoris_vespa.jpg        0\n",
      "5      Glossodoris_rufomarginata.jpg        0\n",
      "6             Phyllidia_ocellata.jpg        0\n",
      "7           Hypselodoris_obscura.jpg        0\n",
      "8         Phyllidiella_pustulosa.jpg        0\n",
      "9          Hypselodoris_jacksoni.jpg        0\n",
      "10          Pteraeolidia_semperi.jpg        0\n",
      "11          Thuridilla_splendens.jpg        0\n",
      "12      Goniobranchus_splendidus.jpg        0\n",
      "13        Sagaminopteron_ornatum.jpg        0\n",
      "14                 Aplysia_argus.jpg        0\n",
      "15                Costasiella_sp.jpg        0\n",
      "16                   Acanthozoon.jpg        1\n",
      "17                  Eurylepta_sp.jpg        1\n",
      "18               Maritigrella_sp.jpg        1\n",
      "19                  Planocerid_7.jpg        1\n",
      "20            possibly_Stylochid.jpg        1\n",
      "21         Pseudobiceros_hymanae.jpg        1\n",
      "22        Pseudobiceros_hymanae2.jpg        1\n",
      "23       Pseudoceros_cf_cruentus.jpg        1\n",
      "24      Pseudoceros_cf_stimpsoni.jpg        1\n",
      "25               Pseudocerotidae.jpg        1\n",
      "26             Pseudocerotidae_2.jpg        1\n",
      "27                   Stylochid_8.jpg        1\n",
      "28   Thysanozoon_nigropapillosum.jpg        1\n",
      "29            Tytthosoceros_sp_2.jpg        1\n",
      "30              unknown_flatworm.jpg        1\n"
     ]
    }
   ],
   "source": [
    "nudi_data=pd.read_csv(\"/content/drive/MyDrive/Nudibranch/nudibranchs_flatworms_species_list.csv\")\n",
    "print(nudi_data)\n"
   ]
  },
  {
   "cell_type": "code",
   "execution_count": 156,
   "metadata": {
    "colab": {
     "base_uri": "https://localhost:8080/"
    },
    "executionInfo": {
     "elapsed": 382,
     "status": "ok",
     "timestamp": 1636227307170,
     "user": {
      "displayName": "Mariha Tabassum",
      "photoUrl": "https://lh3.googleusercontent.com/a-/AOh14Gjwsopeh-iYNtF4s4wBJmiMIRSh1UxQO_hmmDWRoQ=s64",
      "userId": "00329422506247154064"
     },
     "user_tz": -360
    },
    "id": "ftP3d-GuRzov",
    "outputId": "b1fb46a3-390e-4478-916a-9df749a8da18"
   },
   "outputs": [
    {
     "data": {
      "text/plain": [
       "31"
      ]
     },
     "execution_count": 156,
     "metadata": {},
     "output_type": "execute_result"
    }
   ],
   "source": [
    "num_data =len(nudi_data)\n",
    "num_data"
   ]
  },
  {
   "cell_type": "code",
   "execution_count": 157,
   "metadata": {
    "colab": {
     "base_uri": "https://localhost:8080/"
    },
    "executionInfo": {
     "elapsed": 587,
     "status": "ok",
     "timestamp": 1636227309689,
     "user": {
      "displayName": "Mariha Tabassum",
      "photoUrl": "https://lh3.googleusercontent.com/a-/AOh14Gjwsopeh-iYNtF4s4wBJmiMIRSh1UxQO_hmmDWRoQ=s64",
      "userId": "00329422506247154064"
     },
     "user_tz": -360
    },
    "id": "1neTSPVmRzow",
    "outputId": "2c519bfe-309f-4c7c-bd07-f6456301b01b"
   },
   "outputs": [
    {
     "name": "stdout",
     "output_type": "stream",
     "text": [
      "Help on class ZipFile in module zipfile:\n",
      "\n",
      "class ZipFile(builtins.object)\n",
      " |  ZipFile(file, mode='r', compression=0, allowZip64=True, compresslevel=None)\n",
      " |  \n",
      " |  Class with methods to open, read, write, close, list zip files.\n",
      " |  \n",
      " |  z = ZipFile(file, mode=\"r\", compression=ZIP_STORED, allowZip64=True,\n",
      " |              compresslevel=None)\n",
      " |  \n",
      " |  file: Either the path to the file, or a file-like object.\n",
      " |        If it is a path, the file will be opened and closed by ZipFile.\n",
      " |  mode: The mode can be either read 'r', write 'w', exclusive create 'x',\n",
      " |        or append 'a'.\n",
      " |  compression: ZIP_STORED (no compression), ZIP_DEFLATED (requires zlib),\n",
      " |               ZIP_BZIP2 (requires bz2) or ZIP_LZMA (requires lzma).\n",
      " |  allowZip64: if True ZipFile will create files with ZIP64 extensions when\n",
      " |              needed, otherwise it will raise an exception when this would\n",
      " |              be necessary.\n",
      " |  compresslevel: None (default for the given compression type) or an integer\n",
      " |                 specifying the level to pass to the compressor.\n",
      " |                 When using ZIP_STORED or ZIP_LZMA this keyword has no effect.\n",
      " |                 When using ZIP_DEFLATED integers 0 through 9 are accepted.\n",
      " |                 When using ZIP_BZIP2 integers 1 through 9 are accepted.\n",
      " |  \n",
      " |  Methods defined here:\n",
      " |  \n",
      " |  __del__(self)\n",
      " |      Call the \"close()\" method in case the user forgot.\n",
      " |  \n",
      " |  __enter__(self)\n",
      " |  \n",
      " |  __exit__(self, type, value, traceback)\n",
      " |  \n",
      " |  __init__(self, file, mode='r', compression=0, allowZip64=True, compresslevel=None)\n",
      " |      Open the ZIP file with mode read 'r', write 'w', exclusive create 'x',\n",
      " |      or append 'a'.\n",
      " |  \n",
      " |  __repr__(self)\n",
      " |      Return repr(self).\n",
      " |  \n",
      " |  close(self)\n",
      " |      Close the file, and for mode 'w', 'x' and 'a' write the ending\n",
      " |      records.\n",
      " |  \n",
      " |  extract(self, member, path=None, pwd=None)\n",
      " |      Extract a member from the archive to the current working directory,\n",
      " |      using its full name. Its file information is extracted as accurately\n",
      " |      as possible. `member' may be a filename or a ZipInfo object. You can\n",
      " |      specify a different directory using `path'.\n",
      " |  \n",
      " |  extractall(self, path=None, members=None, pwd=None)\n",
      " |      Extract all members from the archive to the current working\n",
      " |      directory. `path' specifies a different directory to extract to.\n",
      " |      `members' is optional and must be a subset of the list returned\n",
      " |      by namelist().\n",
      " |  \n",
      " |  getinfo(self, name)\n",
      " |      Return the instance of ZipInfo given 'name'.\n",
      " |  \n",
      " |  infolist(self)\n",
      " |      Return a list of class ZipInfo instances for files in the\n",
      " |      archive.\n",
      " |  \n",
      " |  namelist(self)\n",
      " |      Return a list of file names in the archive.\n",
      " |  \n",
      " |  open(self, name, mode='r', pwd=None, *, force_zip64=False)\n",
      " |      Return file-like object for 'name'.\n",
      " |      \n",
      " |      name is a string for the file name within the ZIP file, or a ZipInfo\n",
      " |      object.\n",
      " |      \n",
      " |      mode should be 'r' to read a file already in the ZIP file, or 'w' to\n",
      " |      write to a file newly added to the archive.\n",
      " |      \n",
      " |      pwd is the password to decrypt files (only used for reading).\n",
      " |      \n",
      " |      When writing, if the file size is not known in advance but may exceed\n",
      " |      2 GiB, pass force_zip64 to use the ZIP64 format, which can handle large\n",
      " |      files.  If the size is known in advance, it is best to pass a ZipInfo\n",
      " |      instance for name, with zinfo.file_size set.\n",
      " |  \n",
      " |  printdir(self, file=None)\n",
      " |      Print a table of contents for the zip file.\n",
      " |  \n",
      " |  read(self, name, pwd=None)\n",
      " |      Return file bytes for name.\n",
      " |  \n",
      " |  setpassword(self, pwd)\n",
      " |      Set default password for encrypted files.\n",
      " |  \n",
      " |  testzip(self)\n",
      " |      Read all the files and check the CRC.\n",
      " |  \n",
      " |  write(self, filename, arcname=None, compress_type=None, compresslevel=None)\n",
      " |      Put the bytes from filename into the archive under the name\n",
      " |      arcname.\n",
      " |  \n",
      " |  writestr(self, zinfo_or_arcname, data, compress_type=None, compresslevel=None)\n",
      " |      Write a file into the archive.  The contents is 'data', which\n",
      " |      may be either a 'str' or a 'bytes' instance; if it is a 'str',\n",
      " |      it is encoded as UTF-8 first.\n",
      " |      'zinfo_or_arcname' is either a ZipInfo instance or\n",
      " |      the name of the file in the archive.\n",
      " |  \n",
      " |  ----------------------------------------------------------------------\n",
      " |  Data descriptors defined here:\n",
      " |  \n",
      " |  __dict__\n",
      " |      dictionary for instance variables (if defined)\n",
      " |  \n",
      " |  __weakref__\n",
      " |      list of weak references to the object (if defined)\n",
      " |  \n",
      " |  comment\n",
      " |      The comment text associated with the ZIP file.\n",
      " |  \n",
      " |  ----------------------------------------------------------------------\n",
      " |  Data and other attributes defined here:\n",
      " |  \n",
      " |  fp = None\n",
      "\n"
     ]
    }
   ],
   "source": [
    "from zipfile import ZipFile\n",
    "help(ZipFile)"
   ]
  },
  {
   "cell_type": "code",
   "execution_count": 161,
   "metadata": {
    "executionInfo": {
     "elapsed": 323,
     "status": "ok",
     "timestamp": 1636227395425,
     "user": {
      "displayName": "Mariha Tabassum",
      "photoUrl": "https://lh3.googleusercontent.com/a-/AOh14Gjwsopeh-iYNtF4s4wBJmiMIRSh1UxQO_hmmDWRoQ=s64",
      "userId": "00329422506247154064"
     },
     "user_tz": -360
    },
    "id": "smZuvPW9Rzow"
   },
   "outputs": [],
   "source": [
    "file_name=\"nudis_flatworm_images.zip\""
   ]
  },
  {
   "cell_type": "code",
   "execution_count": 164,
   "metadata": {
    "colab": {
     "base_uri": "https://localhost:8080/"
    },
    "executionInfo": {
     "elapsed": 1330,
     "status": "ok",
     "timestamp": 1636227407250,
     "user": {
      "displayName": "Mariha Tabassum",
      "photoUrl": "https://lh3.googleusercontent.com/a-/AOh14Gjwsopeh-iYNtF4s4wBJmiMIRSh1UxQO_hmmDWRoQ=s64",
      "userId": "00329422506247154064"
     },
     "user_tz": -360
    },
    "id": "GdyFOBHDRzox",
    "outputId": "375c8b0a-248a-4700-a9f7-67e667e7e2a9"
   },
   "outputs": [
    {
     "data": {
      "text/plain": [
       "<zipfile.ZipFile filename='nudis_flatworm_images.zip' mode='r'>"
      ]
     },
     "execution_count": 164,
     "metadata": {},
     "output_type": "execute_result"
    }
   ],
   "source": [
    "files=ZipFile(file_name)\n",
    "files"
   ]
  },
  {
   "cell_type": "code",
   "execution_count": 165,
   "metadata": {
    "colab": {
     "base_uri": "https://localhost:8080/"
    },
    "executionInfo": {
     "elapsed": 360,
     "status": "ok",
     "timestamp": 1636227411609,
     "user": {
      "displayName": "Mariha Tabassum",
      "photoUrl": "https://lh3.googleusercontent.com/a-/AOh14Gjwsopeh-iYNtF4s4wBJmiMIRSh1UxQO_hmmDWRoQ=s64",
      "userId": "00329422506247154064"
     },
     "user_tz": -360
    },
    "id": "M47CnbseRzo1",
    "outputId": "a51f8021-f699-42df-830a-39ebf8a59d99"
   },
   "outputs": [
    {
     "data": {
      "text/plain": [
       "['nudis_flatworm_images/',\n",
       " 'nudis_flatworm_images/Acanthozoon.jpg',\n",
       " 'nudis_flatworm_images/Aplysia_argus.jpg',\n",
       " 'nudis_flatworm_images/Chromodoris_elisabethina.jpg',\n",
       " 'nudis_flatworm_images/Chromodoris_kuiteri.jpg',\n",
       " 'nudis_flatworm_images/Costasiella_sp.jpg',\n",
       " 'nudis_flatworm_images/Doriprismatica_atromarginata.jpg',\n",
       " 'nudis_flatworm_images/Eurylepta_sp.jpg',\n",
       " 'nudis_flatworm_images/Glossodoris_rufomarginata.jpg',\n",
       " 'nudis_flatworm_images/Glossodoris_vespa.jpg',\n",
       " 'nudis_flatworm_images/Goniobranchus_splendidus.jpg',\n",
       " 'nudis_flatworm_images/Hypselodoris_obscura.jpg',\n",
       " 'nudis_flatworm_images/Maritigrella_sp.jpg',\n",
       " 'nudis_flatworm_images/Phyllidia_ocellata.jpg',\n",
       " 'nudis_flatworm_images/Phyllidiella_lizae.jpg',\n",
       " 'nudis_flatworm_images/Phyllidiella_pustulosa.jpg',\n",
       " 'nudis_flatworm_images/Planocerid_7.jpg',\n",
       " 'nudis_flatworm_images/possibly_Stylochid.jpg',\n",
       " 'nudis_flatworm_images/Pseudobiceros_hymanae.jpg',\n",
       " 'nudis_flatworm_images/Pseudobiceros_hymanae2.jpg',\n",
       " 'nudis_flatworm_images/Pseudoceros_cf_cruentus.jpg',\n",
       " 'nudis_flatworm_images/Pseudoceros_cf_stimpsoni.jpg',\n",
       " 'nudis_flatworm_images/Pseudocerotidae.jpg',\n",
       " 'nudis_flatworm_images/Pseudocerotidae_2.jpg',\n",
       " 'nudis_flatworm_images/Pteraeolidia_semperi.jpg',\n",
       " 'nudis_flatworm_images/Sagaminopteron_ornatum.jpg',\n",
       " 'nudis_flatworm_images/Stylochid_8.jpg',\n",
       " 'nudis_flatworm_images/Thuridilla_splendens.jpg',\n",
       " 'nudis_flatworm_images/Thysanozoon_nigropapillosum.jpg',\n",
       " 'nudis_flatworm_images/Tytthosoceros_sp_2.jpg',\n",
       " 'nudis_flatworm_images/unknown_flatworm.jpg',\n",
       " 'nudis_flatworm_images/Hypselodoris_jacksoni.jpg']"
      ]
     },
     "execution_count": 165,
     "metadata": {},
     "output_type": "execute_result"
    }
   ],
   "source": [
    "files.namelist()"
   ]
  },
  {
   "cell_type": "code",
   "execution_count": 166,
   "metadata": {
    "colab": {
     "base_uri": "https://localhost:8080/"
    },
    "executionInfo": {
     "elapsed": 345,
     "status": "ok",
     "timestamp": 1636227441962,
     "user": {
      "displayName": "Mariha Tabassum",
      "photoUrl": "https://lh3.googleusercontent.com/a-/AOh14Gjwsopeh-iYNtF4s4wBJmiMIRSh1UxQO_hmmDWRoQ=s64",
      "userId": "00329422506247154064"
     },
     "user_tz": -360
    },
    "id": "SQBDillMRzo1",
    "outputId": "260794bd-4f17-493a-b575-c654dcf39aae"
   },
   "outputs": [
    {
     "name": "stdout",
     "output_type": "stream",
     "text": [
      "nudis_flatworm_images/ 0 (2021, 11, 7, 1, 31, 24)\n",
      "nudis_flatworm_images/Acanthozoon.jpg 132291 (2020, 12, 15, 20, 33, 42)\n",
      "nudis_flatworm_images/Aplysia_argus.jpg 50848 (2020, 12, 15, 18, 40, 36)\n",
      "nudis_flatworm_images/Chromodoris_elisabethina.jpg 54587 (2020, 12, 9, 16, 35, 42)\n",
      "nudis_flatworm_images/Chromodoris_kuiteri.jpg 59319 (2020, 12, 9, 18, 2, 20)\n",
      "nudis_flatworm_images/Costasiella_sp.jpg 318004 (2020, 12, 9, 11, 23, 28)\n",
      "nudis_flatworm_images/Doriprismatica_atromarginata.jpg 60569 (2020, 12, 9, 18, 1, 14)\n",
      "nudis_flatworm_images/Eurylepta_sp.jpg 26066 (2020, 12, 15, 20, 29, 42)\n",
      "nudis_flatworm_images/Glossodoris_rufomarginata.jpg 63496 (2020, 12, 9, 18, 7, 30)\n",
      "nudis_flatworm_images/Glossodoris_vespa.jpg 76215 (2020, 12, 9, 18, 5, 58)\n",
      "nudis_flatworm_images/Goniobranchus_splendidus.jpg 69392 (2020, 12, 9, 18, 14, 36)\n",
      "nudis_flatworm_images/Hypselodoris_obscura.jpg 56194 (2020, 12, 9, 18, 10, 48)\n",
      "nudis_flatworm_images/Maritigrella_sp.jpg 17045 (2020, 12, 15, 20, 31, 52)\n",
      "nudis_flatworm_images/Phyllidia_ocellata.jpg 53515 (2020, 12, 9, 18, 9, 18)\n",
      "nudis_flatworm_images/Phyllidiella_lizae.jpg 74810 (2020, 12, 9, 18, 4, 12)\n",
      "nudis_flatworm_images/Phyllidiella_pustulosa.jpg 49202 (2020, 12, 9, 18, 11, 48)\n",
      "nudis_flatworm_images/Planocerid_7.jpg 65000 (2020, 12, 15, 20, 37, 28)\n",
      "nudis_flatworm_images/possibly_Stylochid.jpg 70923 (2020, 12, 15, 20, 21, 24)\n",
      "nudis_flatworm_images/Pseudobiceros_hymanae.jpg 60950 (2020, 12, 15, 20, 25, 12)\n",
      "nudis_flatworm_images/Pseudobiceros_hymanae2.jpg 19298 (2020, 12, 15, 20, 29, 6)\n",
      "nudis_flatworm_images/Pseudoceros_cf_cruentus.jpg 23606 (2020, 12, 15, 20, 26, 42)\n",
      "nudis_flatworm_images/Pseudoceros_cf_stimpsoni.jpg 13609 (2020, 12, 15, 20, 33, 10)\n",
      "nudis_flatworm_images/Pseudocerotidae.jpg 68118 (2020, 12, 15, 20, 22, 54)\n",
      "nudis_flatworm_images/Pseudocerotidae_2.jpg 63513 (2020, 12, 15, 20, 22, 22)\n",
      "nudis_flatworm_images/Pteraeolidia_semperi.jpg 146263 (2020, 12, 15, 18, 36, 24)\n",
      "nudis_flatworm_images/Sagaminopteron_ornatum.jpg 62515 (2020, 12, 15, 18, 38, 52)\n",
      "nudis_flatworm_images/Stylochid_8.jpg 72697 (2020, 12, 15, 20, 21, 46)\n",
      "nudis_flatworm_images/Thuridilla_splendens.jpg 128553 (2020, 12, 9, 18, 13, 8)\n",
      "nudis_flatworm_images/Thysanozoon_nigropapillosum.jpg 45369 (2020, 12, 15, 20, 36, 22)\n",
      "nudis_flatworm_images/Tytthosoceros_sp_2.jpg 21930 (2020, 12, 15, 20, 28, 28)\n",
      "nudis_flatworm_images/unknown_flatworm.jpg 116027 (2020, 12, 15, 20, 36, 40)\n",
      "nudis_flatworm_images/Hypselodoris_jacksoni.jpg 50834 (2020, 12, 9, 18, 12, 24)\n"
     ]
    }
   ],
   "source": [
    "for file in files.infolist():\n",
    "    print(file.filename, file.file_size, file.date_time)"
   ]
  },
  {
   "cell_type": "code",
   "execution_count": 167,
   "metadata": {
    "colab": {
     "base_uri": "https://localhost:8080/"
    },
    "executionInfo": {
     "elapsed": 362,
     "status": "ok",
     "timestamp": 1636227447359,
     "user": {
      "displayName": "Mariha Tabassum",
      "photoUrl": "https://lh3.googleusercontent.com/a-/AOh14Gjwsopeh-iYNtF4s4wBJmiMIRSh1UxQO_hmmDWRoQ=s64",
      "userId": "00329422506247154064"
     },
     "user_tz": -360
    },
    "id": "pQf9aDfIRzo2",
    "outputId": "c15ca202-d296-4fdf-eb8b-ae96f327282d"
   },
   "outputs": [
    {
     "name": "stdout",
     "output_type": "stream",
     "text": [
      "nudis_flatworm_images/\n",
      "nudis_flatworm_images/Acanthozoon.jpg\n",
      "nudis_flatworm_images/Aplysia_argus.jpg\n",
      "nudis_flatworm_images/Chromodoris_elisabethina.jpg\n",
      "nudis_flatworm_images/Chromodoris_kuiteri.jpg\n",
      "nudis_flatworm_images/Costasiella_sp.jpg\n",
      "nudis_flatworm_images/Doriprismatica_atromarginata.jpg\n",
      "nudis_flatworm_images/Eurylepta_sp.jpg\n",
      "nudis_flatworm_images/Glossodoris_rufomarginata.jpg\n",
      "nudis_flatworm_images/Glossodoris_vespa.jpg\n",
      "nudis_flatworm_images/Goniobranchus_splendidus.jpg\n",
      "nudis_flatworm_images/Hypselodoris_obscura.jpg\n",
      "nudis_flatworm_images/Maritigrella_sp.jpg\n",
      "nudis_flatworm_images/Phyllidia_ocellata.jpg\n",
      "nudis_flatworm_images/Phyllidiella_lizae.jpg\n",
      "nudis_flatworm_images/Phyllidiella_pustulosa.jpg\n",
      "nudis_flatworm_images/Planocerid_7.jpg\n",
      "nudis_flatworm_images/possibly_Stylochid.jpg\n",
      "nudis_flatworm_images/Pseudobiceros_hymanae.jpg\n",
      "nudis_flatworm_images/Pseudobiceros_hymanae2.jpg\n",
      "nudis_flatworm_images/Pseudoceros_cf_cruentus.jpg\n",
      "nudis_flatworm_images/Pseudoceros_cf_stimpsoni.jpg\n",
      "nudis_flatworm_images/Pseudocerotidae.jpg\n",
      "nudis_flatworm_images/Pseudocerotidae_2.jpg\n",
      "nudis_flatworm_images/Pteraeolidia_semperi.jpg\n",
      "nudis_flatworm_images/Sagaminopteron_ornatum.jpg\n",
      "nudis_flatworm_images/Stylochid_8.jpg\n",
      "nudis_flatworm_images/Thuridilla_splendens.jpg\n",
      "nudis_flatworm_images/Thysanozoon_nigropapillosum.jpg\n",
      "nudis_flatworm_images/Tytthosoceros_sp_2.jpg\n",
      "nudis_flatworm_images/unknown_flatworm.jpg\n",
      "nudis_flatworm_images/Hypselodoris_jacksoni.jpg\n"
     ]
    }
   ],
   "source": [
    "for file in files.namelist():\n",
    "    print(file)"
   ]
  },
  {
   "cell_type": "code",
   "execution_count": 168,
   "metadata": {
    "colab": {
     "base_uri": "https://localhost:8080/"
    },
    "executionInfo": {
     "elapsed": 586,
     "status": "ok",
     "timestamp": 1636227449396,
     "user": {
      "displayName": "Mariha Tabassum",
      "photoUrl": "https://lh3.googleusercontent.com/a-/AOh14Gjwsopeh-iYNtF4s4wBJmiMIRSh1UxQO_hmmDWRoQ=s64",
      "userId": "00329422506247154064"
     },
     "user_tz": -360
    },
    "id": "KdeOznBXRzo2",
    "outputId": "37052d7d-67fd-43a5-dcd0-a992a217d46a"
   },
   "outputs": [
    {
     "name": "stdout",
     "output_type": "stream",
     "text": [
      "File Name                                             Modified             Size\n",
      "nudis_flatworm_images/                         2021-11-07 01:31:24            0\n",
      "nudis_flatworm_images/Acanthozoon.jpg          2020-12-15 20:33:42       132291\n",
      "nudis_flatworm_images/Aplysia_argus.jpg        2020-12-15 18:40:36        50848\n",
      "nudis_flatworm_images/Chromodoris_elisabethina.jpg 2020-12-09 16:35:42        54587\n",
      "nudis_flatworm_images/Chromodoris_kuiteri.jpg  2020-12-09 18:02:20        59319\n",
      "nudis_flatworm_images/Costasiella_sp.jpg       2020-12-09 11:23:28       318004\n",
      "nudis_flatworm_images/Doriprismatica_atromarginata.jpg 2020-12-09 18:01:14        60569\n",
      "nudis_flatworm_images/Eurylepta_sp.jpg         2020-12-15 20:29:42        26066\n",
      "nudis_flatworm_images/Glossodoris_rufomarginata.jpg 2020-12-09 18:07:30        63496\n",
      "nudis_flatworm_images/Glossodoris_vespa.jpg    2020-12-09 18:05:58        76215\n",
      "nudis_flatworm_images/Goniobranchus_splendidus.jpg 2020-12-09 18:14:36        69392\n",
      "nudis_flatworm_images/Hypselodoris_obscura.jpg 2020-12-09 18:10:48        56194\n",
      "nudis_flatworm_images/Maritigrella_sp.jpg      2020-12-15 20:31:52        17045\n",
      "nudis_flatworm_images/Phyllidia_ocellata.jpg   2020-12-09 18:09:18        53515\n",
      "nudis_flatworm_images/Phyllidiella_lizae.jpg   2020-12-09 18:04:12        74810\n",
      "nudis_flatworm_images/Phyllidiella_pustulosa.jpg 2020-12-09 18:11:48        49202\n",
      "nudis_flatworm_images/Planocerid_7.jpg         2020-12-15 20:37:28        65000\n",
      "nudis_flatworm_images/possibly_Stylochid.jpg   2020-12-15 20:21:24        70923\n",
      "nudis_flatworm_images/Pseudobiceros_hymanae.jpg 2020-12-15 20:25:12        60950\n",
      "nudis_flatworm_images/Pseudobiceros_hymanae2.jpg 2020-12-15 20:29:06        19298\n",
      "nudis_flatworm_images/Pseudoceros_cf_cruentus.jpg 2020-12-15 20:26:42        23606\n",
      "nudis_flatworm_images/Pseudoceros_cf_stimpsoni.jpg 2020-12-15 20:33:10        13609\n",
      "nudis_flatworm_images/Pseudocerotidae.jpg      2020-12-15 20:22:54        68118\n",
      "nudis_flatworm_images/Pseudocerotidae_2.jpg    2020-12-15 20:22:22        63513\n",
      "nudis_flatworm_images/Pteraeolidia_semperi.jpg 2020-12-15 18:36:24       146263\n",
      "nudis_flatworm_images/Sagaminopteron_ornatum.jpg 2020-12-15 18:38:52        62515\n",
      "nudis_flatworm_images/Stylochid_8.jpg          2020-12-15 20:21:46        72697\n",
      "nudis_flatworm_images/Thuridilla_splendens.jpg 2020-12-09 18:13:08       128553\n",
      "nudis_flatworm_images/Thysanozoon_nigropapillosum.jpg 2020-12-15 20:36:22        45369\n",
      "nudis_flatworm_images/Tytthosoceros_sp_2.jpg   2020-12-15 20:28:28        21930\n",
      "nudis_flatworm_images/unknown_flatworm.jpg     2020-12-15 20:36:40       116027\n",
      "nudis_flatworm_images/Hypselodoris_jacksoni.jpg 2020-12-09 18:12:24        50834\n",
      "processing.....\n",
      "process completed!\n"
     ]
    }
   ],
   "source": [
    "#extracting\n",
    "with ZipFile(file_name, \"r\") as zip:\n",
    "    zip.printdir()\n",
    "    print(\"processing.....\")\n",
    "    zip.extractall()\n",
    "    print(\"process completed!\")"
   ]
  },
  {
   "cell_type": "code",
   "execution_count": 169,
   "metadata": {
    "colab": {
     "base_uri": "https://localhost:8080/"
    },
    "executionInfo": {
     "elapsed": 1217,
     "status": "ok",
     "timestamp": 1636227452026,
     "user": {
      "displayName": "Mariha Tabassum",
      "photoUrl": "https://lh3.googleusercontent.com/a-/AOh14Gjwsopeh-iYNtF4s4wBJmiMIRSh1UxQO_hmmDWRoQ=s64",
      "userId": "00329422506247154064"
     },
     "user_tz": -360
    },
    "id": "Np5k_y30Rzo3",
    "outputId": "6867e854-51ed-48e5-fda5-6e6d08bdfb45"
   },
   "outputs": [
    {
     "name": "stdout",
     "output_type": "stream",
     "text": [
      "File Name                                             Modified             Size\n",
      "nudis_flatworm_images/                         2021-11-07 01:31:24            0\n",
      "nudis_flatworm_images/Acanthozoon.jpg          2020-12-15 20:33:42       132291\n",
      "nudis_flatworm_images/Aplysia_argus.jpg        2020-12-15 18:40:36        50848\n",
      "nudis_flatworm_images/Chromodoris_elisabethina.jpg 2020-12-09 16:35:42        54587\n",
      "nudis_flatworm_images/Chromodoris_kuiteri.jpg  2020-12-09 18:02:20        59319\n",
      "nudis_flatworm_images/Costasiella_sp.jpg       2020-12-09 11:23:28       318004\n",
      "nudis_flatworm_images/Doriprismatica_atromarginata.jpg 2020-12-09 18:01:14        60569\n",
      "nudis_flatworm_images/Eurylepta_sp.jpg         2020-12-15 20:29:42        26066\n",
      "nudis_flatworm_images/Glossodoris_rufomarginata.jpg 2020-12-09 18:07:30        63496\n",
      "nudis_flatworm_images/Glossodoris_vespa.jpg    2020-12-09 18:05:58        76215\n",
      "nudis_flatworm_images/Goniobranchus_splendidus.jpg 2020-12-09 18:14:36        69392\n",
      "nudis_flatworm_images/Hypselodoris_obscura.jpg 2020-12-09 18:10:48        56194\n",
      "nudis_flatworm_images/Maritigrella_sp.jpg      2020-12-15 20:31:52        17045\n",
      "nudis_flatworm_images/Phyllidia_ocellata.jpg   2020-12-09 18:09:18        53515\n",
      "nudis_flatworm_images/Phyllidiella_lizae.jpg   2020-12-09 18:04:12        74810\n",
      "nudis_flatworm_images/Phyllidiella_pustulosa.jpg 2020-12-09 18:11:48        49202\n",
      "nudis_flatworm_images/Planocerid_7.jpg         2020-12-15 20:37:28        65000\n",
      "nudis_flatworm_images/possibly_Stylochid.jpg   2020-12-15 20:21:24        70923\n",
      "nudis_flatworm_images/Pseudobiceros_hymanae.jpg 2020-12-15 20:25:12        60950\n",
      "nudis_flatworm_images/Pseudobiceros_hymanae2.jpg 2020-12-15 20:29:06        19298\n",
      "nudis_flatworm_images/Pseudoceros_cf_cruentus.jpg 2020-12-15 20:26:42        23606\n",
      "nudis_flatworm_images/Pseudoceros_cf_stimpsoni.jpg 2020-12-15 20:33:10        13609\n",
      "nudis_flatworm_images/Pseudocerotidae.jpg      2020-12-15 20:22:54        68118\n",
      "nudis_flatworm_images/Pseudocerotidae_2.jpg    2020-12-15 20:22:22        63513\n",
      "nudis_flatworm_images/Pteraeolidia_semperi.jpg 2020-12-15 18:36:24       146263\n",
      "nudis_flatworm_images/Sagaminopteron_ornatum.jpg 2020-12-15 18:38:52        62515\n",
      "nudis_flatworm_images/Stylochid_8.jpg          2020-12-15 20:21:46        72697\n",
      "nudis_flatworm_images/Thuridilla_splendens.jpg 2020-12-09 18:13:08       128553\n",
      "nudis_flatworm_images/Thysanozoon_nigropapillosum.jpg 2020-12-15 20:36:22        45369\n",
      "nudis_flatworm_images/Tytthosoceros_sp_2.jpg   2020-12-15 20:28:28        21930\n",
      "nudis_flatworm_images/unknown_flatworm.jpg     2020-12-15 20:36:40       116027\n",
      "nudis_flatworm_images/Hypselodoris_jacksoni.jpg 2020-12-09 18:12:24        50834\n"
     ]
    }
   ],
   "source": [
    "zip.printdir()"
   ]
  },
  {
   "cell_type": "markdown",
   "metadata": {
    "id": "icg4fWGnRzo3"
   },
   "source": [
    "My Note:To read images:  https://www.geeksforgeeks.org/reading-images-in-python/"
   ]
  },
  {
   "cell_type": "code",
   "execution_count": 170,
   "metadata": {
    "colab": {
     "base_uri": "https://localhost:8080/"
    },
    "executionInfo": {
     "elapsed": 9,
     "status": "ok",
     "timestamp": 1636227453646,
     "user": {
      "displayName": "Mariha Tabassum",
      "photoUrl": "https://lh3.googleusercontent.com/a-/AOh14Gjwsopeh-iYNtF4s4wBJmiMIRSh1UxQO_hmmDWRoQ=s64",
      "userId": "00329422506247154064"
     },
     "user_tz": -360
    },
    "id": "TzWiz9-2Rzo5",
    "outputId": "98fceae8-8c27-4c87-dc05-08d5704fb927"
   },
   "outputs": [
    {
     "data": {
      "text/plain": [
       "['.config',\n",
       " 'nudibranchs_flatworms_species_list.csv',\n",
       " '.ipynb_checkpoints',\n",
       " 'nudis_flatworm_images',\n",
       " 'nudis_flatworm_images.zip',\n",
       " 'drive',\n",
       " 'sample_data']"
      ]
     },
     "execution_count": 170,
     "metadata": {},
     "output_type": "execute_result"
    }
   ],
   "source": [
    "os.listdir()"
   ]
  },
  {
   "cell_type": "code",
   "execution_count": 171,
   "metadata": {
    "colab": {
     "base_uri": "https://localhost:8080/"
    },
    "executionInfo": {
     "elapsed": 7,
     "status": "ok",
     "timestamp": 1636227454859,
     "user": {
      "displayName": "Mariha Tabassum",
      "photoUrl": "https://lh3.googleusercontent.com/a-/AOh14Gjwsopeh-iYNtF4s4wBJmiMIRSh1UxQO_hmmDWRoQ=s64",
      "userId": "00329422506247154064"
     },
     "user_tz": -360
    },
    "id": "L5NJ15rsV63S",
    "outputId": "1e2a4833-2fdc-43c9-8086-d63870c12790"
   },
   "outputs": [
    {
     "data": {
      "text/plain": [
       "['unknown_flatworm.jpg',\n",
       " 'possibly_Stylochid.jpg',\n",
       " 'Thysanozoon_nigropapillosum.jpg',\n",
       " 'Glossodoris_vespa.jpg',\n",
       " 'Pseudobiceros_hymanae2.jpg',\n",
       " 'Chromodoris_kuiteri.jpg',\n",
       " 'Planocerid_7.jpg',\n",
       " 'Stylochid_8.jpg',\n",
       " 'Pteraeolidia_semperi.jpg',\n",
       " 'Aplysia_argus.jpg',\n",
       " 'Maritigrella_sp.jpg',\n",
       " 'Phyllidia_ocellata.jpg',\n",
       " 'Pseudocerotidae.jpg',\n",
       " 'Phyllidiella_lizae.jpg',\n",
       " 'Acanthozoon.jpg',\n",
       " 'Thuridilla_splendens.jpg',\n",
       " 'Pseudoceros_cf_cruentus.jpg',\n",
       " 'Hypselodoris_jacksoni.jpg',\n",
       " 'Goniobranchus_splendidus.jpg',\n",
       " 'Eurylepta_sp.jpg',\n",
       " 'Pseudobiceros_hymanae.jpg',\n",
       " 'Pseudoceros_cf_stimpsoni.jpg',\n",
       " 'Pseudocerotidae_2.jpg',\n",
       " 'Doriprismatica_atromarginata.jpg',\n",
       " 'Glossodoris_rufomarginata.jpg',\n",
       " 'Phyllidiella_pustulosa.jpg',\n",
       " 'Sagaminopteron_ornatum.jpg',\n",
       " 'Tytthosoceros_sp_2.jpg',\n",
       " 'Hypselodoris_obscura.jpg',\n",
       " 'Costasiella_sp.jpg',\n",
       " 'Chromodoris_elisabethina.jpg']"
      ]
     },
     "execution_count": 171,
     "metadata": {},
     "output_type": "execute_result"
    }
   ],
   "source": [
    "os.listdir(\"./nudis_flatworm_images\")"
   ]
  },
  {
   "cell_type": "code",
   "execution_count": 172,
   "metadata": {
    "executionInfo": {
     "elapsed": 393,
     "status": "ok",
     "timestamp": 1636227457466,
     "user": {
      "displayName": "Mariha Tabassum",
      "photoUrl": "https://lh3.googleusercontent.com/a-/AOh14Gjwsopeh-iYNtF4s4wBJmiMIRSh1UxQO_hmmDWRoQ=s64",
      "userId": "00329422506247154064"
     },
     "user_tz": -360
    },
    "id": "oRDBRcUimg8n"
   },
   "outputs": [],
   "source": [
    "file_list=os.listdir(\"./nudis_flatworm_images\")"
   ]
  },
  {
   "cell_type": "code",
   "execution_count": 173,
   "metadata": {
    "executionInfo": {
     "elapsed": 3,
     "status": "ok",
     "timestamp": 1636227458814,
     "user": {
      "displayName": "Mariha Tabassum",
      "photoUrl": "https://lh3.googleusercontent.com/a-/AOh14Gjwsopeh-iYNtF4s4wBJmiMIRSh1UxQO_hmmDWRoQ=s64",
      "userId": "00329422506247154064"
     },
     "user_tz": -360
    },
    "id": "xxqjcEvwRzo9"
   },
   "outputs": [],
   "source": [
    "dataset =NudibranchFlatwormDataset(csv_file=\"nudibranchs_flatworms_species_list.csv\", root_dir=\"nudis_flatworm_images\",\n",
    "                                  transform= transforms.ToTensor())"
   ]
  },
  {
   "cell_type": "markdown",
   "metadata": {
    "id": "GXa3MRmTRzo9"
   },
   "source": [
    "My Note: \n",
    "\n",
    "1. unicode error: https://stackoverflow.com/questions/37400974/unicode-error-unicodeescape-codec-cant-decode-bytes-in-position-2-3-trunca"
   ]
  },
  {
   "cell_type": "code",
   "execution_count": 104,
   "metadata": {
    "colab": {
     "base_uri": "https://localhost:8080/"
    },
    "executionInfo": {
     "elapsed": 422,
     "status": "ok",
     "timestamp": 1636226353118,
     "user": {
      "displayName": "Mariha Tabassum",
      "photoUrl": "https://lh3.googleusercontent.com/a-/AOh14Gjwsopeh-iYNtF4s4wBJmiMIRSh1UxQO_hmmDWRoQ=s64",
      "userId": "00329422506247154064"
     },
     "user_tz": -360
    },
    "id": "Iag-PkqCRzo-",
    "outputId": "82a1aad0-d94f-4a2f-bd03-073f43dc519c"
   },
   "outputs": [
    {
     "name": "stdout",
     "output_type": "stream",
     "text": [
      "Help on package jovian:\n",
      "\n",
      "NAME\n",
      "    jovian\n",
      "\n",
      "PACKAGE CONTENTS\n",
      "    __main__\n",
      "    _flavor\n",
      "    _version\n",
      "    callbacks (package)\n",
      "    pythondsa (package)\n",
      "    testing (package)\n",
      "    utils (package)\n",
      "\n",
      "VERSION\n",
      "    0.2.41\n",
      "\n",
      "FILE\n",
      "    /usr/local/lib/python3.7/dist-packages/jovian/__init__.py\n",
      "\n",
      "\n"
     ]
    }
   ],
   "source": [
    "help(jovian)"
   ]
  },
  {
   "cell_type": "code",
   "execution_count": 174,
   "metadata": {
    "colab": {
     "base_uri": "https://localhost:8080/"
    },
    "executionInfo": {
     "elapsed": 340,
     "status": "ok",
     "timestamp": 1636227463198,
     "user": {
      "displayName": "Mariha Tabassum",
      "photoUrl": "https://lh3.googleusercontent.com/a-/AOh14Gjwsopeh-iYNtF4s4wBJmiMIRSh1UxQO_hmmDWRoQ=s64",
      "userId": "00329422506247154064"
     },
     "user_tz": -360
    },
    "id": "pvSKmJZrRzo-",
    "outputId": "777aff2d-d54a-4deb-a0f5-6bbf5f4dfff2"
   },
   "outputs": [
    {
     "name": "stdout",
     "output_type": "stream",
     "text": [
      "torch.Size([3, 120, 120]) tensor(0)\n"
     ]
    },
    {
     "data": {
      "text/plain": [
       "tensor([[[0.3882, 0.4392, 0.4980,  ..., 0.2118, 0.2157, 0.2471],\n",
       "         [0.4784, 0.5333, 0.5804,  ..., 0.2039, 0.2275, 0.2588],\n",
       "         [0.5647, 0.6039, 0.6353,  ..., 0.2118, 0.2235, 0.2549],\n",
       "         ...,\n",
       "         [0.3020, 0.2667, 0.2275,  ..., 0.3451, 0.3059, 0.2902],\n",
       "         [0.3098, 0.2784, 0.2471,  ..., 0.3373, 0.2902, 0.2706],\n",
       "         [0.3176, 0.2902, 0.2588,  ..., 0.3373, 0.3098, 0.2941]],\n",
       "\n",
       "        [[0.3451, 0.4118, 0.4588,  ..., 0.1569, 0.1529, 0.1843],\n",
       "         [0.4235, 0.4863, 0.5294,  ..., 0.1529, 0.1647, 0.1882],\n",
       "         [0.4941, 0.5255, 0.5647,  ..., 0.1686, 0.1686, 0.1961],\n",
       "         ...,\n",
       "         [0.2941, 0.2588, 0.2196,  ..., 0.3098, 0.2863, 0.2745],\n",
       "         [0.3020, 0.2706, 0.2392,  ..., 0.2980, 0.2667, 0.2510],\n",
       "         [0.2980, 0.2745, 0.2471,  ..., 0.3059, 0.2784, 0.2627]],\n",
       "\n",
       "        [[0.3647, 0.4510, 0.4980,  ..., 0.1490, 0.1412, 0.1686],\n",
       "         [0.4588, 0.5176, 0.5490,  ..., 0.1608, 0.1647, 0.1843],\n",
       "         [0.5216, 0.5451, 0.5725,  ..., 0.1882, 0.1843, 0.2039],\n",
       "         ...,\n",
       "         [0.3137, 0.2784, 0.2392,  ..., 0.3137, 0.3020, 0.3098],\n",
       "         [0.3216, 0.2902, 0.2588,  ..., 0.3098, 0.2784, 0.2706],\n",
       "         [0.3216, 0.2980, 0.2706,  ..., 0.3137, 0.2863, 0.2745]]])"
      ]
     },
     "execution_count": 174,
     "metadata": {},
     "output_type": "execute_result"
    }
   ],
   "source": [
    "img, label =dataset[0]\n",
    "print(img.shape, label)\n",
    "img"
   ]
  },
  {
   "cell_type": "code",
   "execution_count": 175,
   "metadata": {
    "colab": {
     "base_uri": "https://localhost:8080/"
    },
    "executionInfo": {
     "elapsed": 5,
     "status": "ok",
     "timestamp": 1636227464717,
     "user": {
      "displayName": "Mariha Tabassum",
      "photoUrl": "https://lh3.googleusercontent.com/a-/AOh14Gjwsopeh-iYNtF4s4wBJmiMIRSh1UxQO_hmmDWRoQ=s64",
      "userId": "00329422506247154064"
     },
     "user_tz": -360
    },
    "id": "Va0FzBRnYIdl",
    "outputId": "ede5a12c-a01d-47d1-f109-852a98fd60a2"
   },
   "outputs": [
    {
     "data": {
      "text/plain": [
       "torch.Size([3, 120, 120])"
      ]
     },
     "execution_count": 175,
     "metadata": {},
     "output_type": "execute_result"
    }
   ],
   "source": [
    "img.size()"
   ]
  },
  {
   "cell_type": "code",
   "execution_count": 176,
   "metadata": {
    "colab": {
     "base_uri": "https://localhost:8080/"
    },
    "executionInfo": {
     "elapsed": 539,
     "status": "ok",
     "timestamp": 1636227465832,
     "user": {
      "displayName": "Mariha Tabassum",
      "photoUrl": "https://lh3.googleusercontent.com/a-/AOh14Gjwsopeh-iYNtF4s4wBJmiMIRSh1UxQO_hmmDWRoQ=s64",
      "userId": "00329422506247154064"
     },
     "user_tz": -360
    },
    "id": "WEgKAKLdYU63",
    "outputId": "5a816825-06e0-4057-ae77-5a44026877ed"
   },
   "outputs": [
    {
     "name": "stdout",
     "output_type": "stream",
     "text": [
      "torch.Size([3, 120, 120]) tensor(0)\n"
     ]
    },
    {
     "data": {
      "text/plain": [
       "tensor([[[0.3922, 0.3216, 0.2902,  ..., 0.0039, 0.0667, 0.2627],\n",
       "         [0.4784, 0.3961, 0.3373,  ..., 0.0118, 0.0941, 0.2784],\n",
       "         [0.5647, 0.5059, 0.4314,  ..., 0.0235, 0.1216, 0.2941],\n",
       "         ...,\n",
       "         [0.0000, 0.0000, 0.0000,  ..., 0.6392, 0.7294, 0.7020],\n",
       "         [0.0000, 0.0000, 0.0000,  ..., 0.6784, 0.7098, 0.7255],\n",
       "         [0.0000, 0.0000, 0.0000,  ..., 0.7255, 0.7255, 0.7294]],\n",
       "\n",
       "        [[0.3020, 0.2157, 0.1882,  ..., 0.0039, 0.0667, 0.2157],\n",
       "         [0.3686, 0.2902, 0.2627,  ..., 0.0118, 0.0941, 0.2275],\n",
       "         [0.4549, 0.3961, 0.3373,  ..., 0.0275, 0.1098, 0.2431],\n",
       "         ...,\n",
       "         [0.0000, 0.0000, 0.0000,  ..., 0.5490, 0.6510, 0.6471],\n",
       "         [0.0000, 0.0000, 0.0000,  ..., 0.6000, 0.6392, 0.6784],\n",
       "         [0.0000, 0.0000, 0.0000,  ..., 0.6431, 0.6392, 0.6667]],\n",
       "\n",
       "        [[0.1451, 0.0745, 0.0902,  ..., 0.0039, 0.0353, 0.1451],\n",
       "         [0.2118, 0.1451, 0.1412,  ..., 0.0078, 0.0471, 0.1608],\n",
       "         [0.2745, 0.2235, 0.2000,  ..., 0.0118, 0.0706, 0.1569],\n",
       "         ...,\n",
       "         [0.0000, 0.0000, 0.0000,  ..., 0.4392, 0.5451, 0.5569],\n",
       "         [0.0000, 0.0000, 0.0000,  ..., 0.4941, 0.5333, 0.5843],\n",
       "         [0.0000, 0.0000, 0.0000,  ..., 0.5451, 0.5294, 0.5686]]])"
      ]
     },
     "execution_count": 176,
     "metadata": {},
     "output_type": "execute_result"
    }
   ],
   "source": [
    "img1, label =dataset[1]\n",
    "print(img1.shape, label)\n",
    "img1"
   ]
  },
  {
   "cell_type": "code",
   "execution_count": 177,
   "metadata": {
    "colab": {
     "base_uri": "https://localhost:8080/"
    },
    "executionInfo": {
     "elapsed": 7,
     "status": "ok",
     "timestamp": 1636227467055,
     "user": {
      "displayName": "Mariha Tabassum",
      "photoUrl": "https://lh3.googleusercontent.com/a-/AOh14Gjwsopeh-iYNtF4s4wBJmiMIRSh1UxQO_hmmDWRoQ=s64",
      "userId": "00329422506247154064"
     },
     "user_tz": -360
    },
    "id": "yvajaqG6YpUe",
    "outputId": "bb4e32a0-d010-4d33-85d7-50040e70f423"
   },
   "outputs": [
    {
     "name": "stdout",
     "output_type": "stream",
     "text": [
      "tensor([[[0.4824, 0.4275, 0.4000,  ..., 0.8118, 0.8471, 0.8863],\n",
      "         [0.4510, 0.4157, 0.3961,  ..., 0.7451, 0.7804, 0.8863],\n",
      "         [0.4824, 0.4353, 0.4196,  ..., 0.6980, 0.7137, 0.7961],\n",
      "         ...,\n",
      "         [0.3922, 0.2980, 0.5098,  ..., 0.6627, 0.7608, 0.6667],\n",
      "         [0.5451, 0.4314, 0.5529,  ..., 0.5725, 0.7725, 0.5882],\n",
      "         [0.6235, 0.6510, 0.6157,  ..., 0.3804, 0.6471, 0.5843]],\n",
      "\n",
      "        [[0.5529, 0.5059, 0.4824,  ..., 0.8353, 0.8667, 0.9569],\n",
      "         [0.4941, 0.4784, 0.5098,  ..., 0.7176, 0.7294, 0.9098],\n",
      "         [0.5176, 0.4667, 0.5216,  ..., 0.6157, 0.6314, 0.6980],\n",
      "         ...,\n",
      "         [0.3451, 0.1882, 0.3098,  ..., 0.6627, 0.8157, 0.6706],\n",
      "         [0.4784, 0.3176, 0.3686,  ..., 0.6118, 0.8941, 0.6353],\n",
      "         [0.5843, 0.6000, 0.5529,  ..., 0.3922, 0.7804, 0.6627]],\n",
      "\n",
      "        [[0.5176, 0.4588, 0.4706,  ..., 0.8235, 0.8471, 0.9255],\n",
      "         [0.5059, 0.4784, 0.5294,  ..., 0.6824, 0.7176, 0.8627],\n",
      "         [0.5020, 0.4353, 0.4941,  ..., 0.5765, 0.6235, 0.6784],\n",
      "         ...,\n",
      "         [0.2627, 0.2314, 0.4863,  ..., 0.6118, 0.8235, 0.7020],\n",
      "         [0.3922, 0.3216, 0.5137,  ..., 0.5882, 0.9373, 0.7294],\n",
      "         [0.5529, 0.5843, 0.6000,  ..., 0.4039, 0.8275, 0.7647]]])\n",
      "torch.Size([3, 120, 120])\n"
     ]
    }
   ],
   "source": [
    "img2, label =dataset[2]\n",
    "print(img2)\n",
    "print(img2.size())"
   ]
  },
  {
   "cell_type": "code",
   "execution_count": 178,
   "metadata": {
    "colab": {
     "base_uri": "https://localhost:8080/"
    },
    "executionInfo": {
     "elapsed": 389,
     "status": "ok",
     "timestamp": 1636227469160,
     "user": {
      "displayName": "Mariha Tabassum",
      "photoUrl": "https://lh3.googleusercontent.com/a-/AOh14Gjwsopeh-iYNtF4s4wBJmiMIRSh1UxQO_hmmDWRoQ=s64",
      "userId": "00329422506247154064"
     },
     "user_tz": -360
    },
    "id": "9GzEXh2-voR3",
    "outputId": "749f6ed4-9c30-48a0-b725-b1cdf5b9bbe9"
   },
   "outputs": [
    {
     "name": "stdout",
     "output_type": "stream",
     "text": [
      "torch.Size([3, 120, 120]) tensor(1)\n"
     ]
    },
    {
     "data": {
      "text/plain": [
       "tensor([[[0.5412, 0.4824, 0.6549,  ..., 0.5412, 0.5098, 0.5176],\n",
       "         [0.5765, 0.4980, 0.6588,  ..., 0.5961, 0.5059, 0.5333],\n",
       "         [0.6353, 0.6196, 0.7373,  ..., 0.6118, 0.5608, 0.5765],\n",
       "         ...,\n",
       "         [0.1686, 0.2196, 0.2118,  ..., 0.5922, 0.5765, 0.5451],\n",
       "         [0.1882, 0.2941, 0.3412,  ..., 0.5529, 0.5804, 0.6078],\n",
       "         [0.2118, 0.3569, 0.4235,  ..., 0.6039, 0.6039, 0.6196]],\n",
       "\n",
       "        [[0.5176, 0.4549, 0.6275,  ..., 0.5176, 0.4824, 0.4980],\n",
       "         [0.5490, 0.4667, 0.6314,  ..., 0.5647, 0.4784, 0.5098],\n",
       "         [0.6078, 0.5922, 0.7098,  ..., 0.5843, 0.5333, 0.5490],\n",
       "         ...,\n",
       "         [0.1412, 0.1843, 0.1765,  ..., 0.5686, 0.5490, 0.5176],\n",
       "         [0.1569, 0.2588, 0.3020,  ..., 0.5294, 0.5529, 0.5804],\n",
       "         [0.1804, 0.3216, 0.3843,  ..., 0.5804, 0.5765, 0.5922]],\n",
       "\n",
       "        [[0.4078, 0.3686, 0.5765,  ..., 0.4745, 0.4431, 0.4431],\n",
       "         [0.4745, 0.4039, 0.5882,  ..., 0.5412, 0.4510, 0.4706],\n",
       "         [0.5686, 0.5451, 0.6706,  ..., 0.4980, 0.4863, 0.5176],\n",
       "         ...,\n",
       "         [0.1255, 0.1647, 0.1569,  ..., 0.5020, 0.4784, 0.4471],\n",
       "         [0.1529, 0.2314, 0.2667,  ..., 0.4667, 0.4824, 0.5098],\n",
       "         [0.1843, 0.2902, 0.3412,  ..., 0.5176, 0.5098, 0.5216]]])"
      ]
     },
     "execution_count": 178,
     "metadata": {},
     "output_type": "execute_result"
    }
   ],
   "source": [
    "img28, label=dataset[28]\n",
    "print(img28.shape,label )\n",
    "img28"
   ]
  },
  {
   "cell_type": "code",
   "execution_count": 179,
   "metadata": {
    "colab": {
     "base_uri": "https://localhost:8080/",
     "height": 87
    },
    "executionInfo": {
     "elapsed": 2758,
     "status": "ok",
     "timestamp": 1636227473457,
     "user": {
      "displayName": "Mariha Tabassum",
      "photoUrl": "https://lh3.googleusercontent.com/a-/AOh14Gjwsopeh-iYNtF4s4wBJmiMIRSh1UxQO_hmmDWRoQ=s64",
      "userId": "00329422506247154064"
     },
     "user_tz": -360
    },
    "id": "Y4BNFkkfZF4J",
    "outputId": "d976694d-879c-4e1f-ffbe-eeb035076f3e"
   },
   "outputs": [
    {
     "name": "stdout",
     "output_type": "stream",
     "text": [
      "[jovian] Detected Colab notebook...\u001b[0m\n",
      "[jovian] Uploading colab notebook to Jovian...\u001b[0m\n",
      "Committed successfully! https://jovian.ai/mrittrukhuda/nudibranchs-image-species-identificaion\n"
     ]
    },
    {
     "data": {
      "application/vnd.google.colaboratory.intrinsic+json": {
       "type": "string"
      },
      "text/plain": [
       "'https://jovian.ai/mrittrukhuda/nudibranchs-image-species-identificaion'"
      ]
     },
     "execution_count": 179,
     "metadata": {},
     "output_type": "execute_result"
    }
   ],
   "source": [
    "jovian.commit(project=project_name)"
   ]
  },
  {
   "cell_type": "markdown",
   "metadata": {
    "id": "VsvIr7NRRzo_"
   },
   "source": [
    "### Setting training and testing dataset!"
   ]
  },
  {
   "cell_type": "code",
   "execution_count": 181,
   "metadata": {
    "executionInfo": {
     "elapsed": 329,
     "status": "ok",
     "timestamp": 1636227480768,
     "user": {
      "displayName": "Mariha Tabassum",
      "photoUrl": "https://lh3.googleusercontent.com/a-/AOh14Gjwsopeh-iYNtF4s4wBJmiMIRSh1UxQO_hmmDWRoQ=s64",
      "userId": "00329422506247154064"
     },
     "user_tz": -360
    },
    "id": "VLre4Yq7Rzo_"
   },
   "outputs": [],
   "source": [
    "val_percent=0.1"
   ]
  },
  {
   "cell_type": "code",
   "execution_count": 182,
   "metadata": {
    "colab": {
     "base_uri": "https://localhost:8080/"
    },
    "executionInfo": {
     "elapsed": 5,
     "status": "ok",
     "timestamp": 1636227481354,
     "user": {
      "displayName": "Mariha Tabassum",
      "photoUrl": "https://lh3.googleusercontent.com/a-/AOh14Gjwsopeh-iYNtF4s4wBJmiMIRSh1UxQO_hmmDWRoQ=s64",
      "userId": "00329422506247154064"
     },
     "user_tz": -360
    },
    "id": "v8-VkPO5RzpA",
    "outputId": "38bd43f0-e47a-4d25-bfd1-2e5964e35a58"
   },
   "outputs": [
    {
     "data": {
      "text/plain": [
       "3.1"
      ]
     },
     "execution_count": 182,
     "metadata": {},
     "output_type": "execute_result"
    }
   ],
   "source": [
    "num_data* val_percent"
   ]
  },
  {
   "cell_type": "code",
   "execution_count": 183,
   "metadata": {
    "colab": {
     "base_uri": "https://localhost:8080/"
    },
    "executionInfo": {
     "elapsed": 566,
     "status": "ok",
     "timestamp": 1636227483698,
     "user": {
      "displayName": "Mariha Tabassum",
      "photoUrl": "https://lh3.googleusercontent.com/a-/AOh14Gjwsopeh-iYNtF4s4wBJmiMIRSh1UxQO_hmmDWRoQ=s64",
      "userId": "00329422506247154064"
     },
     "user_tz": -360
    },
    "id": "2uiYMNP4RzpA",
    "outputId": "e7bd8dac-2f29-4f5a-ac3b-3e8e9eef4246"
   },
   "outputs": [
    {
     "data": {
      "text/plain": [
       "3"
      ]
     },
     "execution_count": 183,
     "metadata": {},
     "output_type": "execute_result"
    }
   ],
   "source": [
    "int(num_data*val_percent)"
   ]
  },
  {
   "cell_type": "code",
   "execution_count": 184,
   "metadata": {
    "colab": {
     "base_uri": "https://localhost:8080/"
    },
    "executionInfo": {
     "elapsed": 12,
     "status": "ok",
     "timestamp": 1636227484232,
     "user": {
      "displayName": "Mariha Tabassum",
      "photoUrl": "https://lh3.googleusercontent.com/a-/AOh14Gjwsopeh-iYNtF4s4wBJmiMIRSh1UxQO_hmmDWRoQ=s64",
      "userId": "00329422506247154064"
     },
     "user_tz": -360
    },
    "id": "Jwt874XfRzpB",
    "outputId": "453a3dd5-eb83-45ae-9b89-f0c97a6a93a8"
   },
   "outputs": [
    {
     "data": {
      "text/plain": [
       "3"
      ]
     },
     "execution_count": 184,
     "metadata": {},
     "output_type": "execute_result"
    }
   ],
   "source": [
    "val_size=int(num_data*val_percent)\n",
    "val_size"
   ]
  },
  {
   "cell_type": "code",
   "execution_count": 185,
   "metadata": {
    "colab": {
     "base_uri": "https://localhost:8080/"
    },
    "executionInfo": {
     "elapsed": 12,
     "status": "ok",
     "timestamp": 1636227485104,
     "user": {
      "displayName": "Mariha Tabassum",
      "photoUrl": "https://lh3.googleusercontent.com/a-/AOh14Gjwsopeh-iYNtF4s4wBJmiMIRSh1UxQO_hmmDWRoQ=s64",
      "userId": "00329422506247154064"
     },
     "user_tz": -360
    },
    "id": "36u9nZT6RzpB",
    "outputId": "ff0553fc-d48e-420c-c7f2-b5287f69da4a"
   },
   "outputs": [
    {
     "data": {
      "text/plain": [
       "28"
      ]
     },
     "execution_count": 185,
     "metadata": {},
     "output_type": "execute_result"
    }
   ],
   "source": [
    "train_size= num_data -val_size\n",
    "train_size"
   ]
  },
  {
   "cell_type": "code",
   "execution_count": 186,
   "metadata": {
    "executionInfo": {
     "elapsed": 8,
     "status": "ok",
     "timestamp": 1636227486590,
     "user": {
      "displayName": "Mariha Tabassum",
      "photoUrl": "https://lh3.googleusercontent.com/a-/AOh14Gjwsopeh-iYNtF4s4wBJmiMIRSh1UxQO_hmmDWRoQ=s64",
      "userId": "00329422506247154064"
     },
     "user_tz": -360
    },
    "id": "1azKOpseRzpC"
   },
   "outputs": [],
   "source": [
    "train_ds, test_ds = random_split(dataset, [train_size, val_size])"
   ]
  },
  {
   "cell_type": "markdown",
   "metadata": {
    "id": "RwG5a30BRzpC"
   },
   "source": [
    "###  Creating a batch_size & Setting training & testing dataloader!"
   ]
  },
  {
   "cell_type": "code",
   "execution_count": 116,
   "metadata": {
    "executionInfo": {
     "elapsed": 4,
     "status": "ok",
     "timestamp": 1636226379157,
     "user": {
      "displayName": "Mariha Tabassum",
      "photoUrl": "https://lh3.googleusercontent.com/a-/AOh14Gjwsopeh-iYNtF4s4wBJmiMIRSh1UxQO_hmmDWRoQ=s64",
      "userId": "00329422506247154064"
     },
     "user_tz": -360
    },
    "id": "AccOkh9_RzpD"
   },
   "outputs": [],
   "source": [
    "batch_size =2"
   ]
  },
  {
   "cell_type": "code",
   "execution_count": 180,
   "metadata": {
    "colab": {
     "base_uri": "https://localhost:8080/"
    },
    "executionInfo": {
     "elapsed": 424,
     "status": "ok",
     "timestamp": 1636227476210,
     "user": {
      "displayName": "Mariha Tabassum",
      "photoUrl": "https://lh3.googleusercontent.com/a-/AOh14Gjwsopeh-iYNtF4s4wBJmiMIRSh1UxQO_hmmDWRoQ=s64",
      "userId": "00329422506247154064"
     },
     "user_tz": -360
    },
    "id": "cA6yB4tSRzpD",
    "outputId": "0bf9018a-ccea-40f6-e8b1-9a8cddc7a6a8"
   },
   "outputs": [
    {
     "name": "stdout",
     "output_type": "stream",
     "text": [
      "Help on class DataLoader in module torch.utils.data.dataloader:\n",
      "\n",
      "class DataLoader(typing.Generic)\n",
      " |  DataLoader(*args, **kwds)\n",
      " |  \n",
      " |  Data loader. Combines a dataset and a sampler, and provides an iterable over\n",
      " |  the given dataset.\n",
      " |  \n",
      " |  The :class:`~torch.utils.data.DataLoader` supports both map-style and\n",
      " |  iterable-style datasets with single- or multi-process loading, customizing\n",
      " |  loading order and optional automatic batching (collation) and memory pinning.\n",
      " |  \n",
      " |  See :py:mod:`torch.utils.data` documentation page for more details.\n",
      " |  \n",
      " |  Args:\n",
      " |      dataset (Dataset): dataset from which to load the data.\n",
      " |      batch_size (int, optional): how many samples per batch to load\n",
      " |          (default: ``1``).\n",
      " |      shuffle (bool, optional): set to ``True`` to have the data reshuffled\n",
      " |          at every epoch (default: ``False``).\n",
      " |      sampler (Sampler or Iterable, optional): defines the strategy to draw\n",
      " |          samples from the dataset. Can be any ``Iterable`` with ``__len__``\n",
      " |          implemented. If specified, :attr:`shuffle` must not be specified.\n",
      " |      batch_sampler (Sampler or Iterable, optional): like :attr:`sampler`, but\n",
      " |          returns a batch of indices at a time. Mutually exclusive with\n",
      " |          :attr:`batch_size`, :attr:`shuffle`, :attr:`sampler`,\n",
      " |          and :attr:`drop_last`.\n",
      " |      num_workers (int, optional): how many subprocesses to use for data\n",
      " |          loading. ``0`` means that the data will be loaded in the main process.\n",
      " |          (default: ``0``)\n",
      " |      collate_fn (callable, optional): merges a list of samples to form a\n",
      " |          mini-batch of Tensor(s).  Used when using batched loading from a\n",
      " |          map-style dataset.\n",
      " |      pin_memory (bool, optional): If ``True``, the data loader will copy Tensors\n",
      " |          into CUDA pinned memory before returning them.  If your data elements\n",
      " |          are a custom type, or your :attr:`collate_fn` returns a batch that is a custom type,\n",
      " |          see the example below.\n",
      " |      drop_last (bool, optional): set to ``True`` to drop the last incomplete batch,\n",
      " |          if the dataset size is not divisible by the batch size. If ``False`` and\n",
      " |          the size of dataset is not divisible by the batch size, then the last batch\n",
      " |          will be smaller. (default: ``False``)\n",
      " |      timeout (numeric, optional): if positive, the timeout value for collecting a batch\n",
      " |          from workers. Should always be non-negative. (default: ``0``)\n",
      " |      worker_init_fn (callable, optional): If not ``None``, this will be called on each\n",
      " |          worker subprocess with the worker id (an int in ``[0, num_workers - 1]``) as\n",
      " |          input, after seeding and before data loading. (default: ``None``)\n",
      " |      generator (torch.Generator, optional): If not ``None``, this RNG will be used\n",
      " |          by RandomSampler to generate random indexes and multiprocessing to generate\n",
      " |          `base_seed` for workers. (default: ``None``)\n",
      " |      prefetch_factor (int, optional, keyword-only arg): Number of samples loaded\n",
      " |          in advance by each worker. ``2`` means there will be a total of\n",
      " |          2 * num_workers samples prefetched across all workers. (default: ``2``)\n",
      " |      persistent_workers (bool, optional): If ``True``, the data loader will not shutdown\n",
      " |          the worker processes after a dataset has been consumed once. This allows to\n",
      " |          maintain the workers `Dataset` instances alive. (default: ``False``)\n",
      " |  \n",
      " |  \n",
      " |  .. warning:: If the ``spawn`` start method is used, :attr:`worker_init_fn`\n",
      " |               cannot be an unpicklable object, e.g., a lambda function. See\n",
      " |               :ref:`multiprocessing-best-practices` on more details related\n",
      " |               to multiprocessing in PyTorch.\n",
      " |  \n",
      " |  .. warning:: ``len(dataloader)`` heuristic is based on the length of the sampler used.\n",
      " |               When :attr:`dataset` is an :class:`~torch.utils.data.IterableDataset`,\n",
      " |               it instead returns an estimate based on ``len(dataset) / batch_size``, with proper\n",
      " |               rounding depending on :attr:`drop_last`, regardless of multi-process loading\n",
      " |               configurations. This represents the best guess PyTorch can make because PyTorch\n",
      " |               trusts user :attr:`dataset` code in correctly handling multi-process\n",
      " |               loading to avoid duplicate data.\n",
      " |  \n",
      " |               However, if sharding results in multiple workers having incomplete last batches,\n",
      " |               this estimate can still be inaccurate, because (1) an otherwise complete batch can\n",
      " |               be broken into multiple ones and (2) more than one batch worth of samples can be\n",
      " |               dropped when :attr:`drop_last` is set. Unfortunately, PyTorch can not detect such\n",
      " |               cases in general.\n",
      " |  \n",
      " |               See `Dataset Types`_ for more details on these two types of datasets and how\n",
      " |               :class:`~torch.utils.data.IterableDataset` interacts with\n",
      " |               `Multi-process data loading`_.\n",
      " |  \n",
      " |  .. warning:: See :ref:`reproducibility`, and :ref:`dataloader-workers-random-seed`, and\n",
      " |               :ref:`data-loading-randomness` notes for random seed related questions.\n",
      " |  \n",
      " |  Method resolution order:\n",
      " |      DataLoader\n",
      " |      typing.Generic\n",
      " |      builtins.object\n",
      " |  \n",
      " |  Methods defined here:\n",
      " |  \n",
      " |  __init__(self, dataset: torch.utils.data.dataset.Dataset[+T_co], batch_size: Union[int, NoneType] = 1, shuffle: bool = False, sampler: Union[torch.utils.data.sampler.Sampler[int], NoneType] = None, batch_sampler: Union[torch.utils.data.sampler.Sampler[Sequence[int]], NoneType] = None, num_workers: int = 0, collate_fn: Union[Callable[[List[~T]], Any], NoneType] = None, pin_memory: bool = False, drop_last: bool = False, timeout: float = 0, worker_init_fn: Union[Callable[[int], NoneType], NoneType] = None, multiprocessing_context=None, generator=None, *, prefetch_factor: int = 2, persistent_workers: bool = False)\n",
      " |      Initialize self.  See help(type(self)) for accurate signature.\n",
      " |  \n",
      " |  __iter__(self) -> '_BaseDataLoaderIter'\n",
      " |      # We quote '_BaseDataLoaderIter' since it isn't defined yet and the definition can't be moved up\n",
      " |      # since '_BaseDataLoaderIter' references 'DataLoader'.\n",
      " |  \n",
      " |  __len__(self) -> int\n",
      " |  \n",
      " |  __setattr__(self, attr, val)\n",
      " |      Implement setattr(self, name, value).\n",
      " |  \n",
      " |  check_worker_number_rationality(self)\n",
      " |  \n",
      " |  ----------------------------------------------------------------------\n",
      " |  Data descriptors defined here:\n",
      " |  \n",
      " |  __dict__\n",
      " |      dictionary for instance variables (if defined)\n",
      " |  \n",
      " |  __weakref__\n",
      " |      list of weak references to the object (if defined)\n",
      " |  \n",
      " |  multiprocessing_context\n",
      " |  \n",
      " |  ----------------------------------------------------------------------\n",
      " |  Data and other attributes defined here:\n",
      " |  \n",
      " |  __annotations__ = {'_iterator': typing.Union[ForwardRef('_BaseDataLoad...\n",
      " |  \n",
      " |  __orig_bases__ = (typing.Generic[+T_co],)\n",
      " |  \n",
      " |  __parameters__ = (+T_co,)\n",
      " |  \n",
      " |  ----------------------------------------------------------------------\n",
      " |  Class methods inherited from typing.Generic:\n",
      " |  \n",
      " |  __class_getitem__(params) from builtins.type\n",
      " |  \n",
      " |  __init_subclass__(*args, **kwargs) from builtins.type\n",
      " |      This method is called when a class is subclassed.\n",
      " |      \n",
      " |      The default implementation does nothing. It may be\n",
      " |      overridden to extend subclasses.\n",
      " |  \n",
      " |  ----------------------------------------------------------------------\n",
      " |  Static methods inherited from typing.Generic:\n",
      " |  \n",
      " |  __new__(cls, *args, **kwds)\n",
      " |      Create and return a new object.  See help(type) for accurate signature.\n",
      "\n"
     ]
    }
   ],
   "source": [
    "help(DataLoader)"
   ]
  },
  {
   "cell_type": "code",
   "execution_count": 187,
   "metadata": {
    "executionInfo": {
     "elapsed": 334,
     "status": "ok",
     "timestamp": 1636227490807,
     "user": {
      "displayName": "Mariha Tabassum",
      "photoUrl": "https://lh3.googleusercontent.com/a-/AOh14Gjwsopeh-iYNtF4s4wBJmiMIRSh1UxQO_hmmDWRoQ=s64",
      "userId": "00329422506247154064"
     },
     "user_tz": -360
    },
    "id": "Km9SbHhGRzpD"
   },
   "outputs": [],
   "source": [
    "train_dl= DataLoader(train_ds, batch_size, shuffle=True)    \n",
    "\n",
    "test_dl= DataLoader(test_ds, batch_size, shuffle=True)\n",
    "\n",
    "# make sure to chec the speelling...DataLoader has a capital D and a capital L! or it will throw \"module is not callable error!\""
   ]
  },
  {
   "cell_type": "code",
   "execution_count": 188,
   "metadata": {
    "colab": {
     "base_uri": "https://localhost:8080/"
    },
    "executionInfo": {
     "elapsed": 4273,
     "status": "ok",
     "timestamp": 1636227496227,
     "user": {
      "displayName": "Mariha Tabassum",
      "photoUrl": "https://lh3.googleusercontent.com/a-/AOh14Gjwsopeh-iYNtF4s4wBJmiMIRSh1UxQO_hmmDWRoQ=s64",
      "userId": "00329422506247154064"
     },
     "user_tz": -360
    },
    "id": "KtTElOkHwid2",
    "outputId": "ac46faeb-c4d3-41c1-9844-50350b636d24"
   },
   "outputs": [
    {
     "name": "stdout",
     "output_type": "stream",
     "text": [
      "Requirement already satisfied: opencv-python in /usr/local/lib/python3.7/dist-packages (4.1.2.30)\n",
      "Requirement already satisfied: numpy>=1.14.5 in /usr/local/lib/python3.7/dist-packages (from opencv-python) (1.21.4)\n"
     ]
    }
   ],
   "source": [
    "!pip install opencv-python\n",
    "import cv2"
   ]
  },
  {
   "cell_type": "code",
   "execution_count": 189,
   "metadata": {
    "executionInfo": {
     "elapsed": 24,
     "status": "ok",
     "timestamp": 1636227496230,
     "user": {
      "displayName": "Mariha Tabassum",
      "photoUrl": "https://lh3.googleusercontent.com/a-/AOh14Gjwsopeh-iYNtF4s4wBJmiMIRSh1UxQO_hmmDWRoQ=s64",
      "userId": "00329422506247154064"
     },
     "user_tz": -360
    },
    "id": "rvOZWSyqyHX1"
   },
   "outputs": [],
   "source": [
    "def show_example(img, label):\n",
    "  plt.imshow(img.permute(1, 2, 0))"
   ]
  },
  {
   "cell_type": "code",
   "execution_count": 190,
   "metadata": {
    "colab": {
     "base_uri": "https://localhost:8080/",
     "height": 268
    },
    "executionInfo": {
     "elapsed": 23,
     "status": "ok",
     "timestamp": 1636227496232,
     "user": {
      "displayName": "Mariha Tabassum",
      "photoUrl": "https://lh3.googleusercontent.com/a-/AOh14Gjwsopeh-iYNtF4s4wBJmiMIRSh1UxQO_hmmDWRoQ=s64",
      "userId": "00329422506247154064"
     },
     "user_tz": -360
    },
    "id": "UazBDfTkx8Nw",
    "outputId": "72b92091-13d3-4614-f060-8cbef2a450ce"
   },
   "outputs": [
    {
     "data": {
      "image/png": "[encoded data removed]",
      "text/plain": [
       "<Figure size 432x288 with 1 Axes>"
      ]
     },
     "metadata": {
      "needs_background": "light"
     },
     "output_type": "display_data"
    }
   ],
   "source": [
    "img, label =dataset[5]\n",
    "show_example(img, label)       #finalllyyyyyyy # woooowwww"
   ]
  },
  {
   "cell_type": "code",
   "execution_count": 191,
   "metadata": {
    "colab": {
     "base_uri": "https://localhost:8080/",
     "height": 268
    },
    "executionInfo": {
     "elapsed": 1055,
     "status": "ok",
     "timestamp": 1636227497848,
     "user": {
      "displayName": "Mariha Tabassum",
      "photoUrl": "https://lh3.googleusercontent.com/a-/AOh14Gjwsopeh-iYNtF4s4wBJmiMIRSh1UxQO_hmmDWRoQ=s64",
      "userId": "00329422506247154064"
     },
     "user_tz": -360
    },
    "id": "nDI1fy-my3lY",
    "outputId": "f21ba6e5-2542-4a47-e064-676957bba09c"
   },
   "outputs": [
    {
     "data": {
      "image/png": "[encoded data removed]",
      "text/plain": [
       "<Figure size 432x288 with 1 Axes>"
      ]
     },
     "metadata": {
      "needs_background": "light"
     },
     "output_type": "display_data"
    }
   ],
   "source": [
    "img, label=dataset[30]\n",
    "show_example(img, label)     #looking goooodddd!!!"
   ]
  },
  {
   "cell_type": "code",
   "execution_count": 192,
   "metadata": {
    "colab": {
     "base_uri": "https://localhost:8080/",
     "height": 87
    },
    "executionInfo": {
     "elapsed": 2690,
     "status": "ok",
     "timestamp": 1636227504382,
     "user": {
      "displayName": "Mariha Tabassum",
      "photoUrl": "https://lh3.googleusercontent.com/a-/AOh14Gjwsopeh-iYNtF4s4wBJmiMIRSh1UxQO_hmmDWRoQ=s64",
      "userId": "00329422506247154064"
     },
     "user_tz": -360
    },
    "id": "mE64GcLBzduv",
    "outputId": "294a4c2a-c1e3-4eae-ebe1-349f97779d7a"
   },
   "outputs": [
    {
     "name": "stdout",
     "output_type": "stream",
     "text": [
      "[jovian] Detected Colab notebook...\u001b[0m\n",
      "[jovian] Uploading colab notebook to Jovian...\u001b[0m\n",
      "Committed successfully! https://jovian.ai/mrittrukhuda/nudibranchs-image-species-identificaion\n"
     ]
    },
    {
     "data": {
      "application/vnd.google.colaboratory.intrinsic+json": {
       "type": "string"
      },
      "text/plain": [
       "'https://jovian.ai/mrittrukhuda/nudibranchs-image-species-identificaion'"
      ]
     },
     "execution_count": 192,
     "metadata": {},
     "output_type": "execute_result"
    }
   ],
   "source": [
    "jovian.commit(project=project_name)"
   ]
  },
  {
   "cell_type": "markdown",
   "metadata": {
    "id": "I7cwxtEd1Gak"
   },
   "source": [
    "### Defining the Model(Convolutional Neural Network)"
   ]
  },
  {
   "cell_type": "code",
   "execution_count": 193,
   "metadata": {
    "executionInfo": {
     "elapsed": 3,
     "status": "ok",
     "timestamp": 1636227505665,
     "user": {
      "displayName": "Mariha Tabassum",
      "photoUrl": "https://lh3.googleusercontent.com/a-/AOh14Gjwsopeh-iYNtF4s4wBJmiMIRSh1UxQO_hmmDWRoQ=s64",
      "userId": "00329422506247154064"
     },
     "user_tz": -360
    },
    "id": "aD7BMJniRzpF"
   },
   "outputs": [],
   "source": [
    "class ImageClassificationBase(nn.Module):\n",
    "    def training_step(self, batch):\n",
    "        images, labels = batch \n",
    "        out = self(images)                  # Generate predictions\n",
    "        loss = F.cross_entropy(out, labels) # Calculate loss\n",
    "        return loss\n",
    "    \n",
    "    def validation_step(self, batch):\n",
    "        images, labels = batch \n",
    "        out = self(images)                    # Generate predictions\n",
    "        loss = F.cross_entropy(out, labels)   # Calculate loss\n",
    "        acc = accuracy(out, labels)           # Calculate accuracy\n",
    "        return {'val_loss': loss.detach(), 'val_acc': acc}\n",
    "        \n",
    "    def validation_epoch_end(self, outputs):\n",
    "        batch_losses = [x['val_loss'] for x in outputs]\n",
    "        epoch_loss = torch.stack(batch_losses).mean()   # Combine losses\n",
    "        batch_accs = [x['val_acc'] for x in outputs]\n",
    "        epoch_acc = torch.stack(batch_accs).mean()      # Combine accuracies\n",
    "        return {'val_loss': epoch_loss.item(), 'val_acc': epoch_acc.item()}\n",
    "    \n",
    "    def epoch_end(self, epoch, result):\n",
    "        print(\"Epoch [{}], train_loss: {:.4f}, val_loss: {:.4f}, val_acc: {:.4f}\".format(\n",
    "            epoch, result['train_loss'], result['val_loss'], result['val_acc']))\n",
    "        \n",
    "def accuracy(outputs, labels):\n",
    "    _, preds = torch.max(outputs, dim=1)\n",
    "    return torch.tensor(torch.sum(preds == labels).item() / len(preds))"
   ]
  },
  {
   "cell_type": "code",
   "execution_count": 194,
   "metadata": {
    "executionInfo": {
     "elapsed": 2,
     "status": "ok",
     "timestamp": 1636227506274,
     "user": {
      "displayName": "Mariha Tabassum",
      "photoUrl": "https://lh3.googleusercontent.com/a-/AOh14Gjwsopeh-iYNtF4s4wBJmiMIRSh1UxQO_hmmDWRoQ=s64",
      "userId": "00329422506247154064"
     },
     "user_tz": -360
    },
    "id": "vSkUd3pj1E-1"
   },
   "outputs": [],
   "source": [
    "#reminder: input =3 channels and output=32 channels! goes on!\n",
    "class NudiFlatwormCnnModel(ImageClassificationBase):\n",
    "    def __init__(self):\n",
    "        super().__init__()\n",
    "        self.network = nn.Sequential(\n",
    "            nn.Conv2d(3, 32, kernel_size=3, padding=1),  \n",
    "            #output: 32 X 120 X 120        \n",
    "            nn.ReLU(),\n",
    "            nn.Conv2d(32, 64, kernel_size=3, stride=1, padding=1),\n",
    "            #output: 64 X 120 X 120\n",
    "            nn.ReLU(),\n",
    "            nn.MaxPool2d(2, 2), # output: 64 x 60 x 60\n",
    "\n",
    "            nn.Conv2d(64, 128, kernel_size=3, stride=1, padding=1),\n",
    "            #output: 128 X 60 X 60\n",
    "            nn.ReLU(),\n",
    "            nn.Conv2d(128, 128, kernel_size=3, stride=1, padding=1),\n",
    "            #output: 128 X 60 X 60\n",
    "            nn.ReLU(),\n",
    "            nn.MaxPool2d(2, 2), # output: 128 x 30x 30\n",
    "\n",
    "            nn.Conv2d(128, 256, kernel_size=3, stride=1, padding=1),\n",
    "            #output: 256 X 30 X 30\n",
    "            nn.ReLU(),\n",
    "            nn.Conv2d(256, 256, kernel_size=3, stride=1, padding=1),\n",
    "            #output: 256 X 30 X 30\n",
    "            nn.ReLU(),\n",
    "            nn.MaxPool2d(2, 2), # output: 256 x 15 x 15\n",
    "\n",
    "            nn.Flatten(), \n",
    "            nn.Linear(256*15*15, 512),\n",
    "            nn.ReLU(),\n",
    "            nn.Linear(512, 256),\n",
    "            nn.ReLU(),\n",
    "            nn.Linear(256, 2))\n",
    "        \n",
    "    def forward(self, xb):\n",
    "        return self.network(xb)"
   ]
  },
  {
   "cell_type": "code",
   "execution_count": 195,
   "metadata": {
    "colab": {
     "base_uri": "https://localhost:8080/"
    },
    "executionInfo": {
     "elapsed": 686,
     "status": "ok",
     "timestamp": 1636227508939,
     "user": {
      "displayName": "Mariha Tabassum",
      "photoUrl": "https://lh3.googleusercontent.com/a-/AOh14Gjwsopeh-iYNtF4s4wBJmiMIRSh1UxQO_hmmDWRoQ=s64",
      "userId": "00329422506247154064"
     },
     "user_tz": -360
    },
    "id": "LHFpIoMT1E7M",
    "outputId": "a0e85543-3acf-4744-9f01-fd5b600ee547"
   },
   "outputs": [
    {
     "data": {
      "text/plain": [
       "NudiFlatwormCnnModel(\n",
       "  (network): Sequential(\n",
       "    (0): Conv2d(3, 32, kernel_size=(3, 3), stride=(1, 1), padding=(1, 1))\n",
       "    (1): ReLU()\n",
       "    (2): Conv2d(32, 64, kernel_size=(3, 3), stride=(1, 1), padding=(1, 1))\n",
       "    (3): ReLU()\n",
       "    (4): MaxPool2d(kernel_size=2, stride=2, padding=0, dilation=1, ceil_mode=False)\n",
       "    (5): Conv2d(64, 128, kernel_size=(3, 3), stride=(1, 1), padding=(1, 1))\n",
       "    (6): ReLU()\n",
       "    (7): Conv2d(128, 128, kernel_size=(3, 3), stride=(1, 1), padding=(1, 1))\n",
       "    (8): ReLU()\n",
       "    (9): MaxPool2d(kernel_size=2, stride=2, padding=0, dilation=1, ceil_mode=False)\n",
       "    (10): Conv2d(128, 256, kernel_size=(3, 3), stride=(1, 1), padding=(1, 1))\n",
       "    (11): ReLU()\n",
       "    (12): Conv2d(256, 256, kernel_size=(3, 3), stride=(1, 1), padding=(1, 1))\n",
       "    (13): ReLU()\n",
       "    (14): MaxPool2d(kernel_size=2, stride=2, padding=0, dilation=1, ceil_mode=False)\n",
       "    (15): Flatten(start_dim=1, end_dim=-1)\n",
       "    (16): Linear(in_features=57600, out_features=512, bias=True)\n",
       "    (17): ReLU()\n",
       "    (18): Linear(in_features=512, out_features=256, bias=True)\n",
       "    (19): ReLU()\n",
       "    (20): Linear(in_features=256, out_features=2, bias=True)\n",
       "  )\n",
       ")"
      ]
     },
     "execution_count": 195,
     "metadata": {},
     "output_type": "execute_result"
    }
   ],
   "source": [
    "model =NudiFlatwormCnnModel()\n",
    "model"
   ]
  },
  {
   "cell_type": "code",
   "execution_count": 196,
   "metadata": {
    "colab": {
     "base_uri": "https://localhost:8080/"
    },
    "executionInfo": {
     "elapsed": 352,
     "status": "ok",
     "timestamp": 1636227511300,
     "user": {
      "displayName": "Mariha Tabassum",
      "photoUrl": "https://lh3.googleusercontent.com/a-/AOh14Gjwsopeh-iYNtF4s4wBJmiMIRSh1UxQO_hmmDWRoQ=s64",
      "userId": "00329422506247154064"
     },
     "user_tz": -360
    },
    "id": "MxDBd4z81E2b",
    "outputId": "216238e9-6c08-4abb-f123-9c388c9f0a88"
   },
   "outputs": [
    {
     "name": "stdout",
     "output_type": "stream",
     "text": [
      "images.shape: torch.Size([2, 3, 120, 120])\n",
      "out.shape: torch.Size([2, 2])\n",
      "out[0]: tensor([-0.0219, -0.0329], grad_fn=<SelectBackward>)\n"
     ]
    }
   ],
   "source": [
    "for images, labels in train_dl:\n",
    "    print('images.shape:', images.shape)\n",
    "    out = model(images)\n",
    "    print('out.shape:', out.shape)\n",
    "    print('out[0]:', out[0])\n",
    "    break"
   ]
  },
  {
   "cell_type": "code",
   "execution_count": 197,
   "metadata": {
    "colab": {
     "base_uri": "https://localhost:8080/",
     "height": 87
    },
    "executionInfo": {
     "elapsed": 2987,
     "status": "ok",
     "timestamp": 1636227517275,
     "user": {
      "displayName": "Mariha Tabassum",
      "photoUrl": "https://lh3.googleusercontent.com/a-/AOh14Gjwsopeh-iYNtF4s4wBJmiMIRSh1UxQO_hmmDWRoQ=s64",
      "userId": "00329422506247154064"
     },
     "user_tz": -360
    },
    "id": "QE1OI30_1E0Z",
    "outputId": "27163b36-9fe5-4241-bbe1-a7c500847091"
   },
   "outputs": [
    {
     "name": "stdout",
     "output_type": "stream",
     "text": [
      "[jovian] Detected Colab notebook...\u001b[0m\n",
      "[jovian] Uploading colab notebook to Jovian...\u001b[0m\n",
      "Committed successfully! https://jovian.ai/mrittrukhuda/nudibranchs-image-species-identificaion\n"
     ]
    },
    {
     "data": {
      "application/vnd.google.colaboratory.intrinsic+json": {
       "type": "string"
      },
      "text/plain": [
       "'https://jovian.ai/mrittrukhuda/nudibranchs-image-species-identificaion'"
      ]
     },
     "execution_count": 197,
     "metadata": {},
     "output_type": "execute_result"
    }
   ],
   "source": [
    "jovian.commit()"
   ]
  },
  {
   "cell_type": "markdown",
   "metadata": {
    "id": "LhS5JrGUgi8v"
   },
   "source": [
    "## Setting some functions to move the model & data to GPU if available!"
   ]
  },
  {
   "cell_type": "code",
   "execution_count": 198,
   "metadata": {
    "executionInfo": {
     "elapsed": 10,
     "status": "ok",
     "timestamp": 1636227517277,
     "user": {
      "displayName": "Mariha Tabassum",
      "photoUrl": "https://lh3.googleusercontent.com/a-/AOh14Gjwsopeh-iYNtF4s4wBJmiMIRSh1UxQO_hmmDWRoQ=s64",
      "userId": "00329422506247154064"
     },
     "user_tz": -360
    },
    "id": "A7KvMZnZgiTF"
   },
   "outputs": [],
   "source": [
    "def get_default_device():\n",
    "    \"\"\"Pick GPU if available, else CPU\"\"\"\n",
    "    if torch.cuda.is_available():\n",
    "        return torch.device('cuda')\n",
    "    else:\n",
    "        return torch.device('cpu')\n",
    "    \n",
    "def to_device(data, device):\n",
    "    \"\"\"Move tensor(s) to chosen device\"\"\"\n",
    "    if isinstance(data, (list,tuple)):\n",
    "        return [to_device(x, device) for x in data]\n",
    "    return data.to(device, non_blocking=True)\n",
    "\n",
    "class DeviceDataLoader():\n",
    "    \"\"\"Wrap a dataloader to move data to a device\"\"\"\n",
    "    def __init__(self, dl, device):\n",
    "        self.dl = dl\n",
    "        self.device = device\n",
    "        \n",
    "    def __iter__(self):\n",
    "        \"\"\"Yield a batch of data after moving it to device\"\"\"\n",
    "        for b in self.dl: \n",
    "            yield to_device(b, self.device)\n",
    "    def __len__(self):\n",
    "        \"\"\"Number of batches\"\"\"\n",
    "        return len(self.dl)"
   ]
  },
  {
   "cell_type": "markdown",
   "metadata": {
    "id": "eU0be7GYhOIG"
   },
   "source": [
    "My Note: To know more about the isinstance() function: https://www.w3schools.com/python/ref_func_isinstance.asp\n",
    "\n",
    "The isinstance() function returns True if the specified object is of the specified type, otherwise False.\n",
    "\n",
    "If the type parameter is a tuple, this function will return True if the object is one of the types in the tuple. "
   ]
  },
  {
   "cell_type": "code",
   "execution_count": 199,
   "metadata": {
    "colab": {
     "base_uri": "https://localhost:8080/"
    },
    "executionInfo": {
     "elapsed": 343,
     "status": "ok",
     "timestamp": 1636227521469,
     "user": {
      "displayName": "Mariha Tabassum",
      "photoUrl": "https://lh3.googleusercontent.com/a-/AOh14Gjwsopeh-iYNtF4s4wBJmiMIRSh1UxQO_hmmDWRoQ=s64",
      "userId": "00329422506247154064"
     },
     "user_tz": -360
    },
    "id": "iPtCR27RhJEi",
    "outputId": "891458b9-79c8-4796-b423-022214cf3e7f"
   },
   "outputs": [
    {
     "data": {
      "text/plain": [
       "device(type='cuda')"
      ]
     },
     "execution_count": 199,
     "metadata": {},
     "output_type": "execute_result"
    }
   ],
   "source": [
    "device = get_default_device()   #run on google colab for GPU!\n",
    "device"
   ]
  },
  {
   "cell_type": "markdown",
   "metadata": {
    "id": "Ia5jGZRUhv4V"
   },
   "source": [
    "My Note: 1. DeviceDataLoader for automatically transferring batches of data to the GPU (if available), 2. and to_device to move our model to the GPU (if available)."
   ]
  },
  {
   "cell_type": "code",
   "execution_count": 200,
   "metadata": {
    "executionInfo": {
     "elapsed": 493,
     "status": "ok",
     "timestamp": 1636227523956,
     "user": {
      "displayName": "Mariha Tabassum",
      "photoUrl": "https://lh3.googleusercontent.com/a-/AOh14Gjwsopeh-iYNtF4s4wBJmiMIRSh1UxQO_hmmDWRoQ=s64",
      "userId": "00329422506247154064"
     },
     "user_tz": -360
    },
    "id": "egRxQ83chJBj"
   },
   "outputs": [],
   "source": [
    "train_dl = DeviceDataLoader(train_dl, device)    #transferring train & validation dataloaders along with the model!\n",
    "val_dl = DeviceDataLoader(test_dl, device)"
   ]
  },
  {
   "cell_type": "code",
   "execution_count": 201,
   "metadata": {
    "colab": {
     "base_uri": "https://localhost:8080/"
    },
    "executionInfo": {
     "elapsed": 403,
     "status": "ok",
     "timestamp": 1636227525607,
     "user": {
      "displayName": "Mariha Tabassum",
      "photoUrl": "https://lh3.googleusercontent.com/a-/AOh14Gjwsopeh-iYNtF4s4wBJmiMIRSh1UxQO_hmmDWRoQ=s64",
      "userId": "00329422506247154064"
     },
     "user_tz": -360
    },
    "id": "TByP40_ahI9h",
    "outputId": "a1ac486f-9ca5-44e8-eedf-fd8ba00077c1"
   },
   "outputs": [
    {
     "data": {
      "text/plain": [
       "NudiFlatwormCnnModel(\n",
       "  (network): Sequential(\n",
       "    (0): Conv2d(3, 32, kernel_size=(3, 3), stride=(1, 1), padding=(1, 1))\n",
       "    (1): ReLU()\n",
       "    (2): Conv2d(32, 64, kernel_size=(3, 3), stride=(1, 1), padding=(1, 1))\n",
       "    (3): ReLU()\n",
       "    (4): MaxPool2d(kernel_size=2, stride=2, padding=0, dilation=1, ceil_mode=False)\n",
       "    (5): Conv2d(64, 128, kernel_size=(3, 3), stride=(1, 1), padding=(1, 1))\n",
       "    (6): ReLU()\n",
       "    (7): Conv2d(128, 128, kernel_size=(3, 3), stride=(1, 1), padding=(1, 1))\n",
       "    (8): ReLU()\n",
       "    (9): MaxPool2d(kernel_size=2, stride=2, padding=0, dilation=1, ceil_mode=False)\n",
       "    (10): Conv2d(128, 256, kernel_size=(3, 3), stride=(1, 1), padding=(1, 1))\n",
       "    (11): ReLU()\n",
       "    (12): Conv2d(256, 256, kernel_size=(3, 3), stride=(1, 1), padding=(1, 1))\n",
       "    (13): ReLU()\n",
       "    (14): MaxPool2d(kernel_size=2, stride=2, padding=0, dilation=1, ceil_mode=False)\n",
       "    (15): Flatten(start_dim=1, end_dim=-1)\n",
       "    (16): Linear(in_features=57600, out_features=512, bias=True)\n",
       "    (17): ReLU()\n",
       "    (18): Linear(in_features=512, out_features=256, bias=True)\n",
       "    (19): ReLU()\n",
       "    (20): Linear(in_features=256, out_features=2, bias=True)\n",
       "  )\n",
       ")"
      ]
     },
     "execution_count": 201,
     "metadata": {},
     "output_type": "execute_result"
    }
   ],
   "source": [
    "model=to_device(NudiFlatwormCnnModel(), device)\n",
    "model"
   ]
  },
  {
   "cell_type": "markdown",
   "metadata": {
    "id": "DEb65pZWjSw1"
   },
   "source": [
    "## Training The Model!!!\n",
    "\n",
    "My NotE: to know more about optimizer and optimizer.step(): https://pytorch.org/docs/stable/optim.html"
   ]
  },
  {
   "cell_type": "code",
   "execution_count": 202,
   "metadata": {
    "executionInfo": {
     "elapsed": 355,
     "status": "ok",
     "timestamp": 1636227528896,
     "user": {
      "displayName": "Mariha Tabassum",
      "photoUrl": "https://lh3.googleusercontent.com/a-/AOh14Gjwsopeh-iYNtF4s4wBJmiMIRSh1UxQO_hmmDWRoQ=s64",
      "userId": "00329422506247154064"
     },
     "user_tz": -360
    },
    "id": "9qR6Pa2NhI7a"
   },
   "outputs": [],
   "source": [
    "@torch.no_grad()\n",
    "def evaluate(model, val_loader):\n",
    "    model.eval()\n",
    "    outputs = [model.validation_step(batch) for batch in val_loader]\n",
    "    return model.validation_epoch_end(outputs)\n",
    "\n",
    "def fit(epochs, lr, model, train_loader, val_loader, opt_func=torch.optim.SGD):\n",
    "    history = []\n",
    "    optimizer = opt_func(model.parameters(), lr)\n",
    "    for epoch in range(epochs):\n",
    "        # Training Phase \n",
    "        model.train()\n",
    "        train_losses = []\n",
    "        for batch in train_loader:\n",
    "            loss = model.training_step(batch)\n",
    "            train_losses.append(loss)\n",
    "            loss.backward()\n",
    "            optimizer.step()\n",
    "            optimizer.zero_grad()\n",
    "        # Validation phase\n",
    "        result = evaluate(model, val_loader)\n",
    "        result['train_loss'] = torch.stack(train_losses).mean().item()\n",
    "        model.epoch_end(epoch, result)\n",
    "        history.append(result)\n",
    "    return history"
   ]
  },
  {
   "cell_type": "code",
   "execution_count": 203,
   "metadata": {
    "colab": {
     "base_uri": "https://localhost:8080/"
    },
    "executionInfo": {
     "elapsed": 416,
     "status": "ok",
     "timestamp": 1636227531831,
     "user": {
      "displayName": "Mariha Tabassum",
      "photoUrl": "https://lh3.googleusercontent.com/a-/AOh14Gjwsopeh-iYNtF4s4wBJmiMIRSh1UxQO_hmmDWRoQ=s64",
      "userId": "00329422506247154064"
     },
     "user_tz": -360
    },
    "id": "Hz8cQffrhI4M",
    "outputId": "65e329e1-db2f-4ec2-847d-3e6c9b3c0b43"
   },
   "outputs": [
    {
     "data": {
      "text/plain": [
       "{'val_acc': 0.5, 'val_loss': 0.693175196647644}"
      ]
     },
     "execution_count": 203,
     "metadata": {},
     "output_type": "execute_result"
    }
   ],
   "source": [
    "history=evaluate(model, val_dl)\n",
    "history"
   ]
  },
  {
   "cell_type": "code",
   "execution_count": 206,
   "metadata": {
    "executionInfo": {
     "elapsed": 375,
     "status": "ok",
     "timestamp": 1636227585017,
     "user": {
      "displayName": "Mariha Tabassum",
      "photoUrl": "https://lh3.googleusercontent.com/a-/AOh14Gjwsopeh-iYNtF4s4wBJmiMIRSh1UxQO_hmmDWRoQ=s64",
      "userId": "00329422506247154064"
     },
     "user_tz": -360
    },
    "id": "jPuL-xxzsnDk"
   },
   "outputs": [],
   "source": [
    "epochs = 10\n",
    "max_lr = 0.001\n",
    "\n",
    "#opt_func = torch.optim.Adam"
   ]
  },
  {
   "cell_type": "code",
   "execution_count": 210,
   "metadata": {
    "colab": {
     "base_uri": "https://localhost:8080/"
    },
    "executionInfo": {
     "elapsed": 7760,
     "status": "ok",
     "timestamp": 1636228108158,
     "user": {
      "displayName": "Mariha Tabassum",
      "photoUrl": "https://lh3.googleusercontent.com/a-/AOh14Gjwsopeh-iYNtF4s4wBJmiMIRSh1UxQO_hmmDWRoQ=s64",
      "userId": "00329422506247154064"
     },
     "user_tz": -360
    },
    "id": "AEF_nmkysmwU",
    "outputId": "47077a45-ad11-4f2b-90a4-9b87f9f5805e"
   },
   "outputs": [
    {
     "name": "stdout",
     "output_type": "stream",
     "text": [
      "Epoch [0], train_loss: 0.2546, val_loss: 0.2523, val_acc: 0.7500\n",
      "Epoch [1], train_loss: 1.5242, val_loss: 1.2811, val_acc: 0.5000\n",
      "Epoch [2], train_loss: 0.5342, val_loss: 0.0009, val_acc: 1.0000\n",
      "Epoch [3], train_loss: 0.3302, val_loss: 0.1667, val_acc: 1.0000\n",
      "Epoch [4], train_loss: 0.2123, val_loss: 0.3820, val_acc: 0.5000\n",
      "Epoch [5], train_loss: 0.1892, val_loss: 0.0586, val_acc: 1.0000\n",
      "Epoch [6], train_loss: 0.0491, val_loss: 0.0620, val_acc: 1.0000\n",
      "Epoch [7], train_loss: 0.0094, val_loss: 0.0010, val_acc: 1.0000\n",
      "Epoch [8], train_loss: 0.0004, val_loss: 0.0002, val_acc: 1.0000\n",
      "Epoch [9], train_loss: 0.0001, val_loss: 0.0005, val_acc: 1.0000\n",
      "CPU times: user 7.34 s, sys: 84.1 ms, total: 7.43 s\n",
      "Wall time: 7.4 s\n"
     ]
    }
   ],
   "source": [
    "%%time\n",
    "history = fit(epochs, max_lr, model, train_dl, val_dl, opt_func=opt_func)"
   ]
  },
  {
   "cell_type": "code",
   "execution_count": 209,
   "metadata": {
    "colab": {
     "base_uri": "https://localhost:8080/",
     "height": 87
    },
    "executionInfo": {
     "elapsed": 2769,
     "status": "ok",
     "timestamp": 1636228058651,
     "user": {
      "displayName": "Mariha Tabassum",
      "photoUrl": "https://lh3.googleusercontent.com/a-/AOh14Gjwsopeh-iYNtF4s4wBJmiMIRSh1UxQO_hmmDWRoQ=s64",
      "userId": "00329422506247154064"
     },
     "user_tz": -360
    },
    "id": "u0gDqK5ysmsb",
    "outputId": "7ca36e25-4f48-418b-91b4-065e149b55c5"
   },
   "outputs": [
    {
     "name": "stdout",
     "output_type": "stream",
     "text": [
      "[jovian] Detected Colab notebook...\u001b[0m\n",
      "[jovian] Uploading colab notebook to Jovian...\u001b[0m\n",
      "Committed successfully! https://jovian.ai/mrittrukhuda/nudibranchs-image-species-identificaion\n"
     ]
    },
    {
     "data": {
      "application/vnd.google.colaboratory.intrinsic+json": {
       "type": "string"
      },
      "text/plain": [
       "'https://jovian.ai/mrittrukhuda/nudibranchs-image-species-identificaion'"
      ]
     },
     "execution_count": 209,
     "metadata": {},
     "output_type": "execute_result"
    }
   ],
   "source": [
    "jovian.commit()"
   ]
  },
  {
   "cell_type": "code",
   "execution_count": 211,
   "metadata": {
    "executionInfo": {
     "elapsed": 362,
     "status": "ok",
     "timestamp": 1636228128826,
     "user": {
      "displayName": "Mariha Tabassum",
      "photoUrl": "https://lh3.googleusercontent.com/a-/AOh14Gjwsopeh-iYNtF4s4wBJmiMIRSh1UxQO_hmmDWRoQ=s64",
      "userId": "00329422506247154064"
     },
     "user_tz": -360
    },
    "id": "BqE4Iiewsmhk"
   },
   "outputs": [],
   "source": [
    "def plot_accuracies(history):\n",
    "    accuracies = [x['val_acc'] for x in history]\n",
    "    plt.plot(accuracies, '-x')\n",
    "    plt.xlabel('epoch')\n",
    "    plt.ylabel('accuracy')\n",
    "    plt.title('Accuracy vs. No. of epochs');"
   ]
  },
  {
   "cell_type": "code",
   "execution_count": 212,
   "metadata": {
    "colab": {
     "base_uri": "https://localhost:8080/",
     "height": 295
    },
    "executionInfo": {
     "elapsed": 427,
     "status": "ok",
     "timestamp": 1636228142398,
     "user": {
      "displayName": "Mariha Tabassum",
      "photoUrl": "https://lh3.googleusercontent.com/a-/AOh14Gjwsopeh-iYNtF4s4wBJmiMIRSh1UxQO_hmmDWRoQ=s64",
      "userId": "00329422506247154064"
     },
     "user_tz": -360
    },
    "id": "aqAMMTTIhI08",
    "outputId": "bf307707-8ade-4ac9-c437-c344a714786f"
   },
   "outputs": [
    {
     "data": {
      "image/png": "[encoded data removed]",
      "text/plain": [
       "<Figure size 432x288 with 1 Axes>"
      ]
     },
     "metadata": {
      "needs_background": "light"
     },
     "output_type": "display_data"
    }
   ],
   "source": [
    "plot_accuracies(history)"
   ]
  },
  {
   "cell_type": "code",
   "execution_count": 213,
   "metadata": {
    "executionInfo": {
     "elapsed": 342,
     "status": "ok",
     "timestamp": 1636228172444,
     "user": {
      "displayName": "Mariha Tabassum",
      "photoUrl": "https://lh3.googleusercontent.com/a-/AOh14Gjwsopeh-iYNtF4s4wBJmiMIRSh1UxQO_hmmDWRoQ=s64",
      "userId": "00329422506247154064"
     },
     "user_tz": -360
    },
    "id": "dlGW9zXYzCXL"
   },
   "outputs": [],
   "source": [
    "def plot_losses(history):\n",
    "    train_losses = [x.get('train_loss') for x in history]\n",
    "    val_losses = [x['val_loss'] for x in history]\n",
    "    plt.plot(train_losses, '-bx')\n",
    "    plt.plot(val_losses, '-rx')\n",
    "    plt.xlabel('epoch')\n",
    "    plt.ylabel('loss')\n",
    "    plt.legend(['Training', 'Validation'])\n",
    "    plt.title('Loss vs. No. of epochs');"
   ]
  },
  {
   "cell_type": "code",
   "execution_count": 214,
   "metadata": {
    "colab": {
     "base_uri": "https://localhost:8080/",
     "height": 295
    },
    "executionInfo": {
     "elapsed": 442,
     "status": "ok",
     "timestamp": 1636228210936,
     "user": {
      "displayName": "Mariha Tabassum",
      "photoUrl": "https://lh3.googleusercontent.com/a-/AOh14Gjwsopeh-iYNtF4s4wBJmiMIRSh1UxQO_hmmDWRoQ=s64",
      "userId": "00329422506247154064"
     },
     "user_tz": -360
    },
    "id": "_ywpPNbEzCRV",
    "outputId": "81e88336-9799-491a-b13d-e1912bddc8c0"
   },
   "outputs": [
    {
     "data": {
      "image/png": "[encoded data removed]",
      "text/plain": [
       "<Figure size 432x288 with 1 Axes>"
      ]
     },
     "metadata": {
      "needs_background": "light"
     },
     "output_type": "display_data"
    }
   ],
   "source": [
    "plot_losses(history)"
   ]
  },
  {
   "cell_type": "code",
   "execution_count": 217,
   "metadata": {
    "executionInfo": {
     "elapsed": 353,
     "status": "ok",
     "timestamp": 1636228286163,
     "user": {
      "displayName": "Mariha Tabassum",
      "photoUrl": "https://lh3.googleusercontent.com/a-/AOh14Gjwsopeh-iYNtF4s4wBJmiMIRSh1UxQO_hmmDWRoQ=s64",
      "userId": "00329422506247154064"
     },
     "user_tz": -360
    },
    "id": "A4mbP3zEzS7Q"
   },
   "outputs": [],
   "source": [
    "def plot_lrs(history):\n",
    "    lrs = np.concatenate([x.get('lrs', []) for x in history])\n",
    "    plt.plot(lrs)\n",
    "    plt.xlabel('Batch no.')\n",
    "    plt.ylabel('Learning rate')\n",
    "    plt.title('Learning Rate vs. Batch no.');"
   ]
  },
  {
   "cell_type": "code",
   "execution_count": 218,
   "metadata": {
    "colab": {
     "base_uri": "https://localhost:8080/",
     "height": 295
    },
    "executionInfo": {
     "elapsed": 378,
     "status": "ok",
     "timestamp": 1636228289383,
     "user": {
      "displayName": "Mariha Tabassum",
      "photoUrl": "https://lh3.googleusercontent.com/a-/AOh14Gjwsopeh-iYNtF4s4wBJmiMIRSh1UxQO_hmmDWRoQ=s64",
      "userId": "00329422506247154064"
     },
     "user_tz": -360
    },
    "id": "6buV5V8MzS4K",
    "outputId": "450d1652-c6a7-4b4a-93b3-66e1ff57a094"
   },
   "outputs": [
    {
     "data": {
      "image/png": "[encoded data removed]",
      "text/plain": [
       "<Figure size 432x288 with 1 Axes>"
      ]
     },
     "metadata": {
      "needs_background": "light"
     },
     "output_type": "display_data"
    }
   ],
   "source": [
    "plot_lrs(history)"
   ]
  },
  {
   "cell_type": "markdown",
   "metadata": {
    "id": "g4l-yYQmzqc_"
   },
   "source": [
    "## Testing with individual images!"
   ]
  },
  {
   "cell_type": "code",
   "execution_count": 225,
   "metadata": {
    "executionInfo": {
     "elapsed": 374,
     "status": "ok",
     "timestamp": 1636228454351,
     "user": {
      "displayName": "Mariha Tabassum",
      "photoUrl": "https://lh3.googleusercontent.com/a-/AOh14Gjwsopeh-iYNtF4s4wBJmiMIRSh1UxQO_hmmDWRoQ=s64",
      "userId": "00329422506247154064"
     },
     "user_tz": -360
    },
    "id": "LLmkBcRfzqJ0"
   },
   "outputs": [],
   "source": [
    "def predict_image(img, model):\n",
    "    # Convert to a batch of 1\n",
    "    xb = to_device(img.unsqueeze(0), device)\n",
    "    # Get predictions from model\n",
    "    yb = model(xb)\n",
    "    # Pick index with highest probability\n",
    "    _, preds  = torch.max(yb, dim=1)\n",
    "    # Retrieve the class label\n",
    "    return train_ds[preds[0].item()]"
   ]
  },
  {
   "cell_type": "code",
   "execution_count": 229,
   "metadata": {
    "colab": {
     "base_uri": "https://localhost:8080/",
     "height": 1000
    },
    "executionInfo": {
     "elapsed": 978,
     "status": "ok",
     "timestamp": 1636228607752,
     "user": {
      "displayName": "Mariha Tabassum",
      "photoUrl": "https://lh3.googleusercontent.com/a-/AOh14Gjwsopeh-iYNtF4s4wBJmiMIRSh1UxQO_hmmDWRoQ=s64",
      "userId": "00329422506247154064"
     },
     "user_tz": -360
    },
    "id": "vIgGpHt_zqAj",
    "outputId": "da643267-a592-4322-f3d2-41cc2b2c845f"
   },
   "outputs": [
    {
     "name": "stdout",
     "output_type": "stream",
     "text": [
      "Label: (tensor([[[0.5922, 0.6039, 0.6118,  ..., 0.5569, 0.5804, 0.5882],\n",
      "         [0.6039, 0.6157, 0.6157,  ..., 0.5725, 0.6000, 0.6078],\n",
      "         [0.6118, 0.6353, 0.6353,  ..., 0.5843, 0.6157, 0.6275],\n",
      "         ...,\n",
      "         [0.4196, 0.4353, 0.4431,  ..., 0.2118, 0.1373, 0.0471],\n",
      "         [0.4196, 0.4000, 0.4039,  ..., 0.1765, 0.1882, 0.1412],\n",
      "         [0.4235, 0.4078, 0.4706,  ..., 0.1176, 0.1804, 0.2863]],\n",
      "\n",
      "        [[0.5255, 0.5412, 0.5569,  ..., 0.4392, 0.4824, 0.5059],\n",
      "         [0.5333, 0.5490, 0.5490,  ..., 0.4588, 0.5059, 0.5294],\n",
      "         [0.5490, 0.5686, 0.5569,  ..., 0.4863, 0.5255, 0.5490],\n",
      "         ...,\n",
      "         [0.4824, 0.4627, 0.4510,  ..., 0.2745, 0.2000, 0.0980],\n",
      "         [0.4314, 0.4353, 0.4471,  ..., 0.1647, 0.1490, 0.1176],\n",
      "         [0.4196, 0.4196, 0.4902,  ..., 0.1098, 0.1255, 0.2431]],\n",
      "\n",
      "        [[0.5137, 0.5216, 0.5176,  ..., 0.4275, 0.4706, 0.5059],\n",
      "         [0.5255, 0.5216, 0.4980,  ..., 0.4392, 0.4824, 0.5176],\n",
      "         [0.5176, 0.5176, 0.4784,  ..., 0.4588, 0.4980, 0.5294],\n",
      "         ...,\n",
      "         [0.3686, 0.3686, 0.3216,  ..., 0.4275, 0.3451, 0.3176],\n",
      "         [0.3098, 0.3294, 0.3255,  ..., 0.2118, 0.1490, 0.1412],\n",
      "         [0.2353, 0.2863, 0.3882,  ..., 0.1373, 0.1255, 0.2078]]]), tensor(0)) , Predicted: (tensor([[[0.5922, 0.6039, 0.6118,  ..., 0.5569, 0.5804, 0.5882],\n",
      "         [0.6039, 0.6157, 0.6157,  ..., 0.5725, 0.6000, 0.6078],\n",
      "         [0.6118, 0.6353, 0.6353,  ..., 0.5843, 0.6157, 0.6275],\n",
      "         ...,\n",
      "         [0.4196, 0.4353, 0.4431,  ..., 0.2118, 0.1373, 0.0471],\n",
      "         [0.4196, 0.4000, 0.4039,  ..., 0.1765, 0.1882, 0.1412],\n",
      "         [0.4235, 0.4078, 0.4706,  ..., 0.1176, 0.1804, 0.2863]],\n",
      "\n",
      "        [[0.5255, 0.5412, 0.5569,  ..., 0.4392, 0.4824, 0.5059],\n",
      "         [0.5333, 0.5490, 0.5490,  ..., 0.4588, 0.5059, 0.5294],\n",
      "         [0.5490, 0.5686, 0.5569,  ..., 0.4863, 0.5255, 0.5490],\n",
      "         ...,\n",
      "         [0.4824, 0.4627, 0.4510,  ..., 0.2745, 0.2000, 0.0980],\n",
      "         [0.4314, 0.4353, 0.4471,  ..., 0.1647, 0.1490, 0.1176],\n",
      "         [0.4196, 0.4196, 0.4902,  ..., 0.1098, 0.1255, 0.2431]],\n",
      "\n",
      "        [[0.5137, 0.5216, 0.5176,  ..., 0.4275, 0.4706, 0.5059],\n",
      "         [0.5255, 0.5216, 0.4980,  ..., 0.4392, 0.4824, 0.5176],\n",
      "         [0.5176, 0.5176, 0.4784,  ..., 0.4588, 0.4980, 0.5294],\n",
      "         ...,\n",
      "         [0.3686, 0.3686, 0.3216,  ..., 0.4275, 0.3451, 0.3176],\n",
      "         [0.3098, 0.3294, 0.3255,  ..., 0.2118, 0.1490, 0.1412],\n",
      "         [0.2353, 0.2863, 0.3882,  ..., 0.1373, 0.1255, 0.2078]]]), tensor(0))\n"
     ]
    },
    {
     "data": {
      "image/png": "[encoded data removed]",
      "text/plain": [
       "<Figure size 432x288 with 1 Axes>"
      ]
     },
     "metadata": {
      "needs_background": "light"
     },
     "output_type": "display_data"
    }
   ],
   "source": [
    "img, label = test_ds[2]\n",
    "plt.imshow(img.permute(1, 2, 0).clamp(0, 1))\n",
    "print('Label:', train_ds[label], ', Predicted:', predict_image(img, model));"
   ]
  },
  {
   "cell_type": "code",
   "execution_count": null,
   "metadata": {
    "id": "ePt16-OmzS1i"
   },
   "outputs": [],
   "source": []
  },
  {
   "cell_type": "code",
   "execution_count": null,
   "metadata": {
    "id": "kZGqKD_fzSy6"
   },
   "outputs": [],
   "source": []
  },
  {
   "cell_type": "markdown",
   "metadata": {
    "id": "PS0sMfepRzpF"
   },
   "source": [
    "### First & Foremost Question: What are Nudibranchs/ Nudis/ Sea Slug?\n",
    "\n",
    "Nudibranchs are mollusks, an order of marine gastropods(snails), they are soft-bodied, often colourful, marine snails that lack a shell!\n",
    "\n",
    "About Their Population: Unknown!There are over 3000 different kinds of species all over the world and new ones are getting identified daily.\n",
    "\n",
    "COMMON NAME: Nudibranchs\n",
    "\n",
    "SCIENTIFIC NAME: Nudibranchia\n",
    "\n",
    "TYPE: Invertebrates\n",
    "\n",
    "DIET: Carnivore\n",
    "\n",
    "AVERAGE LIFE SPAN IN THE WILD: Up to 1 years\n",
    "\n",
    "SIZE: 0.25 to 12 inches\n",
    "\n",
    "WEIGHT: Up to 3.3 pounds"
   ]
  },
  {
   "cell_type": "markdown",
   "metadata": {
    "id": "DL8NZM2BRzpG"
   },
   "source": [
    "### Scientific Classifiaction!\n",
    "Kingdom: Animalia\n",
    "\n",
    "Phylum: Mollusca\n",
    "\n",
    "Class: Gastropoda\n",
    "\n",
    "Subclass: Heterobranchia\n",
    "\n",
    "Order: Opisthobranchia\n",
    "\n",
    "suborder: Nudibranchia"
   ]
  },
  {
   "cell_type": "markdown",
   "metadata": {
    "id": "XoAd1JLjRzpG"
   },
   "source": [
    "### Some websites you wanna check which  i follow :\n",
    "1. http://www.nudibranch.com.au/specieslist.html(based on Indo-Pacific, Australia)\n",
    "2. https://www.nationalgeographic.com/animals/invertebrates/group/nudibranchs/\n",
    "3. https://www.thoughtco.com/facts-about-nudibranchs-2291859\n",
    "4. http://svocelot.com/Underwater/Nudibranchs.htm\n",
    "5. https://magicoceans.online/nudibranchs \n",
    "6. http://www.seaslugforum.net/"
   ]
  },
  {
   "cell_type": "markdown",
   "metadata": {
    "id": "B96CclbzRzpH"
   },
   "source": [
    "#### To read PDF documnetation!\n"
   ]
  },
  {
   "cell_type": "code",
   "execution_count": null,
   "metadata": {
    "executionInfo": {
     "elapsed": 74,
     "status": "aborted",
     "timestamp": 1636224780674,
     "user": {
      "displayName": "Mariha Tabassum",
      "photoUrl": "https://lh3.googleusercontent.com/a-/AOh14Gjwsopeh-iYNtF4s4wBJmiMIRSh1UxQO_hmmDWRoQ=s64",
      "userId": "00329422506247154064"
     },
     "user_tz": -360
    },
    "id": "o5aof8KYRzpI"
   },
   "outputs": [],
   "source": [
    "import matplotlib.image as mpimg"
   ]
  },
  {
   "cell_type": "markdown",
   "metadata": {
    "id": "I3H_Gv4yRzpJ"
   },
   "source": [
    "### Note To Myself: \n",
    "In this notebook i have choosen few species to work with...depending on their visuality and color patterens!\n"
   ]
  },
  {
   "cell_type": "markdown",
   "metadata": {
    "id": "hFQMtZnwRzpJ"
   },
   "source": [
    "### Nudibranch Types and Body parts!\n",
    "\"There are two main types of nudibranchs: dorid nudibranchs look fairly smooth, with a tuft of feather-like gills toward the back of the animal that are used to breathe. Aeolid nudibranchs instead breathe with organs called cerata covering their backs.\"  source: https://ocean.si.edu/ocean-life/invertebrates/collage-nudibranch-colors\n",
    "\n",
    "\"This large group can be divided into four main types (Suborders) on the basis of their general appearance. The harlequin nudibranchs (Doridaceans) are by far the most numerous. Most are characterized by the combination of a pair of tentacles (rhinophores) on top of the head and a tuft of feathery gills on the rear part of the back. However, certain species, known as phyllidiids, lack conspicuous gills and have lumpy ridges on the back. The Tubercular nudibranchs (Aeolidaceans) are second in abundance and the easiest group to recognize. They are covered with numerous finger-like appendages. The Back gilled nudibranchs (Dendrotaceans) have several feathery gills along each side of the back, as well as a cup-like sheath around each tentacle on top of the head. The last group, the Veiled nudibranchs (Arminaceans) is characterized by an expanded fleshy lobe on the head and longitudinal ridges along the back.\" source:http://www.nudibranch.com.au/aboutnudibranchs.html\n"
   ]
  },
  {
   "cell_type": "code",
   "execution_count": null,
   "metadata": {
    "executionInfo": {
     "elapsed": 75,
     "status": "aborted",
     "timestamp": 1636224780675,
     "user": {
      "displayName": "Mariha Tabassum",
      "photoUrl": "https://lh3.googleusercontent.com/a-/AOh14Gjwsopeh-iYNtF4s4wBJmiMIRSh1UxQO_hmmDWRoQ=s64",
      "userId": "00329422506247154064"
     },
     "user_tz": -360
    },
    "id": "aGoWGBw8RzpK"
   },
   "outputs": [],
   "source": [
    "# nudi body parts!\n",
    "mpimg.imread(\"nudi-body-parts.png\")"
   ]
  },
  {
   "cell_type": "code",
   "execution_count": null,
   "metadata": {
    "executionInfo": {
     "elapsed": 73,
     "status": "aborted",
     "timestamp": 1636224780675,
     "user": {
      "displayName": "Mariha Tabassum",
      "photoUrl": "https://lh3.googleusercontent.com/a-/AOh14Gjwsopeh-iYNtF4s4wBJmiMIRSh1UxQO_hmmDWRoQ=s64",
      "userId": "00329422506247154064"
     },
     "user_tz": -360
    },
    "id": "KzZCr5HyRzpM"
   },
   "outputs": [],
   "source": [
    "#to know the body parts of common nudi!\n",
    "nudi_body_parts_img=mpimg.imread(\"nudi-body-parts.png\")\n"
   ]
  },
  {
   "cell_type": "code",
   "execution_count": null,
   "metadata": {
    "executionInfo": {
     "elapsed": 73,
     "status": "aborted",
     "timestamp": 1636224780675,
     "user": {
      "displayName": "Mariha Tabassum",
      "photoUrl": "https://lh3.googleusercontent.com/a-/AOh14Gjwsopeh-iYNtF4s4wBJmiMIRSh1UxQO_hmmDWRoQ=s64",
      "userId": "00329422506247154064"
     },
     "user_tz": -360
    },
    "id": "9NntEuyuRzpN"
   },
   "outputs": [],
   "source": [
    "#just to have a glance about the appearence...of two types of nudi \n",
    "\n",
    "nudi_body_parts_img_plot= plt.imshow(nudi_body_parts_img)   "
   ]
  },
  {
   "cell_type": "code",
   "execution_count": null,
   "metadata": {
    "executionInfo": {
     "elapsed": 73,
     "status": "aborted",
     "timestamp": 1636224780676,
     "user": {
      "displayName": "Mariha Tabassum",
      "photoUrl": "https://lh3.googleusercontent.com/a-/AOh14Gjwsopeh-iYNtF4s4wBJmiMIRSh1UxQO_hmmDWRoQ=s64",
      "userId": "00329422506247154064"
     },
     "user_tz": -360
    },
    "id": "mCXzhiCrRzpO"
   },
   "outputs": [],
   "source": [
    "#Nudi species 1\n",
    "mpimg.imread(\"Doriprismatica_Atromarginata.jpg\")"
   ]
  },
  {
   "cell_type": "markdown",
   "metadata": {
    "id": "e2KLsWu-RzpP"
   },
   "source": [
    "#### Note: all imgaes have the dtype=uint8"
   ]
  },
  {
   "cell_type": "code",
   "execution_count": null,
   "metadata": {
    "executionInfo": {
     "elapsed": 72,
     "status": "aborted",
     "timestamp": 1636224780676,
     "user": {
      "displayName": "Mariha Tabassum",
      "photoUrl": "https://lh3.googleusercontent.com/a-/AOh14Gjwsopeh-iYNtF4s4wBJmiMIRSh1UxQO_hmmDWRoQ=s64",
      "userId": "00329422506247154064"
     },
     "user_tz": -360
    },
    "id": "Ov1viOvTRzpQ"
   },
   "outputs": [],
   "source": [
    "doriprismatica_img=mpimg.imread(\"Doriprismatica_Atromarginata.jpg\")"
   ]
  },
  {
   "cell_type": "code",
   "execution_count": null,
   "metadata": {
    "executionInfo": {
     "elapsed": 72,
     "status": "aborted",
     "timestamp": 1636224780677,
     "user": {
      "displayName": "Mariha Tabassum",
      "photoUrl": "https://lh3.googleusercontent.com/a-/AOh14Gjwsopeh-iYNtF4s4wBJmiMIRSh1UxQO_hmmDWRoQ=s64",
      "userId": "00329422506247154064"
     },
     "user_tz": -360
    },
    "id": "XV4C4tRnRzpR"
   },
   "outputs": [],
   "source": [
    "doriprismatica_img_plot=plt.imshow(doriprismatica_img)"
   ]
  },
  {
   "cell_type": "code",
   "execution_count": null,
   "metadata": {
    "executionInfo": {
     "elapsed": 71,
     "status": "aborted",
     "timestamp": 1636224780677,
     "user": {
      "displayName": "Mariha Tabassum",
      "photoUrl": "https://lh3.googleusercontent.com/a-/AOh14Gjwsopeh-iYNtF4s4wBJmiMIRSh1UxQO_hmmDWRoQ=s64",
      "userId": "00329422506247154064"
     },
     "user_tz": -360
    },
    "id": "F96E5YVmRzpT"
   },
   "outputs": [],
   "source": [
    "doriprismatica_img.shape"
   ]
  },
  {
   "cell_type": "code",
   "execution_count": null,
   "metadata": {
    "executionInfo": {
     "elapsed": 70,
     "status": "aborted",
     "timestamp": 1636224780677,
     "user": {
      "displayName": "Mariha Tabassum",
      "photoUrl": "https://lh3.googleusercontent.com/a-/AOh14Gjwsopeh-iYNtF4s4wBJmiMIRSh1UxQO_hmmDWRoQ=s64",
      "userId": "00329422506247154064"
     },
     "user_tz": -360
    },
    "id": "7hhnRpZWRzpT"
   },
   "outputs": [],
   "source": [
    "#Nudi species 2\n",
    "goniobranchus_s_img= mpimg.imread(\"Goniobranchus_Splendidus.jpg\")"
   ]
  },
  {
   "cell_type": "code",
   "execution_count": null,
   "metadata": {
    "executionInfo": {
     "elapsed": 70,
     "status": "aborted",
     "timestamp": 1636224780678,
     "user": {
      "displayName": "Mariha Tabassum",
      "photoUrl": "https://lh3.googleusercontent.com/a-/AOh14Gjwsopeh-iYNtF4s4wBJmiMIRSh1UxQO_hmmDWRoQ=s64",
      "userId": "00329422506247154064"
     },
     "user_tz": -360
    },
    "id": "v7sy3UfDRzpU"
   },
   "outputs": [],
   "source": [
    "goniobranchus_s_img_plot=plt.imshow(goniobranchus_s_img)"
   ]
  },
  {
   "cell_type": "code",
   "execution_count": null,
   "metadata": {
    "executionInfo": {
     "elapsed": 70,
     "status": "aborted",
     "timestamp": 1636224780678,
     "user": {
      "displayName": "Mariha Tabassum",
      "photoUrl": "https://lh3.googleusercontent.com/a-/AOh14Gjwsopeh-iYNtF4s4wBJmiMIRSh1UxQO_hmmDWRoQ=s64",
      "userId": "00329422506247154064"
     },
     "user_tz": -360
    },
    "id": "dZgHsuMqRzpU"
   },
   "outputs": [],
   "source": [
    "goniobfranchus_s_img.shape"
   ]
  },
  {
   "cell_type": "code",
   "execution_count": null,
   "metadata": {
    "executionInfo": {
     "elapsed": 69,
     "status": "aborted",
     "timestamp": 1636224780678,
     "user": {
      "displayName": "Mariha Tabassum",
      "photoUrl": "https://lh3.googleusercontent.com/a-/AOh14Gjwsopeh-iYNtF4s4wBJmiMIRSh1UxQO_hmmDWRoQ=s64",
      "userId": "00329422506247154064"
     },
     "user_tz": -360
    },
    "id": "JeqNKBh3RzpV"
   },
   "outputs": [],
   "source": [
    "#Nudi species 3\n",
    "costasiella_img= mpimg.imread(\"Costasiella_sp.jpg\")"
   ]
  },
  {
   "cell_type": "code",
   "execution_count": null,
   "metadata": {
    "executionInfo": {
     "elapsed": 69,
     "status": "aborted",
     "timestamp": 1636224780679,
     "user": {
      "displayName": "Mariha Tabassum",
      "photoUrl": "https://lh3.googleusercontent.com/a-/AOh14Gjwsopeh-iYNtF4s4wBJmiMIRSh1UxQO_hmmDWRoQ=s64",
      "userId": "00329422506247154064"
     },
     "user_tz": -360
    },
    "id": "m7onEIAbRzpV"
   },
   "outputs": [],
   "source": [
    "costasiella_img_plot= plt.imshow(costasiella_img)"
   ]
  },
  {
   "cell_type": "code",
   "execution_count": null,
   "metadata": {
    "executionInfo": {
     "elapsed": 68,
     "status": "aborted",
     "timestamp": 1636224780679,
     "user": {
      "displayName": "Mariha Tabassum",
      "photoUrl": "https://lh3.googleusercontent.com/a-/AOh14Gjwsopeh-iYNtF4s4wBJmiMIRSh1UxQO_hmmDWRoQ=s64",
      "userId": "00329422506247154064"
     },
     "user_tz": -360
    },
    "id": "r40WygvBRzpW"
   },
   "outputs": [],
   "source": [
    "costasiella_img.shape"
   ]
  },
  {
   "cell_type": "code",
   "execution_count": null,
   "metadata": {
    "executionInfo": {
     "elapsed": 67,
     "status": "aborted",
     "timestamp": 1636224780679,
     "user": {
      "displayName": "Mariha Tabassum",
      "photoUrl": "https://lh3.googleusercontent.com/a-/AOh14Gjwsopeh-iYNtF4s4wBJmiMIRSh1UxQO_hmmDWRoQ=s64",
      "userId": "00329422506247154064"
     },
     "user_tz": -360
    },
    "id": "alDt3rJ-RzpX"
   },
   "outputs": [],
   "source": [
    "#Nudi Species 4\n",
    "chromodoris_img=mpimg.imread(\"Chromodoris_Elizabethina.jpg\")"
   ]
  },
  {
   "cell_type": "code",
   "execution_count": null,
   "metadata": {
    "executionInfo": {
     "elapsed": 67,
     "status": "aborted",
     "timestamp": 1636224780680,
     "user": {
      "displayName": "Mariha Tabassum",
      "photoUrl": "https://lh3.googleusercontent.com/a-/AOh14Gjwsopeh-iYNtF4s4wBJmiMIRSh1UxQO_hmmDWRoQ=s64",
      "userId": "00329422506247154064"
     },
     "user_tz": -360
    },
    "id": "ORk_nl89RzpX"
   },
   "outputs": [],
   "source": [
    "chromodoris_img_plot =plt.imshow(chromodoris_img)"
   ]
  },
  {
   "cell_type": "code",
   "execution_count": null,
   "metadata": {
    "executionInfo": {
     "elapsed": 67,
     "status": "aborted",
     "timestamp": 1636224780680,
     "user": {
      "displayName": "Mariha Tabassum",
      "photoUrl": "https://lh3.googleusercontent.com/a-/AOh14Gjwsopeh-iYNtF4s4wBJmiMIRSh1UxQO_hmmDWRoQ=s64",
      "userId": "00329422506247154064"
     },
     "user_tz": -360
    },
    "id": "hwji6D2yRzpY"
   },
   "outputs": [],
   "source": [
    "chromodoris_img.shape"
   ]
  },
  {
   "cell_type": "code",
   "execution_count": null,
   "metadata": {
    "executionInfo": {
     "elapsed": 66,
     "status": "aborted",
     "timestamp": 1636224780680,
     "user": {
      "displayName": "Mariha Tabassum",
      "photoUrl": "https://lh3.googleusercontent.com/a-/AOh14Gjwsopeh-iYNtF4s4wBJmiMIRSh1UxQO_hmmDWRoQ=s64",
      "userId": "00329422506247154064"
     },
     "user_tz": -360
    },
    "id": "dBpZTMH1RzpY"
   },
   "outputs": [],
   "source": [
    "#Nudi Species 5\n",
    "phyllidia_img=mpimg.imread(\"Phyllidia_Ocellata.jpg\")"
   ]
  },
  {
   "cell_type": "code",
   "execution_count": null,
   "metadata": {
    "executionInfo": {
     "elapsed": 66,
     "status": "aborted",
     "timestamp": 1636224780681,
     "user": {
      "displayName": "Mariha Tabassum",
      "photoUrl": "https://lh3.googleusercontent.com/a-/AOh14Gjwsopeh-iYNtF4s4wBJmiMIRSh1UxQO_hmmDWRoQ=s64",
      "userId": "00329422506247154064"
     },
     "user_tz": -360
    },
    "id": "25TUlvX1RzpZ"
   },
   "outputs": [],
   "source": [
    "phyllidia_img_plot= plt.imshow(phyllidia_img)"
   ]
  },
  {
   "cell_type": "code",
   "execution_count": null,
   "metadata": {
    "executionInfo": {
     "elapsed": 65,
     "status": "aborted",
     "timestamp": 1636224780681,
     "user": {
      "displayName": "Mariha Tabassum",
      "photoUrl": "https://lh3.googleusercontent.com/a-/AOh14Gjwsopeh-iYNtF4s4wBJmiMIRSh1UxQO_hmmDWRoQ=s64",
      "userId": "00329422506247154064"
     },
     "user_tz": -360
    },
    "id": "SIFYLEg7Rzpa"
   },
   "outputs": [],
   "source": [
    "phyllidia_img.shape"
   ]
  },
  {
   "cell_type": "code",
   "execution_count": null,
   "metadata": {
    "executionInfo": {
     "elapsed": 66,
     "status": "aborted",
     "timestamp": 1636224780683,
     "user": {
      "displayName": "Mariha Tabassum",
      "photoUrl": "https://lh3.googleusercontent.com/a-/AOh14Gjwsopeh-iYNtF4s4wBJmiMIRSh1UxQO_hmmDWRoQ=s64",
      "userId": "00329422506247154064"
     },
     "user_tz": -360
    },
    "id": "Cfl1zcHgRzpa"
   },
   "outputs": [],
   "source": [
    "jovian.commit(project=project_name, \n",
    "              file=[\"nudi-body-parts.png\"],\n",
    "              file1=['Doriprismatica_Atromarginata.jpg'],\n",
    "              file2=[\"Goniobranchus_Splendidus.jpg\"], \n",
    "              file3=[\"Costasiella_sp.jpg\"], \n",
    "              file4=[\"Chromodoris_Elizabethina.jpg\"],\n",
    "              file5=[\"Phyllidia_Ocellata.jpg\"],\n",
    "              file6= [\"Nudibranch_Species_List.pdf\"])"
   ]
  },
  {
   "cell_type": "code",
   "execution_count": null,
   "metadata": {
    "executionInfo": {
     "elapsed": 66,
     "status": "aborted",
     "timestamp": 1636224780683,
     "user": {
      "displayName": "Mariha Tabassum",
      "photoUrl": "https://lh3.googleusercontent.com/a-/AOh14Gjwsopeh-iYNtF4s4wBJmiMIRSh1UxQO_hmmDWRoQ=s64",
      "userId": "00329422506247154064"
     },
     "user_tz": -360
    },
    "id": "xb7a1FKkRzpb"
   },
   "outputs": [],
   "source": [
    "import torch\n",
    "import torchvision\n",
    "import torch.nn as nn\n",
    "import matplotlib.pyplot as plt\n",
    "import torch.nn.functional as F\n",
    "from torchvision.datasets.utils import download_url\n",
    "from torch.utils.data import DataLoader, TensorDataset, random_split"
   ]
  },
  {
   "cell_type": "code",
   "execution_count": null,
   "metadata": {
    "executionInfo": {
     "elapsed": 66,
     "status": "aborted",
     "timestamp": 1636224780684,
     "user": {
      "displayName": "Mariha Tabassum",
      "photoUrl": "https://lh3.googleusercontent.com/a-/AOh14Gjwsopeh-iYNtF4s4wBJmiMIRSh1UxQO_hmmDWRoQ=s64",
      "userId": "00329422506247154064"
     },
     "user_tz": -360
    },
    "id": "zTY1dJA2Rzpc"
   },
   "outputs": [],
   "source": [
    "\n",
    "chromodoris_img.astype(\"float32\")"
   ]
  },
  {
   "cell_type": "code",
   "execution_count": null,
   "metadata": {
    "executionInfo": {
     "elapsed": 65,
     "status": "aborted",
     "timestamp": 1636224780684,
     "user": {
      "displayName": "Mariha Tabassum",
      "photoUrl": "https://lh3.googleusercontent.com/a-/AOh14Gjwsopeh-iYNtF4s4wBJmiMIRSh1UxQO_hmmDWRoQ=s64",
      "userId": "00329422506247154064"
     },
     "user_tz": -360
    },
    "id": "sZbvA5tgRzpd"
   },
   "outputs": [],
   "source": [
    "tensor_img_chromodoris=torch.from_numpy(chromodoris_img.astype(\"float32\"))\n",
    "tensor_img_chromodoris"
   ]
  },
  {
   "cell_type": "code",
   "execution_count": null,
   "metadata": {
    "executionInfo": {
     "elapsed": 64,
     "status": "aborted",
     "timestamp": 1636224780684,
     "user": {
      "displayName": "Mariha Tabassum",
      "photoUrl": "https://lh3.googleusercontent.com/a-/AOh14Gjwsopeh-iYNtF4s4wBJmiMIRSh1UxQO_hmmDWRoQ=s64",
      "userId": "00329422506247154064"
     },
     "user_tz": -360
    },
    "id": "UqSXcxWzRzpe"
   },
   "outputs": [],
   "source": [
    "tensor_img_phyllidia = torch.from_numpy(phyllidia_img.astype(\"float32\"))\n",
    "tensor_img_phyllidia"
   ]
  },
  {
   "cell_type": "code",
   "execution_count": null,
   "metadata": {
    "executionInfo": {
     "elapsed": 64,
     "status": "aborted",
     "timestamp": 1636224780685,
     "user": {
      "displayName": "Mariha Tabassum",
      "photoUrl": "https://lh3.googleusercontent.com/a-/AOh14Gjwsopeh-iYNtF4s4wBJmiMIRSh1UxQO_hmmDWRoQ=s64",
      "userId": "00329422506247154064"
     },
     "user_tz": -360
    },
    "id": "h3LDmyupRzpe"
   },
   "outputs": [],
   "source": [
    "tensor_img_costasiella=torch.from_numpy(costasiella_img)\n",
    "tensor_img_costasiella"
   ]
  },
  {
   "cell_type": "code",
   "execution_count": null,
   "metadata": {
    "executionInfo": {
     "elapsed": 63,
     "status": "aborted",
     "timestamp": 1636224780685,
     "user": {
      "displayName": "Mariha Tabassum",
      "photoUrl": "https://lh3.googleusercontent.com/a-/AOh14Gjwsopeh-iYNtF4s4wBJmiMIRSh1UxQO_hmmDWRoQ=s64",
      "userId": "00329422506247154064"
     },
     "user_tz": -360
    },
    "id": "9qRhjvVGRzpf"
   },
   "outputs": [],
   "source": [
    "tensor_img_goniobranchus_s =torch.from_numpy(goniobranchus_s_img.astype(\"float32\"))\n",
    "tensor_img_goniobranchus_s"
   ]
  },
  {
   "cell_type": "code",
   "execution_count": null,
   "metadata": {
    "executionInfo": {
     "elapsed": 63,
     "status": "aborted",
     "timestamp": 1636224780685,
     "user": {
      "displayName": "Mariha Tabassum",
      "photoUrl": "https://lh3.googleusercontent.com/a-/AOh14Gjwsopeh-iYNtF4s4wBJmiMIRSh1UxQO_hmmDWRoQ=s64",
      "userId": "00329422506247154064"
     },
     "user_tz": -360
    },
    "id": "YO3PovNMRzpg"
   },
   "outputs": [],
   "source": []
  },
  {
   "cell_type": "code",
   "execution_count": null,
   "metadata": {
    "executionInfo": {
     "elapsed": 63,
     "status": "aborted",
     "timestamp": 1636224780686,
     "user": {
      "displayName": "Mariha Tabassum",
      "photoUrl": "https://lh3.googleusercontent.com/a-/AOh14Gjwsopeh-iYNtF4s4wBJmiMIRSh1UxQO_hmmDWRoQ=s64",
      "userId": "00329422506247154064"
     },
     "user_tz": -360
    },
    "id": "-qQhOXssRzpg"
   },
   "outputs": [],
   "source": [
    "tensor_img_doriprismatica =torch.from_numpy(doriprismatica_img)"
   ]
  },
  {
   "cell_type": "code",
   "execution_count": null,
   "metadata": {
    "executionInfo": {
     "elapsed": 359,
     "status": "aborted",
     "timestamp": 1636224780983,
     "user": {
      "displayName": "Mariha Tabassum",
      "photoUrl": "https://lh3.googleusercontent.com/a-/AOh14Gjwsopeh-iYNtF4s4wBJmiMIRSh1UxQO_hmmDWRoQ=s64",
      "userId": "00329422506247154064"
     },
     "user_tz": -360
    },
    "id": "AOf7Y7phRzpg"
   },
   "outputs": [],
   "source": []
  }
 ],
 "metadata": {
  "accelerator": "GPU",
  "colab": {
   "collapsed_sections": [
    "PS0sMfepRzpF",
    "DL8NZM2BRzpG",
    "XoAd1JLjRzpG",
    "B96CclbzRzpH",
    "I3H_Gv4yRzpJ",
    "hFQMtZnwRzpJ",
    "e2KLsWu-RzpP"
   ],
   "name": "nudibranchs-image-identification.ipynb",
   "provenance": []
  },
  "language_info": {
   "codemirror_mode": {
    "name": "ipython",
    "version": 3
   },
   "file_extension": ".py",
   "mimetype": "text/x-python",
   "name": "python",
   "nbconvert_exporter": "python",
   "pygments_lexer": "ipython3",
   "version": "3.8.6"
  }
 },
 "nbformat": 4,
 "nbformat_minor": 0
}